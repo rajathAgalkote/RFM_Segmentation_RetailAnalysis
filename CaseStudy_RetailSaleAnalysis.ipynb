{
  "nbformat": 4,
  "nbformat_minor": 0,
  "metadata": {
    "colab": {
      "provenance": [],
      "collapsed_sections": [
        "gCX9965dhzqZ",
        "gIfDvo9L0UH2"
      ],
      "gpuType": "T4",
      "include_colab_link": true
    },
    "kernelspec": {
      "name": "python3",
      "display_name": "Python 3"
    },
    "language_info": {
      "name": "python"
    },
    "gpuClass": "standard",
    "accelerator": "TPU"
  },
  "cells": [
    {
      "cell_type": "markdown",
      "metadata": {
        "id": "view-in-github",
        "colab_type": "text"
      },
      "source": [
        "<a href=\"https://colab.research.google.com/github/rajathAgalkote/RFM_Segmentation_RetailAnalysis/blob/main/CaseStudy_RetailSaleAnalysis.ipynb\" target=\"_parent\"><img src=\"https://colab.research.google.com/assets/colab-badge.svg\" alt=\"Open In Colab\"/></a>"
      ]
    },
    {
      "cell_type": "markdown",
      "source": [
        "# **Project Name**    - Textile Chain Retail Analysis and Customer Segment Prediction\n",
        "\n"
      ],
      "metadata": {
        "id": "vncDsAP0Gaoa"
      }
    },
    {
      "cell_type": "markdown",
      "source": [
        "##### **Project Type**    - EDA & Classification"
      ],
      "metadata": {
        "id": "beRrZCGUAJYm"
      }
    },
    {
      "cell_type": "markdown",
      "source": [
        "# **Project Summary -**"
      ],
      "metadata": {
        "id": "FJNUwmbgGyua"
      }
    },
    {
      "cell_type": "markdown",
      "source": [
        "The objective of this project was to analyze a dataset containing customer transactions from a chain of retail stores, and to build classification models that predict customer purchase behavior. The dataset contained 1.1 million rows and 14 columns, with features such as customer ID, date of purchase, store ID, item ID, size, color, discount, price, and quantity.\n",
        "\n",
        "The project started with data wrangling operations, including identifying and handling missing and invalid values, converting textual data to lowercase, and creating a new feature called \"quantity\" to count the number of duplicates in the dataset. Due to the large size of the dataset, only a part of it was processed.\n",
        "\n",
        "Next, the RFM (Recency, Frequency, Monetary) segmentation technique was used to classify customers into different ranks based on their purchase behavior. Univariate and bivariate data visualization techniques were then used to understand the relationships between features. Insights were drawn from the analysis, including the fact that the majority of discounts were offered only on items of size 38, and that the majority of sales were generated from stores in the South zone.\n",
        "\n",
        "Based on the analysis, strategical recommendations were made for stores in each zone, and the dataset was preprocessed for building classification models. Categorical encoding was performed on relevant categorical variables, and three different classification models were built, including Logistic regression model, Random forest model, and XGB Classifier model.\n",
        "\n",
        "After evaluating the performance of the models using accuracy and cross-validation techniques, the XGB Classifier model was chosen as the final prediction model, with 75% accuracy on the train set and 72% accuracy on the test set. The final model was then used to predict customer purchase behavior, and strategical recommendations were made based on the predictions.\n",
        "\n",
        "Overall, the project involved data wrangling, data visualization, and machine learning techniques to analyze customer transactions and predict customer purchase behavior. The insights gained from the analysis were used to make strategical recommendations for improving sales and customer retention in the retail stores."
      ],
      "metadata": {
        "id": "F6v_1wHtG2nS"
      }
    },
    {
      "cell_type": "markdown",
      "source": [
        "# **Problem Statement**\n"
      ],
      "metadata": {
        "id": "yQaldy8SH6Dl"
      }
    },
    {
      "cell_type": "markdown",
      "source": [
        "A huge dataset of 1.1 million rows and 10 columns from a textile retail store was provided. The data contains information about customer transactions and various attributes related to each transaction. The company wants to analyze this data to gain insights into customer behavior and preferences in order to improve the store's marketing and sales strategies.\n",
        "\n",
        "The objective of this project is to perform Textile Chain Retail Analysis and Customer Segmentation by exploring the dataset and answering the following questions:\n",
        "\n",
        "* What is the sales trend of the store over time?\n",
        "* Who are the most valuable customers for the store?\n",
        "* How can we segment customers based on their buying behavior and preferences?\n",
        "* What are the most popular products and categories sold by the store?\n",
        "* What is the impact of discounts and promotions on customer purchases?\n",
        "* How can the store improve its marketing and sales strategies based on these insights?\n",
        "\n",
        "The project will involve data cleaning, data exploration, feature engineering, and data visualization techniques to gain insights into customer behavior and preferences. The ultimate goal is to provide actionable insights to the store that will help them improve their sales and marketing strategies and enhance customer satisfaction."
      ],
      "metadata": {
        "id": "DpeJGUA3kjGy"
      }
    },
    {
      "cell_type": "markdown",
      "source": [
        "# ***Project Implementation***"
      ],
      "metadata": {
        "id": "O_i_v8NEhb9l"
      }
    },
    {
      "cell_type": "markdown",
      "source": [
        "## ***1. Libraries and Dataset***"
      ],
      "metadata": {
        "id": "HhfV-JJviCcP"
      }
    },
    {
      "cell_type": "markdown",
      "source": [
        "### Import Libraries"
      ],
      "metadata": {
        "id": "Y3lxredqlCYt"
      }
    },
    {
      "cell_type": "code",
      "source": [
        "# Import Libraries\n",
        "\n",
        "# Importing data manipulation libraries\n",
        "import numpy as np\n",
        "import pandas as pd\n",
        "\n",
        "# importing os and glob module\n",
        "import os\n",
        "import glob\n",
        "\n",
        "# Importing drive to load datafiles\n",
        "from google.colab import drive\n",
        "\n",
        "# import ast(abstract syntax tree)\n",
        "import ast\n",
        "\n",
        "# importing data visualization modules\n",
        "import matplotlib.pyplot as plt\n",
        "import seaborn as sns\n",
        "\n",
        "# Model selection modules\n",
        "from sklearn.model_selection import GridSearchCV\n",
        "from sklearn.preprocessing import MinMaxScaler\n",
        "from sklearn.model_selection import train_test_split\n",
        "from sklearn.preprocessing import StandardScaler\n",
        "from sklearn.model_selection import cross_val_score\n",
        "from sklearn.metrics import classification_report\n",
        "from sklearn.metrics import confusion_matrix\n",
        "from sklearn.model_selection import RandomizedSearchCV\n",
        "\n",
        "# ML libraries\n",
        "from xgboost import XGBClassifier\n",
        "from sklearn.metrics import accuracy_score, classification_report\n",
        "from sklearn.tree import DecisionTreeClassifier\n",
        "from sklearn.ensemble import RandomForestClassifier\n",
        "from sklearn.neighbors import KNeighborsClassifier\n",
        "from sklearn.pipeline import make_pipeline\n",
        "from sklearn.ensemble import StackingClassifier\n",
        "from sklearn.impute import SimpleImputer\n",
        "from sklearn.model_selection import RepeatedStratifiedKFold\n",
        "from scipy import stats\n",
        "from sklearn.linear_model import LogisticRegression\n",
        "\n",
        "\n",
        "# Pickle library\n",
        "import pickle\n",
        "\n",
        "# Importing warnings library. The warnings module handles warnings in Python.\n",
        "import warnings\n",
        "warnings.filterwarnings('ignore')"
      ],
      "metadata": {
        "id": "M8Vqi-pPk-HR"
      },
      "execution_count": null,
      "outputs": []
    },
    {
      "cell_type": "code",
      "source": [
        "# Setting visualization style\n",
        "\n",
        "sns.set_style('whitegrid')\n",
        "plt.rcParams['font.size'] = 14\n",
        "plt.rcParams['figure.figsize'] = (7,4)\n",
        "plt.rcParams['figure.facecolor'] = '#00000000'\n",
        "plt.rcParams[\"figure.autolayout\"] = True"
      ],
      "metadata": {
        "id": "Ql62GeZR5ubH"
      },
      "execution_count": null,
      "outputs": []
    },
    {
      "cell_type": "markdown",
      "source": [
        "### Dataset Loading"
      ],
      "metadata": {
        "id": "3RnN4peoiCZX"
      }
    },
    {
      "cell_type": "code",
      "source": [
        "# Load Dataset\n",
        "# Mounting the Google Drive to access data.\n",
        "\n",
        "drive.mount('/content/drive')"
      ],
      "metadata": {
        "id": "4CkvbW_SlZ_R",
        "colab": {
          "base_uri": "https://localhost:8080/"
        },
        "outputId": "0b0e2829-75df-4540-b787-1e21a633f7e4"
      },
      "execution_count": null,
      "outputs": [
        {
          "output_type": "stream",
          "name": "stdout",
          "text": [
            "Mounted at /content/drive\n"
          ]
        }
      ]
    },
    {
      "cell_type": "markdown",
      "source": [
        "The dataset in this case isn't collective, its been stored in form of numerous csv files sub-categorized in 9 different domains. Hence, for loading the data we'll visit all the files individually and copy all articles to a dataframe along with their category."
      ],
      "metadata": {
        "id": "isJtL3MJz8op"
      }
    },
    {
      "cell_type": "code",
      "source": [
        "# merging the files\n",
        "joined_files = os.path.join(\"/content/drive/MyDrive/CapillaryTechnologies\", \"data_20*.csv\")"
      ],
      "metadata": {
        "id": "NaLTAh4J1_4P"
      },
      "execution_count": null,
      "outputs": []
    },
    {
      "cell_type": "code",
      "source": [
        "# A list of all joined files is returned\n",
        "joined_list = glob.glob(joined_files)\n",
        "\n",
        "joined_list"
      ],
      "metadata": {
        "colab": {
          "base_uri": "https://localhost:8080/"
        },
        "id": "iTe-qxkT1_xx",
        "outputId": "34d4cdc1-2065-48dc-fef3-856d949639e4"
      },
      "execution_count": null,
      "outputs": [
        {
          "output_type": "execute_result",
          "data": {
            "text/plain": [
              "['/content/drive/MyDrive/CapillaryTechnologies/data_2023.csv',\n",
              " '/content/drive/MyDrive/CapillaryTechnologies/data_2020.csv',\n",
              " '/content/drive/MyDrive/CapillaryTechnologies/data_2016.csv',\n",
              " '/content/drive/MyDrive/CapillaryTechnologies/data_2015.csv',\n",
              " '/content/drive/MyDrive/CapillaryTechnologies/data_2019.csv',\n",
              " '/content/drive/MyDrive/CapillaryTechnologies/data_2018.csv',\n",
              " '/content/drive/MyDrive/CapillaryTechnologies/data_2021.csv',\n",
              " '/content/drive/MyDrive/CapillaryTechnologies/data_2017.csv',\n",
              " '/content/drive/MyDrive/CapillaryTechnologies/data_2022.csv']"
            ]
          },
          "metadata": {},
          "execution_count": 5
        }
      ]
    },
    {
      "cell_type": "code",
      "source": [
        "# Finally, the files are joined\n",
        "df = pd.concat(map(pd.read_csv, joined_list), ignore_index=True)"
      ],
      "metadata": {
        "id": "7LimO4cR1_t3"
      },
      "execution_count": null,
      "outputs": []
    },
    {
      "cell_type": "markdown",
      "source": [
        "We have successfully concatenated all the datafiles into a single dataset. We will now do all operations on our 'df' dataframe. \n",
        "\n",
        "But before starting with data wrangling, let us explore our dataset and gain a good understanding of what we are dealing with."
      ],
      "metadata": {
        "id": "6kTbYF9r4QFm"
      }
    },
    {
      "cell_type": "code",
      "source": [
        "df = df[df['year'] == 2023].head(30000)"
      ],
      "metadata": {
        "id": "FCe4DudWQAJ1"
      },
      "execution_count": null,
      "outputs": []
    },
    {
      "cell_type": "markdown",
      "source": [
        "### Dataset First View"
      ],
      "metadata": {
        "id": "x71ZqKXriCWQ"
      }
    },
    {
      "cell_type": "code",
      "source": [
        "# Dataset First Look\n",
        "df.head()"
      ],
      "metadata": {
        "id": "LWNFOSvLl09H",
        "colab": {
          "base_uri": "https://localhost:8080/",
          "height": 337
        },
        "outputId": "dde4b5dd-6a8f-4143-917b-f2f69916f15f"
      },
      "execution_count": null,
      "outputs": [
        {
          "output_type": "execute_result",
          "data": {
            "text/plain": [
              "     user_id    bill_id  line_item_amount  bill_discount transaction_date  \\\n",
              "0  338305054  798647011         1123.5171            0.0       2023-01-12   \n",
              "1  365365630  797157768         1399.0000            0.0       2023-01-07   \n",
              "2  407108598  814538060          559.6000            0.0       2023-03-08   \n",
              "3  543246927  822669507          559.6000            0.0       2023-04-04   \n",
              "4  540422034  810351290          599.6000            0.0       2023-02-23   \n",
              "\n",
              "                              description         inventory_category colour  \\\n",
              "0     MTR ITMTR00047 Brooklyn FF Olive 30  Mens Trouser - Sportswear  Olive   \n",
              "1  MBL ITMBL00004 Regular Casual Black 32      Mens Belt - Jeanswear  Black   \n",
              "2  MBL ITMBL00004 Regular Casual Black 32      Mens Belt - Jeanswear  Black   \n",
              "3  MBL ITMBL00004 Regular Casual Black 32      Mens Belt - Jeanswear  Black   \n",
              "4         MSO ITMSO00037 Slim FF Beige 30                MENS SHORTS  Beige   \n",
              "\n",
              "  size zone_name  store_name  year  \n",
              "0   30     South  South_7154  2023  \n",
              "1   32      East   East_7096  2023  \n",
              "2   32     South  South_6018  2023  \n",
              "3   32     South  South_6034  2023  \n",
              "4   30     South  South_6028  2023  "
            ],
            "text/html": [
              "\n",
              "  <div id=\"df-eb9a07c6-00dc-4f47-8623-c4d251e5b7fc\">\n",
              "    <div class=\"colab-df-container\">\n",
              "      <div>\n",
              "<style scoped>\n",
              "    .dataframe tbody tr th:only-of-type {\n",
              "        vertical-align: middle;\n",
              "    }\n",
              "\n",
              "    .dataframe tbody tr th {\n",
              "        vertical-align: top;\n",
              "    }\n",
              "\n",
              "    .dataframe thead th {\n",
              "        text-align: right;\n",
              "    }\n",
              "</style>\n",
              "<table border=\"1\" class=\"dataframe\">\n",
              "  <thead>\n",
              "    <tr style=\"text-align: right;\">\n",
              "      <th></th>\n",
              "      <th>user_id</th>\n",
              "      <th>bill_id</th>\n",
              "      <th>line_item_amount</th>\n",
              "      <th>bill_discount</th>\n",
              "      <th>transaction_date</th>\n",
              "      <th>description</th>\n",
              "      <th>inventory_category</th>\n",
              "      <th>colour</th>\n",
              "      <th>size</th>\n",
              "      <th>zone_name</th>\n",
              "      <th>store_name</th>\n",
              "      <th>year</th>\n",
              "    </tr>\n",
              "  </thead>\n",
              "  <tbody>\n",
              "    <tr>\n",
              "      <th>0</th>\n",
              "      <td>338305054</td>\n",
              "      <td>798647011</td>\n",
              "      <td>1123.5171</td>\n",
              "      <td>0.0</td>\n",
              "      <td>2023-01-12</td>\n",
              "      <td>MTR ITMTR00047 Brooklyn FF Olive 30</td>\n",
              "      <td>Mens Trouser - Sportswear</td>\n",
              "      <td>Olive</td>\n",
              "      <td>30</td>\n",
              "      <td>South</td>\n",
              "      <td>South_7154</td>\n",
              "      <td>2023</td>\n",
              "    </tr>\n",
              "    <tr>\n",
              "      <th>1</th>\n",
              "      <td>365365630</td>\n",
              "      <td>797157768</td>\n",
              "      <td>1399.0000</td>\n",
              "      <td>0.0</td>\n",
              "      <td>2023-01-07</td>\n",
              "      <td>MBL ITMBL00004 Regular Casual Black 32</td>\n",
              "      <td>Mens Belt - Jeanswear</td>\n",
              "      <td>Black</td>\n",
              "      <td>32</td>\n",
              "      <td>East</td>\n",
              "      <td>East_7096</td>\n",
              "      <td>2023</td>\n",
              "    </tr>\n",
              "    <tr>\n",
              "      <th>2</th>\n",
              "      <td>407108598</td>\n",
              "      <td>814538060</td>\n",
              "      <td>559.6000</td>\n",
              "      <td>0.0</td>\n",
              "      <td>2023-03-08</td>\n",
              "      <td>MBL ITMBL00004 Regular Casual Black 32</td>\n",
              "      <td>Mens Belt - Jeanswear</td>\n",
              "      <td>Black</td>\n",
              "      <td>32</td>\n",
              "      <td>South</td>\n",
              "      <td>South_6018</td>\n",
              "      <td>2023</td>\n",
              "    </tr>\n",
              "    <tr>\n",
              "      <th>3</th>\n",
              "      <td>543246927</td>\n",
              "      <td>822669507</td>\n",
              "      <td>559.6000</td>\n",
              "      <td>0.0</td>\n",
              "      <td>2023-04-04</td>\n",
              "      <td>MBL ITMBL00004 Regular Casual Black 32</td>\n",
              "      <td>Mens Belt - Jeanswear</td>\n",
              "      <td>Black</td>\n",
              "      <td>32</td>\n",
              "      <td>South</td>\n",
              "      <td>South_6034</td>\n",
              "      <td>2023</td>\n",
              "    </tr>\n",
              "    <tr>\n",
              "      <th>4</th>\n",
              "      <td>540422034</td>\n",
              "      <td>810351290</td>\n",
              "      <td>599.6000</td>\n",
              "      <td>0.0</td>\n",
              "      <td>2023-02-23</td>\n",
              "      <td>MSO ITMSO00037 Slim FF Beige 30</td>\n",
              "      <td>MENS SHORTS</td>\n",
              "      <td>Beige</td>\n",
              "      <td>30</td>\n",
              "      <td>South</td>\n",
              "      <td>South_6028</td>\n",
              "      <td>2023</td>\n",
              "    </tr>\n",
              "  </tbody>\n",
              "</table>\n",
              "</div>\n",
              "      <button class=\"colab-df-convert\" onclick=\"convertToInteractive('df-eb9a07c6-00dc-4f47-8623-c4d251e5b7fc')\"\n",
              "              title=\"Convert this dataframe to an interactive table.\"\n",
              "              style=\"display:none;\">\n",
              "        \n",
              "  <svg xmlns=\"http://www.w3.org/2000/svg\" height=\"24px\"viewBox=\"0 0 24 24\"\n",
              "       width=\"24px\">\n",
              "    <path d=\"M0 0h24v24H0V0z\" fill=\"none\"/>\n",
              "    <path d=\"M18.56 5.44l.94 2.06.94-2.06 2.06-.94-2.06-.94-.94-2.06-.94 2.06-2.06.94zm-11 1L8.5 8.5l.94-2.06 2.06-.94-2.06-.94L8.5 2.5l-.94 2.06-2.06.94zm10 10l.94 2.06.94-2.06 2.06-.94-2.06-.94-.94-2.06-.94 2.06-2.06.94z\"/><path d=\"M17.41 7.96l-1.37-1.37c-.4-.4-.92-.59-1.43-.59-.52 0-1.04.2-1.43.59L10.3 9.45l-7.72 7.72c-.78.78-.78 2.05 0 2.83L4 21.41c.39.39.9.59 1.41.59.51 0 1.02-.2 1.41-.59l7.78-7.78 2.81-2.81c.8-.78.8-2.07 0-2.86zM5.41 20L4 18.59l7.72-7.72 1.47 1.35L5.41 20z\"/>\n",
              "  </svg>\n",
              "      </button>\n",
              "      \n",
              "  <style>\n",
              "    .colab-df-container {\n",
              "      display:flex;\n",
              "      flex-wrap:wrap;\n",
              "      gap: 12px;\n",
              "    }\n",
              "\n",
              "    .colab-df-convert {\n",
              "      background-color: #E8F0FE;\n",
              "      border: none;\n",
              "      border-radius: 50%;\n",
              "      cursor: pointer;\n",
              "      display: none;\n",
              "      fill: #1967D2;\n",
              "      height: 32px;\n",
              "      padding: 0 0 0 0;\n",
              "      width: 32px;\n",
              "    }\n",
              "\n",
              "    .colab-df-convert:hover {\n",
              "      background-color: #E2EBFA;\n",
              "      box-shadow: 0px 1px 2px rgba(60, 64, 67, 0.3), 0px 1px 3px 1px rgba(60, 64, 67, 0.15);\n",
              "      fill: #174EA6;\n",
              "    }\n",
              "\n",
              "    [theme=dark] .colab-df-convert {\n",
              "      background-color: #3B4455;\n",
              "      fill: #D2E3FC;\n",
              "    }\n",
              "\n",
              "    [theme=dark] .colab-df-convert:hover {\n",
              "      background-color: #434B5C;\n",
              "      box-shadow: 0px 1px 3px 1px rgba(0, 0, 0, 0.15);\n",
              "      filter: drop-shadow(0px 1px 2px rgba(0, 0, 0, 0.3));\n",
              "      fill: #FFFFFF;\n",
              "    }\n",
              "  </style>\n",
              "\n",
              "      <script>\n",
              "        const buttonEl =\n",
              "          document.querySelector('#df-eb9a07c6-00dc-4f47-8623-c4d251e5b7fc button.colab-df-convert');\n",
              "        buttonEl.style.display =\n",
              "          google.colab.kernel.accessAllowed ? 'block' : 'none';\n",
              "\n",
              "        async function convertToInteractive(key) {\n",
              "          const element = document.querySelector('#df-eb9a07c6-00dc-4f47-8623-c4d251e5b7fc');\n",
              "          const dataTable =\n",
              "            await google.colab.kernel.invokeFunction('convertToInteractive',\n",
              "                                                     [key], {});\n",
              "          if (!dataTable) return;\n",
              "\n",
              "          const docLinkHtml = 'Like what you see? Visit the ' +\n",
              "            '<a target=\"_blank\" href=https://colab.research.google.com/notebooks/data_table.ipynb>data table notebook</a>'\n",
              "            + ' to learn more about interactive tables.';\n",
              "          element.innerHTML = '';\n",
              "          dataTable['output_type'] = 'display_data';\n",
              "          await google.colab.output.renderOutput(dataTable, element);\n",
              "          const docLink = document.createElement('div');\n",
              "          docLink.innerHTML = docLinkHtml;\n",
              "          element.appendChild(docLink);\n",
              "        }\n",
              "      </script>\n",
              "    </div>\n",
              "  </div>\n",
              "  "
            ]
          },
          "metadata": {},
          "execution_count": 8
        }
      ]
    },
    {
      "cell_type": "markdown",
      "source": [
        "### Dataset Rows & Columns count"
      ],
      "metadata": {
        "id": "7hBIi_osiCS2"
      }
    },
    {
      "cell_type": "markdown",
      "source": [
        "We will check the number of rows and columns using shape function."
      ],
      "metadata": {
        "id": "Hc83GPln3xmY"
      }
    },
    {
      "cell_type": "code",
      "source": [
        "# Dataset Rows & Columns count\n",
        "df.shape"
      ],
      "metadata": {
        "id": "Kllu7SJgmLij",
        "colab": {
          "base_uri": "https://localhost:8080/"
        },
        "outputId": "e0f6f65f-8a75-4f45-c77d-4d87b4445fc3"
      },
      "execution_count": null,
      "outputs": [
        {
          "output_type": "execute_result",
          "data": {
            "text/plain": [
              "(30000, 12)"
            ]
          },
          "metadata": {},
          "execution_count": 9
        }
      ]
    },
    {
      "cell_type": "markdown",
      "source": [
        "We have a total of 1.1 Million rows and 12 features."
      ],
      "metadata": {
        "id": "mcBcGwm_42N2"
      }
    },
    {
      "cell_type": "markdown",
      "source": [
        "### Dataset Information"
      ],
      "metadata": {
        "id": "JlHwYmJAmNHm"
      }
    },
    {
      "cell_type": "markdown",
      "source": [
        "It is useful to first understand the data that you're dealing with along with the data types of each column. The data types may dictate how you transform and engineer features.\n",
        "\n",
        "To get an overview of the data types within a data frame, use the info() method."
      ],
      "metadata": {
        "id": "4MX5afIe3tl_"
      }
    },
    {
      "cell_type": "code",
      "source": [
        "# Dataset Info\n",
        "df.info()"
      ],
      "metadata": {
        "id": "e9hRXRi6meOf",
        "colab": {
          "base_uri": "https://localhost:8080/"
        },
        "outputId": "0aa149f8-e89f-4c9b-a735-d65483499733"
      },
      "execution_count": null,
      "outputs": [
        {
          "output_type": "stream",
          "name": "stdout",
          "text": [
            "<class 'pandas.core.frame.DataFrame'>\n",
            "Int64Index: 30000 entries, 0 to 29999\n",
            "Data columns (total 12 columns):\n",
            " #   Column              Non-Null Count  Dtype  \n",
            "---  ------              --------------  -----  \n",
            " 0   user_id             30000 non-null  int64  \n",
            " 1   bill_id             30000 non-null  int64  \n",
            " 2   line_item_amount    30000 non-null  float64\n",
            " 3   bill_discount       30000 non-null  float64\n",
            " 4   transaction_date    30000 non-null  object \n",
            " 5   description         30000 non-null  object \n",
            " 6   inventory_category  28847 non-null  object \n",
            " 7   colour              23597 non-null  object \n",
            " 8   size                23597 non-null  object \n",
            " 9   zone_name           30000 non-null  object \n",
            " 10  store_name          30000 non-null  object \n",
            " 11  year                30000 non-null  int64  \n",
            "dtypes: float64(2), int64(3), object(7)\n",
            "memory usage: 3.0+ MB\n"
          ]
        }
      ]
    },
    {
      "cell_type": "markdown",
      "source": [
        "We need to convert year and transaction_date feature to 'datetime' format. We will do it during data wrangling."
      ],
      "metadata": {
        "id": "m681aes15JnW"
      }
    },
    {
      "cell_type": "markdown",
      "source": [
        "#### Duplicate Values"
      ],
      "metadata": {
        "id": "35m5QtbWiB9F"
      }
    },
    {
      "cell_type": "code",
      "source": [
        "# Dataset Duplicate Value Count\n",
        "df[df.duplicated()]"
      ],
      "metadata": {
        "id": "1sLdpKYkmox0",
        "colab": {
          "base_uri": "https://localhost:8080/",
          "height": 901
        },
        "outputId": "9c17d015-25f1-4433-f702-19d4c9313359"
      },
      "execution_count": null,
      "outputs": [
        {
          "output_type": "execute_result",
          "data": {
            "text/plain": [
              "         user_id    bill_id  line_item_amount  bill_discount transaction_date  \\\n",
              "17     408095855  798996948         1083.8290            0.0       2023-01-13   \n",
              "23     456232030  818602845         1267.2536            0.0       2023-03-21   \n",
              "28     451126097  809000596         1265.4523            0.0       2023-02-18   \n",
              "40     486631229  800169427         1273.7320            0.0       2023-01-17   \n",
              "41     486631229  800169427         1273.7320            0.0       2023-01-17   \n",
              "...          ...        ...               ...            ...              ...   \n",
              "29973  536181587  798475183         1424.9547            0.0       2023-01-12   \n",
              "29979  499993097  795461049         1591.6637            0.0       2023-01-01   \n",
              "29986  491597751  795499171         1487.9771            0.0       2023-01-01   \n",
              "29988  536527658  800019661         1507.1952            0.0       2023-01-17   \n",
              "29989  536527658  800019661         1507.1952            0.0       2023-01-17   \n",
              "\n",
              "                               description  \\\n",
              "17     MTR ITMTR00284 Brooklyn FF Black 38   \n",
              "23     MTR ITMTR00284 Brooklyn FF Black 38   \n",
              "28     MTR ITMTR00284 Brooklyn FF Black 38   \n",
              "40     MTR ITMTR00284 Brooklyn FF Black 38   \n",
              "41     MTR ITMTR00284 Brooklyn FF Black 38   \n",
              "...                                    ...   \n",
              "29973        MSH ITMSH04714 Slim LS Ecru M   \n",
              "29979        MSH ITMSH04714 Slim LS Ecru M   \n",
              "29986        MSH ITMSH04714 Slim LS Ecru M   \n",
              "29988        MSH ITMSH04714 Slim LS Ecru M   \n",
              "29989        MSH ITMSH04714 Slim LS Ecru M   \n",
              "\n",
              "                        inventory_category        colour          size  \\\n",
              "17     MTR ITMTR00284 Brooklyn FF Black 38         Black            38   \n",
              "23     MTR ITMTR00284 Brooklyn FF Black 38         Black            38   \n",
              "28     MTR ITMTR00284 Brooklyn FF Black 38         Black            38   \n",
              "40     MTR ITMTR00284 Brooklyn FF Black 38         Black            38   \n",
              "41     MTR ITMTR00284 Brooklyn FF Black 38         Black            38   \n",
              "...                                    ...           ...           ...   \n",
              "29973        MSH ITMSH04714 Slim LS Ecru M  NOT-CAPTURED  NOT-CAPTURED   \n",
              "29979        MSH ITMSH04714 Slim LS Ecru M  NOT-CAPTURED  NOT-CAPTURED   \n",
              "29986        MSH ITMSH04714 Slim LS Ecru M  NOT-CAPTURED  NOT-CAPTURED   \n",
              "29988        MSH ITMSH04714 Slim LS Ecru M  NOT-CAPTURED  NOT-CAPTURED   \n",
              "29989        MSH ITMSH04714 Slim LS Ecru M  NOT-CAPTURED  NOT-CAPTURED   \n",
              "\n",
              "      zone_name  store_name  year  \n",
              "17        South  South_7184  2023  \n",
              "23        South  South_6034  2023  \n",
              "28        South  South_6034  2023  \n",
              "40        South  South_7348  2023  \n",
              "41        South  South_7348  2023  \n",
              "...         ...         ...   ...  \n",
              "29973     North  North_7289  2023  \n",
              "29979     South  South_7120  2023  \n",
              "29986     South  South_7267  2023  \n",
              "29988      East   East_7007  2023  \n",
              "29989      East   East_7007  2023  \n",
              "\n",
              "[6433 rows x 12 columns]"
            ],
            "text/html": [
              "\n",
              "  <div id=\"df-5ecec325-51fb-4e85-9e46-ee55f6d9cdcb\">\n",
              "    <div class=\"colab-df-container\">\n",
              "      <div>\n",
              "<style scoped>\n",
              "    .dataframe tbody tr th:only-of-type {\n",
              "        vertical-align: middle;\n",
              "    }\n",
              "\n",
              "    .dataframe tbody tr th {\n",
              "        vertical-align: top;\n",
              "    }\n",
              "\n",
              "    .dataframe thead th {\n",
              "        text-align: right;\n",
              "    }\n",
              "</style>\n",
              "<table border=\"1\" class=\"dataframe\">\n",
              "  <thead>\n",
              "    <tr style=\"text-align: right;\">\n",
              "      <th></th>\n",
              "      <th>user_id</th>\n",
              "      <th>bill_id</th>\n",
              "      <th>line_item_amount</th>\n",
              "      <th>bill_discount</th>\n",
              "      <th>transaction_date</th>\n",
              "      <th>description</th>\n",
              "      <th>inventory_category</th>\n",
              "      <th>colour</th>\n",
              "      <th>size</th>\n",
              "      <th>zone_name</th>\n",
              "      <th>store_name</th>\n",
              "      <th>year</th>\n",
              "    </tr>\n",
              "  </thead>\n",
              "  <tbody>\n",
              "    <tr>\n",
              "      <th>17</th>\n",
              "      <td>408095855</td>\n",
              "      <td>798996948</td>\n",
              "      <td>1083.8290</td>\n",
              "      <td>0.0</td>\n",
              "      <td>2023-01-13</td>\n",
              "      <td>MTR ITMTR00284 Brooklyn FF Black 38</td>\n",
              "      <td>MTR ITMTR00284 Brooklyn FF Black 38</td>\n",
              "      <td>Black</td>\n",
              "      <td>38</td>\n",
              "      <td>South</td>\n",
              "      <td>South_7184</td>\n",
              "      <td>2023</td>\n",
              "    </tr>\n",
              "    <tr>\n",
              "      <th>23</th>\n",
              "      <td>456232030</td>\n",
              "      <td>818602845</td>\n",
              "      <td>1267.2536</td>\n",
              "      <td>0.0</td>\n",
              "      <td>2023-03-21</td>\n",
              "      <td>MTR ITMTR00284 Brooklyn FF Black 38</td>\n",
              "      <td>MTR ITMTR00284 Brooklyn FF Black 38</td>\n",
              "      <td>Black</td>\n",
              "      <td>38</td>\n",
              "      <td>South</td>\n",
              "      <td>South_6034</td>\n",
              "      <td>2023</td>\n",
              "    </tr>\n",
              "    <tr>\n",
              "      <th>28</th>\n",
              "      <td>451126097</td>\n",
              "      <td>809000596</td>\n",
              "      <td>1265.4523</td>\n",
              "      <td>0.0</td>\n",
              "      <td>2023-02-18</td>\n",
              "      <td>MTR ITMTR00284 Brooklyn FF Black 38</td>\n",
              "      <td>MTR ITMTR00284 Brooklyn FF Black 38</td>\n",
              "      <td>Black</td>\n",
              "      <td>38</td>\n",
              "      <td>South</td>\n",
              "      <td>South_6034</td>\n",
              "      <td>2023</td>\n",
              "    </tr>\n",
              "    <tr>\n",
              "      <th>40</th>\n",
              "      <td>486631229</td>\n",
              "      <td>800169427</td>\n",
              "      <td>1273.7320</td>\n",
              "      <td>0.0</td>\n",
              "      <td>2023-01-17</td>\n",
              "      <td>MTR ITMTR00284 Brooklyn FF Black 38</td>\n",
              "      <td>MTR ITMTR00284 Brooklyn FF Black 38</td>\n",
              "      <td>Black</td>\n",
              "      <td>38</td>\n",
              "      <td>South</td>\n",
              "      <td>South_7348</td>\n",
              "      <td>2023</td>\n",
              "    </tr>\n",
              "    <tr>\n",
              "      <th>41</th>\n",
              "      <td>486631229</td>\n",
              "      <td>800169427</td>\n",
              "      <td>1273.7320</td>\n",
              "      <td>0.0</td>\n",
              "      <td>2023-01-17</td>\n",
              "      <td>MTR ITMTR00284 Brooklyn FF Black 38</td>\n",
              "      <td>MTR ITMTR00284 Brooklyn FF Black 38</td>\n",
              "      <td>Black</td>\n",
              "      <td>38</td>\n",
              "      <td>South</td>\n",
              "      <td>South_7348</td>\n",
              "      <td>2023</td>\n",
              "    </tr>\n",
              "    <tr>\n",
              "      <th>...</th>\n",
              "      <td>...</td>\n",
              "      <td>...</td>\n",
              "      <td>...</td>\n",
              "      <td>...</td>\n",
              "      <td>...</td>\n",
              "      <td>...</td>\n",
              "      <td>...</td>\n",
              "      <td>...</td>\n",
              "      <td>...</td>\n",
              "      <td>...</td>\n",
              "      <td>...</td>\n",
              "      <td>...</td>\n",
              "    </tr>\n",
              "    <tr>\n",
              "      <th>29973</th>\n",
              "      <td>536181587</td>\n",
              "      <td>798475183</td>\n",
              "      <td>1424.9547</td>\n",
              "      <td>0.0</td>\n",
              "      <td>2023-01-12</td>\n",
              "      <td>MSH ITMSH04714 Slim LS Ecru M</td>\n",
              "      <td>MSH ITMSH04714 Slim LS Ecru M</td>\n",
              "      <td>NOT-CAPTURED</td>\n",
              "      <td>NOT-CAPTURED</td>\n",
              "      <td>North</td>\n",
              "      <td>North_7289</td>\n",
              "      <td>2023</td>\n",
              "    </tr>\n",
              "    <tr>\n",
              "      <th>29979</th>\n",
              "      <td>499993097</td>\n",
              "      <td>795461049</td>\n",
              "      <td>1591.6637</td>\n",
              "      <td>0.0</td>\n",
              "      <td>2023-01-01</td>\n",
              "      <td>MSH ITMSH04714 Slim LS Ecru M</td>\n",
              "      <td>MSH ITMSH04714 Slim LS Ecru M</td>\n",
              "      <td>NOT-CAPTURED</td>\n",
              "      <td>NOT-CAPTURED</td>\n",
              "      <td>South</td>\n",
              "      <td>South_7120</td>\n",
              "      <td>2023</td>\n",
              "    </tr>\n",
              "    <tr>\n",
              "      <th>29986</th>\n",
              "      <td>491597751</td>\n",
              "      <td>795499171</td>\n",
              "      <td>1487.9771</td>\n",
              "      <td>0.0</td>\n",
              "      <td>2023-01-01</td>\n",
              "      <td>MSH ITMSH04714 Slim LS Ecru M</td>\n",
              "      <td>MSH ITMSH04714 Slim LS Ecru M</td>\n",
              "      <td>NOT-CAPTURED</td>\n",
              "      <td>NOT-CAPTURED</td>\n",
              "      <td>South</td>\n",
              "      <td>South_7267</td>\n",
              "      <td>2023</td>\n",
              "    </tr>\n",
              "    <tr>\n",
              "      <th>29988</th>\n",
              "      <td>536527658</td>\n",
              "      <td>800019661</td>\n",
              "      <td>1507.1952</td>\n",
              "      <td>0.0</td>\n",
              "      <td>2023-01-17</td>\n",
              "      <td>MSH ITMSH04714 Slim LS Ecru M</td>\n",
              "      <td>MSH ITMSH04714 Slim LS Ecru M</td>\n",
              "      <td>NOT-CAPTURED</td>\n",
              "      <td>NOT-CAPTURED</td>\n",
              "      <td>East</td>\n",
              "      <td>East_7007</td>\n",
              "      <td>2023</td>\n",
              "    </tr>\n",
              "    <tr>\n",
              "      <th>29989</th>\n",
              "      <td>536527658</td>\n",
              "      <td>800019661</td>\n",
              "      <td>1507.1952</td>\n",
              "      <td>0.0</td>\n",
              "      <td>2023-01-17</td>\n",
              "      <td>MSH ITMSH04714 Slim LS Ecru M</td>\n",
              "      <td>MSH ITMSH04714 Slim LS Ecru M</td>\n",
              "      <td>NOT-CAPTURED</td>\n",
              "      <td>NOT-CAPTURED</td>\n",
              "      <td>East</td>\n",
              "      <td>East_7007</td>\n",
              "      <td>2023</td>\n",
              "    </tr>\n",
              "  </tbody>\n",
              "</table>\n",
              "<p>6433 rows × 12 columns</p>\n",
              "</div>\n",
              "      <button class=\"colab-df-convert\" onclick=\"convertToInteractive('df-5ecec325-51fb-4e85-9e46-ee55f6d9cdcb')\"\n",
              "              title=\"Convert this dataframe to an interactive table.\"\n",
              "              style=\"display:none;\">\n",
              "        \n",
              "  <svg xmlns=\"http://www.w3.org/2000/svg\" height=\"24px\"viewBox=\"0 0 24 24\"\n",
              "       width=\"24px\">\n",
              "    <path d=\"M0 0h24v24H0V0z\" fill=\"none\"/>\n",
              "    <path d=\"M18.56 5.44l.94 2.06.94-2.06 2.06-.94-2.06-.94-.94-2.06-.94 2.06-2.06.94zm-11 1L8.5 8.5l.94-2.06 2.06-.94-2.06-.94L8.5 2.5l-.94 2.06-2.06.94zm10 10l.94 2.06.94-2.06 2.06-.94-2.06-.94-.94-2.06-.94 2.06-2.06.94z\"/><path d=\"M17.41 7.96l-1.37-1.37c-.4-.4-.92-.59-1.43-.59-.52 0-1.04.2-1.43.59L10.3 9.45l-7.72 7.72c-.78.78-.78 2.05 0 2.83L4 21.41c.39.39.9.59 1.41.59.51 0 1.02-.2 1.41-.59l7.78-7.78 2.81-2.81c.8-.78.8-2.07 0-2.86zM5.41 20L4 18.59l7.72-7.72 1.47 1.35L5.41 20z\"/>\n",
              "  </svg>\n",
              "      </button>\n",
              "      \n",
              "  <style>\n",
              "    .colab-df-container {\n",
              "      display:flex;\n",
              "      flex-wrap:wrap;\n",
              "      gap: 12px;\n",
              "    }\n",
              "\n",
              "    .colab-df-convert {\n",
              "      background-color: #E8F0FE;\n",
              "      border: none;\n",
              "      border-radius: 50%;\n",
              "      cursor: pointer;\n",
              "      display: none;\n",
              "      fill: #1967D2;\n",
              "      height: 32px;\n",
              "      padding: 0 0 0 0;\n",
              "      width: 32px;\n",
              "    }\n",
              "\n",
              "    .colab-df-convert:hover {\n",
              "      background-color: #E2EBFA;\n",
              "      box-shadow: 0px 1px 2px rgba(60, 64, 67, 0.3), 0px 1px 3px 1px rgba(60, 64, 67, 0.15);\n",
              "      fill: #174EA6;\n",
              "    }\n",
              "\n",
              "    [theme=dark] .colab-df-convert {\n",
              "      background-color: #3B4455;\n",
              "      fill: #D2E3FC;\n",
              "    }\n",
              "\n",
              "    [theme=dark] .colab-df-convert:hover {\n",
              "      background-color: #434B5C;\n",
              "      box-shadow: 0px 1px 3px 1px rgba(0, 0, 0, 0.15);\n",
              "      filter: drop-shadow(0px 1px 2px rgba(0, 0, 0, 0.3));\n",
              "      fill: #FFFFFF;\n",
              "    }\n",
              "  </style>\n",
              "\n",
              "      <script>\n",
              "        const buttonEl =\n",
              "          document.querySelector('#df-5ecec325-51fb-4e85-9e46-ee55f6d9cdcb button.colab-df-convert');\n",
              "        buttonEl.style.display =\n",
              "          google.colab.kernel.accessAllowed ? 'block' : 'none';\n",
              "\n",
              "        async function convertToInteractive(key) {\n",
              "          const element = document.querySelector('#df-5ecec325-51fb-4e85-9e46-ee55f6d9cdcb');\n",
              "          const dataTable =\n",
              "            await google.colab.kernel.invokeFunction('convertToInteractive',\n",
              "                                                     [key], {});\n",
              "          if (!dataTable) return;\n",
              "\n",
              "          const docLinkHtml = 'Like what you see? Visit the ' +\n",
              "            '<a target=\"_blank\" href=https://colab.research.google.com/notebooks/data_table.ipynb>data table notebook</a>'\n",
              "            + ' to learn more about interactive tables.';\n",
              "          element.innerHTML = '';\n",
              "          dataTable['output_type'] = 'display_data';\n",
              "          await google.colab.output.renderOutput(dataTable, element);\n",
              "          const docLink = document.createElement('div');\n",
              "          docLink.innerHTML = docLinkHtml;\n",
              "          element.appendChild(docLink);\n",
              "        }\n",
              "      </script>\n",
              "    </div>\n",
              "  </div>\n",
              "  "
            ]
          },
          "metadata": {},
          "execution_count": 11
        }
      ]
    },
    {
      "cell_type": "code",
      "source": [
        "# Dataset Duplicate Value Count\n",
        "len(df[df.duplicated()])"
      ],
      "metadata": {
        "colab": {
          "base_uri": "https://localhost:8080/"
        },
        "id": "8DbOn4fO4s6y",
        "outputId": "69520b6d-5cc1-4506-bb37-5e7cd10d3c7b"
      },
      "execution_count": null,
      "outputs": [
        {
          "output_type": "execute_result",
          "data": {
            "text/plain": [
              "6433"
            ]
          },
          "metadata": {},
          "execution_count": 12
        }
      ]
    },
    {
      "cell_type": "markdown",
      "source": [
        "#### Missing Values/Null Values"
      ],
      "metadata": {
        "id": "PoPl-ycgm1ru"
      }
    },
    {
      "cell_type": "code",
      "source": [
        "# Missing Values/Null Values Count\n",
        "print(df.isnull().sum())"
      ],
      "metadata": {
        "id": "azi9mKW4Yd5a",
        "colab": {
          "base_uri": "https://localhost:8080/"
        },
        "outputId": "d06b6328-eb2d-4e90-87d0-6c853100d89e"
      },
      "execution_count": null,
      "outputs": [
        {
          "output_type": "stream",
          "name": "stdout",
          "text": [
            "user_id                  0\n",
            "bill_id                  0\n",
            "line_item_amount         0\n",
            "bill_discount            0\n",
            "transaction_date         0\n",
            "description              0\n",
            "inventory_category    1153\n",
            "colour                6403\n",
            "size                  6403\n",
            "zone_name                0\n",
            "store_name               0\n",
            "year                     0\n",
            "dtype: int64\n"
          ]
        }
      ]
    },
    {
      "cell_type": "markdown",
      "source": [
        "We have several missing/NULL values in inventory_category, colour and size features; and only a couple of Null values in description feature. These missing values will not have a major impact on our analysis and predictions. Hence, we will replace these with arbitrary values during wrangling operations."
      ],
      "metadata": {
        "id": "z9PHWmyu6Xi3"
      }
    },
    {
      "cell_type": "markdown",
      "source": [
        "**KINDLY NOTE** : There are other invalid entries in our dataset, which will be handled during wrangling/cleaning operations."
      ],
      "metadata": {
        "id": "4GDqZjp0_PeU"
      }
    },
    {
      "cell_type": "markdown",
      "source": [
        "## ***2. Understanding the Variables***"
      ],
      "metadata": {
        "id": "nA9Y7ga8ng1Z"
      }
    },
    {
      "cell_type": "code",
      "source": [
        "# Dataset Columns\n",
        "print(len(df.columns))\n",
        "df.columns"
      ],
      "metadata": {
        "id": "j7xfkqrt5Ag5",
        "colab": {
          "base_uri": "https://localhost:8080/"
        },
        "outputId": "344e08fe-19ff-4571-f5c0-fbe811821264"
      },
      "execution_count": null,
      "outputs": [
        {
          "output_type": "stream",
          "name": "stdout",
          "text": [
            "12\n"
          ]
        },
        {
          "output_type": "execute_result",
          "data": {
            "text/plain": [
              "Index(['user_id', 'bill_id', 'line_item_amount', 'bill_discount',\n",
              "       'transaction_date', 'description', 'inventory_category', 'colour',\n",
              "       'size', 'zone_name', 'store_name', 'year'],\n",
              "      dtype='object')"
            ]
          },
          "metadata": {},
          "execution_count": 14
        }
      ]
    },
    {
      "cell_type": "code",
      "source": [
        "# Dataset Describe\n",
        "df.describe().T"
      ],
      "metadata": {
        "id": "DnOaZdaE5Q5t",
        "colab": {
          "base_uri": "https://localhost:8080/",
          "height": 206
        },
        "outputId": "f8d60f09-0793-40b7-e319-658f0358638a"
      },
      "execution_count": null,
      "outputs": [
        {
          "output_type": "execute_result",
          "data": {
            "text/plain": [
              "                    count          mean           std          min  \\\n",
              "user_id           30000.0  4.622343e+08  1.134966e+08      55509.0   \n",
              "bill_id           30000.0  8.079496e+08  8.336690e+06  795241546.0   \n",
              "line_item_amount  30000.0  1.096597e+03  9.070830e+02          0.0   \n",
              "bill_discount     30000.0  7.294202e+01  5.383242e+02          0.0   \n",
              "year              30000.0  2.023000e+03  0.000000e+00       2023.0   \n",
              "\n",
              "                           25%           50%           75%           max  \n",
              "user_id           4.244975e+08  5.120955e+08  5.371888e+08  5.434322e+08  \n",
              "bill_id           8.001585e+08  8.071272e+08  8.152329e+08  8.235304e+08  \n",
              "line_item_amount  2.990000e+02  9.829956e+02  1.567339e+03  1.599600e+04  \n",
              "bill_discount     0.000000e+00  0.000000e+00  0.000000e+00  2.676972e+04  \n",
              "year              2.023000e+03  2.023000e+03  2.023000e+03  2.023000e+03  "
            ],
            "text/html": [
              "\n",
              "  <div id=\"df-2f2561d8-c7da-4eda-a508-da3ff2db5ea3\">\n",
              "    <div class=\"colab-df-container\">\n",
              "      <div>\n",
              "<style scoped>\n",
              "    .dataframe tbody tr th:only-of-type {\n",
              "        vertical-align: middle;\n",
              "    }\n",
              "\n",
              "    .dataframe tbody tr th {\n",
              "        vertical-align: top;\n",
              "    }\n",
              "\n",
              "    .dataframe thead th {\n",
              "        text-align: right;\n",
              "    }\n",
              "</style>\n",
              "<table border=\"1\" class=\"dataframe\">\n",
              "  <thead>\n",
              "    <tr style=\"text-align: right;\">\n",
              "      <th></th>\n",
              "      <th>count</th>\n",
              "      <th>mean</th>\n",
              "      <th>std</th>\n",
              "      <th>min</th>\n",
              "      <th>25%</th>\n",
              "      <th>50%</th>\n",
              "      <th>75%</th>\n",
              "      <th>max</th>\n",
              "    </tr>\n",
              "  </thead>\n",
              "  <tbody>\n",
              "    <tr>\n",
              "      <th>user_id</th>\n",
              "      <td>30000.0</td>\n",
              "      <td>4.622343e+08</td>\n",
              "      <td>1.134966e+08</td>\n",
              "      <td>55509.0</td>\n",
              "      <td>4.244975e+08</td>\n",
              "      <td>5.120955e+08</td>\n",
              "      <td>5.371888e+08</td>\n",
              "      <td>5.434322e+08</td>\n",
              "    </tr>\n",
              "    <tr>\n",
              "      <th>bill_id</th>\n",
              "      <td>30000.0</td>\n",
              "      <td>8.079496e+08</td>\n",
              "      <td>8.336690e+06</td>\n",
              "      <td>795241546.0</td>\n",
              "      <td>8.001585e+08</td>\n",
              "      <td>8.071272e+08</td>\n",
              "      <td>8.152329e+08</td>\n",
              "      <td>8.235304e+08</td>\n",
              "    </tr>\n",
              "    <tr>\n",
              "      <th>line_item_amount</th>\n",
              "      <td>30000.0</td>\n",
              "      <td>1.096597e+03</td>\n",
              "      <td>9.070830e+02</td>\n",
              "      <td>0.0</td>\n",
              "      <td>2.990000e+02</td>\n",
              "      <td>9.829956e+02</td>\n",
              "      <td>1.567339e+03</td>\n",
              "      <td>1.599600e+04</td>\n",
              "    </tr>\n",
              "    <tr>\n",
              "      <th>bill_discount</th>\n",
              "      <td>30000.0</td>\n",
              "      <td>7.294202e+01</td>\n",
              "      <td>5.383242e+02</td>\n",
              "      <td>0.0</td>\n",
              "      <td>0.000000e+00</td>\n",
              "      <td>0.000000e+00</td>\n",
              "      <td>0.000000e+00</td>\n",
              "      <td>2.676972e+04</td>\n",
              "    </tr>\n",
              "    <tr>\n",
              "      <th>year</th>\n",
              "      <td>30000.0</td>\n",
              "      <td>2.023000e+03</td>\n",
              "      <td>0.000000e+00</td>\n",
              "      <td>2023.0</td>\n",
              "      <td>2.023000e+03</td>\n",
              "      <td>2.023000e+03</td>\n",
              "      <td>2.023000e+03</td>\n",
              "      <td>2.023000e+03</td>\n",
              "    </tr>\n",
              "  </tbody>\n",
              "</table>\n",
              "</div>\n",
              "      <button class=\"colab-df-convert\" onclick=\"convertToInteractive('df-2f2561d8-c7da-4eda-a508-da3ff2db5ea3')\"\n",
              "              title=\"Convert this dataframe to an interactive table.\"\n",
              "              style=\"display:none;\">\n",
              "        \n",
              "  <svg xmlns=\"http://www.w3.org/2000/svg\" height=\"24px\"viewBox=\"0 0 24 24\"\n",
              "       width=\"24px\">\n",
              "    <path d=\"M0 0h24v24H0V0z\" fill=\"none\"/>\n",
              "    <path d=\"M18.56 5.44l.94 2.06.94-2.06 2.06-.94-2.06-.94-.94-2.06-.94 2.06-2.06.94zm-11 1L8.5 8.5l.94-2.06 2.06-.94-2.06-.94L8.5 2.5l-.94 2.06-2.06.94zm10 10l.94 2.06.94-2.06 2.06-.94-2.06-.94-.94-2.06-.94 2.06-2.06.94z\"/><path d=\"M17.41 7.96l-1.37-1.37c-.4-.4-.92-.59-1.43-.59-.52 0-1.04.2-1.43.59L10.3 9.45l-7.72 7.72c-.78.78-.78 2.05 0 2.83L4 21.41c.39.39.9.59 1.41.59.51 0 1.02-.2 1.41-.59l7.78-7.78 2.81-2.81c.8-.78.8-2.07 0-2.86zM5.41 20L4 18.59l7.72-7.72 1.47 1.35L5.41 20z\"/>\n",
              "  </svg>\n",
              "      </button>\n",
              "      \n",
              "  <style>\n",
              "    .colab-df-container {\n",
              "      display:flex;\n",
              "      flex-wrap:wrap;\n",
              "      gap: 12px;\n",
              "    }\n",
              "\n",
              "    .colab-df-convert {\n",
              "      background-color: #E8F0FE;\n",
              "      border: none;\n",
              "      border-radius: 50%;\n",
              "      cursor: pointer;\n",
              "      display: none;\n",
              "      fill: #1967D2;\n",
              "      height: 32px;\n",
              "      padding: 0 0 0 0;\n",
              "      width: 32px;\n",
              "    }\n",
              "\n",
              "    .colab-df-convert:hover {\n",
              "      background-color: #E2EBFA;\n",
              "      box-shadow: 0px 1px 2px rgba(60, 64, 67, 0.3), 0px 1px 3px 1px rgba(60, 64, 67, 0.15);\n",
              "      fill: #174EA6;\n",
              "    }\n",
              "\n",
              "    [theme=dark] .colab-df-convert {\n",
              "      background-color: #3B4455;\n",
              "      fill: #D2E3FC;\n",
              "    }\n",
              "\n",
              "    [theme=dark] .colab-df-convert:hover {\n",
              "      background-color: #434B5C;\n",
              "      box-shadow: 0px 1px 3px 1px rgba(0, 0, 0, 0.15);\n",
              "      filter: drop-shadow(0px 1px 2px rgba(0, 0, 0, 0.3));\n",
              "      fill: #FFFFFF;\n",
              "    }\n",
              "  </style>\n",
              "\n",
              "      <script>\n",
              "        const buttonEl =\n",
              "          document.querySelector('#df-2f2561d8-c7da-4eda-a508-da3ff2db5ea3 button.colab-df-convert');\n",
              "        buttonEl.style.display =\n",
              "          google.colab.kernel.accessAllowed ? 'block' : 'none';\n",
              "\n",
              "        async function convertToInteractive(key) {\n",
              "          const element = document.querySelector('#df-2f2561d8-c7da-4eda-a508-da3ff2db5ea3');\n",
              "          const dataTable =\n",
              "            await google.colab.kernel.invokeFunction('convertToInteractive',\n",
              "                                                     [key], {});\n",
              "          if (!dataTable) return;\n",
              "\n",
              "          const docLinkHtml = 'Like what you see? Visit the ' +\n",
              "            '<a target=\"_blank\" href=https://colab.research.google.com/notebooks/data_table.ipynb>data table notebook</a>'\n",
              "            + ' to learn more about interactive tables.';\n",
              "          element.innerHTML = '';\n",
              "          dataTable['output_type'] = 'display_data';\n",
              "          await google.colab.output.renderOutput(dataTable, element);\n",
              "          const docLink = document.createElement('div');\n",
              "          docLink.innerHTML = docLinkHtml;\n",
              "          element.appendChild(docLink);\n",
              "        }\n",
              "      </script>\n",
              "    </div>\n",
              "  </div>\n",
              "  "
            ]
          },
          "metadata": {},
          "execution_count": 15
        }
      ]
    },
    {
      "cell_type": "markdown",
      "source": [
        "### Check Unique Values for each variable."
      ],
      "metadata": {
        "id": "u3PMJOP6ngxN"
      }
    },
    {
      "cell_type": "code",
      "source": [
        "# Check Unique Values for each variable.\n",
        "df.nunique()"
      ],
      "metadata": {
        "id": "zms12Yq5n-jE",
        "colab": {
          "base_uri": "https://localhost:8080/"
        },
        "outputId": "e3a6da57-ce34-40af-e9c7-c08b1946e4e7"
      },
      "execution_count": null,
      "outputs": [
        {
          "output_type": "execute_result",
          "data": {
            "text/plain": [
              "user_id               19421\n",
              "bill_id               21239\n",
              "line_item_amount       6947\n",
              "bill_discount           471\n",
              "transaction_date         96\n",
              "description            1621\n",
              "inventory_category     1283\n",
              "colour                  100\n",
              "size                     27\n",
              "zone_name                 6\n",
              "store_name              245\n",
              "year                      1\n",
              "dtype: int64"
            ]
          },
          "metadata": {},
          "execution_count": 16
        }
      ]
    },
    {
      "cell_type": "markdown",
      "source": [
        "## 3. ***Data Wrangling***"
      ],
      "metadata": {
        "id": "dauF4eBmngu3"
      }
    },
    {
      "cell_type": "markdown",
      "source": [
        "### Data Wrangling Code"
      ],
      "metadata": {
        "id": "bKJF3rekwFvQ"
      }
    },
    {
      "cell_type": "markdown",
      "source": [
        "#### Changing dtypes "
      ],
      "metadata": {
        "id": "3ybnEo9rCQvq"
      }
    },
    {
      "cell_type": "markdown",
      "source": [
        "Let us begin wrangling by first converting year and transaction date into datetime64 format. We will also extract month and day as individual features and then drop transaction_date feature."
      ],
      "metadata": {
        "id": "WQOhFBHE81Z2"
      }
    },
    {
      "cell_type": "code",
      "source": [
        "#Changing datatype : date => object -> datetime64\n",
        "df = df.astype({\n",
        "    'year':'datetime64[ns]',\n",
        "    'transaction_date':'datetime64[ns]'\n",
        "})"
      ],
      "metadata": {
        "id": "wk-9a2fpoLcV"
      },
      "execution_count": null,
      "outputs": []
    },
    {
      "cell_type": "code",
      "source": [
        "df.info()"
      ],
      "metadata": {
        "colab": {
          "base_uri": "https://localhost:8080/"
        },
        "id": "n341ikxJCyac",
        "outputId": "48d406bd-953c-4c06-e699-de2bec3f809c"
      },
      "execution_count": null,
      "outputs": [
        {
          "output_type": "stream",
          "name": "stdout",
          "text": [
            "<class 'pandas.core.frame.DataFrame'>\n",
            "Int64Index: 30000 entries, 0 to 29999\n",
            "Data columns (total 12 columns):\n",
            " #   Column              Non-Null Count  Dtype         \n",
            "---  ------              --------------  -----         \n",
            " 0   user_id             30000 non-null  int64         \n",
            " 1   bill_id             30000 non-null  int64         \n",
            " 2   line_item_amount    30000 non-null  float64       \n",
            " 3   bill_discount       30000 non-null  float64       \n",
            " 4   transaction_date    30000 non-null  datetime64[ns]\n",
            " 5   description         30000 non-null  object        \n",
            " 6   inventory_category  28847 non-null  object        \n",
            " 7   colour              23597 non-null  object        \n",
            " 8   size                23597 non-null  object        \n",
            " 9   zone_name           30000 non-null  object        \n",
            " 10  store_name          30000 non-null  object        \n",
            " 11  year                30000 non-null  datetime64[ns]\n",
            "dtypes: datetime64[ns](2), float64(2), int64(2), object(6)\n",
            "memory usage: 3.0+ MB\n"
          ]
        }
      ]
    },
    {
      "cell_type": "markdown",
      "source": [
        "#### Creating quantity feature and removing duplicates"
      ],
      "metadata": {
        "id": "DCZZoWagCXVC"
      }
    },
    {
      "cell_type": "code",
      "source": [
        "# Create a new 'quantity' column with default value of 1\n",
        "df['quantity'] = 1\n",
        "\n",
        "# Group the dataframe by all columns except the 'quantity' column\n",
        "# and count the number of occurrences of each group\n",
        "counts = df.groupby(df.columns.tolist()[:-1]).size().reset_index(name='counts')\n",
        "\n",
        "# Iterate over each row of the counts dataframe and update the 'quantity'\n",
        "# column in the original dataframe for each matching group\n",
        "for i, row in counts.iterrows():\n",
        "    mask = (df.iloc[:, :-1] == row[:-1]).all(axis=1)\n",
        "    df.loc[mask, 'quantity'] = row['counts']\n",
        "\n",
        "# Drop the duplicate entries, keeping the first occurrence\n",
        "df.drop_duplicates(inplace=True, keep='first')"
      ],
      "metadata": {
        "id": "NIjUQ0Fk9ORB"
      },
      "execution_count": null,
      "outputs": []
    },
    {
      "cell_type": "markdown",
      "source": [
        "The above code had to iterate through 1.1 million rows and took an extensively long computing time, i.e., around 15 hours."
      ],
      "metadata": {
        "id": "6gjl7pNJWV-7"
      }
    },
    {
      "cell_type": "markdown",
      "source": [
        "Hence, we had to restart the project taking only 30000 rows from data_2023 csv."
      ],
      "metadata": {
        "id": "h8Gy67EQ9uX8"
      }
    },
    {
      "cell_type": "markdown",
      "source": [
        "We have now created a new feature that counts the number of duplicate entries as the \"quantity\" of items purchased. Also, the duplicate entries have now been dropped, which was a vital operation of our data wrangling code."
      ],
      "metadata": {
        "id": "jjJSh_m_WuGb"
      }
    },
    {
      "cell_type": "markdown",
      "source": [
        "Now, we will continue our data wrangling by first checking our df dataframe and verifying that there are no more duplicates in our dataset."
      ],
      "metadata": {
        "id": "ZnVQG8NTiaed"
      }
    },
    {
      "cell_type": "code",
      "source": [
        "df.columns"
      ],
      "metadata": {
        "id": "fdCft_iO9OEJ",
        "colab": {
          "base_uri": "https://localhost:8080/"
        },
        "outputId": "dedb3169-e550-4484-9df7-549821504d47"
      },
      "execution_count": null,
      "outputs": [
        {
          "output_type": "execute_result",
          "data": {
            "text/plain": [
              "Index(['user_id', 'bill_id', 'line_item_amount', 'bill_discount',\n",
              "       'transaction_date', 'description', 'inventory_category', 'colour',\n",
              "       'size', 'zone_name', 'store_name', 'year', 'quantity'],\n",
              "      dtype='object')"
            ]
          },
          "metadata": {},
          "execution_count": 20
        }
      ]
    },
    {
      "cell_type": "code",
      "source": [
        "# Checking unique values in quantity feature\n",
        "df['quantity'].unique()"
      ],
      "metadata": {
        "id": "dtoGuX2k9N_F",
        "colab": {
          "base_uri": "https://localhost:8080/"
        },
        "outputId": "5f9252ac-29d4-4930-ff97-3c6f14c77f26"
      },
      "execution_count": null,
      "outputs": [
        {
          "output_type": "execute_result",
          "data": {
            "text/plain": [
              "array([ 1,  2,  4,  3,  7,  6,  5,  8, 22, 33, 11, 16, 30, 10])"
            ]
          },
          "metadata": {},
          "execution_count": 21
        }
      ]
    },
    {
      "cell_type": "markdown",
      "source": [
        "There is now a new feature called quantity in our dataset."
      ],
      "metadata": {
        "id": "MqvITFFovsDL"
      }
    },
    {
      "cell_type": "code",
      "source": [
        "# Dataset Duplicate Value Count\n",
        "len(df[df.duplicated()])"
      ],
      "metadata": {
        "id": "cZYX4a9V9OBb",
        "colab": {
          "base_uri": "https://localhost:8080/"
        },
        "outputId": "60721c04-c4bd-4b5e-b349-c809591e7b69"
      },
      "execution_count": null,
      "outputs": [
        {
          "output_type": "execute_result",
          "data": {
            "text/plain": [
              "0"
            ]
          },
          "metadata": {},
          "execution_count": 22
        }
      ]
    },
    {
      "cell_type": "markdown",
      "source": [
        "#### Handling Missing values"
      ],
      "metadata": {
        "id": "pCZk6OCMClv8"
      }
    },
    {
      "cell_type": "markdown",
      "source": [
        "Next, we will handle the missing values. We have missing values in inventory_category, colour and size."
      ],
      "metadata": {
        "id": "f4mU8195biRP"
      }
    },
    {
      "cell_type": "markdown",
      "source": [
        "We have several entries in **colour** and **size** features that display \"NOT-CAPTURED\". We will replace it by NAN and consider it as NULL/Missing values"
      ],
      "metadata": {
        "id": "16149NwIXxkE"
      }
    },
    {
      "cell_type": "code",
      "source": [
        "# Replacing 'NOT-CAPTURED' by NaN\n",
        "df = df.replace('NOT-CAPTURED', np.nan)"
      ],
      "metadata": {
        "id": "G8BjAhUCYSNo"
      },
      "execution_count": null,
      "outputs": []
    },
    {
      "cell_type": "markdown",
      "source": [
        "We also have a few alphanumerical values in size feature, such as 2XL, XL, etc. We will substitute these values as follows:\n",
        "\n",
        "* EES - 32\n",
        "* XS and ES - 34\n",
        "* S\t- 36\t\n",
        "* M\t- 38\t\n",
        "* L\t- 40\t\n",
        "* EL and XL - 42\t\n",
        "* 2XL\tand EEL - 44\t\n",
        "* 3XL\t- 46\n",
        "* 5XL - 50\n",
        "* Foot and 23CM - NaN"
      ],
      "metadata": {
        "id": "naAl-DWXBl0N"
      }
    },
    {
      "cell_type": "code",
      "source": [
        "df['size'].unique()"
      ],
      "metadata": {
        "colab": {
          "base_uri": "https://localhost:8080/"
        },
        "id": "BEzpaPfNCnE1",
        "outputId": "51530503-1707-4e35-9923-4ea9f8246bbb"
      },
      "execution_count": null,
      "outputs": [
        {
          "output_type": "execute_result",
          "data": {
            "text/plain": [
              "array(['30', '32', 'L', '2XL', '40', '38', '36', '42', '34', 'XL', 'M',\n",
              "       'S', 'Foot', 'EEL', '44', 'EES', '46', '3XL', 'EL', 'ES', 'XS',\n",
              "       '28', '5XL', '23CM', nan, '4XL', '6XL'], dtype=object)"
            ]
          },
          "metadata": {},
          "execution_count": 24
        }
      ]
    },
    {
      "cell_type": "code",
      "source": [
        "# creating a dictionary to map the old values to the new values\n",
        "size_mapping = {'EES': 32, 'XS':34, 'ES': 34, 'S': 36, 'M': 38, 'L': 40, 'EL':42, 'XL': 42, '2XL': 44, 'EEL': 44, '3XL': 46, '4XL': 48, '5XL': 50, '6XL' : 52, 'Foot':None,'nan':np.nan, '23CM':np.nan}\n",
        "\n",
        "# replace the values using the mapping dictionary\n",
        "df['size'] = df['size'].replace(size_mapping)"
      ],
      "metadata": {
        "id": "MZZ2p3PlCm3F"
      },
      "execution_count": null,
      "outputs": []
    },
    {
      "cell_type": "code",
      "source": [
        "# Checking again for Missing Values/Null Values Count\n",
        "print(df.isnull().sum())"
      ],
      "metadata": {
        "id": "GgHWkxvamxVg",
        "colab": {
          "base_uri": "https://localhost:8080/"
        },
        "outputId": "d87239c2-fb14-4483-f9d4-6248cbac7d5e"
      },
      "execution_count": null,
      "outputs": [
        {
          "output_type": "stream",
          "name": "stdout",
          "text": [
            "user_id                   0\n",
            "bill_id                   0\n",
            "line_item_amount          0\n",
            "bill_discount             0\n",
            "transaction_date          0\n",
            "description               0\n",
            "inventory_category      848\n",
            "colour                22318\n",
            "size                  22326\n",
            "zone_name                 0\n",
            "store_name                0\n",
            "year                      0\n",
            "quantity                  0\n",
            "dtype: int64\n"
          ]
        }
      ]
    },
    {
      "cell_type": "code",
      "source": [
        "# Replacing None(object dtype) with NaN(float dtype) \n",
        "df['size'].replace({None: np.nan}, inplace=True)"
      ],
      "metadata": {
        "id": "GqbfeKbNH_mZ"
      },
      "execution_count": null,
      "outputs": []
    },
    {
      "cell_type": "code",
      "source": [
        "# Checking unique values in size feature to verify that it's cleaned\n",
        "df['size'].unique()"
      ],
      "metadata": {
        "colab": {
          "base_uri": "https://localhost:8080/"
        },
        "id": "yOhW7iVHICkd",
        "outputId": "882c7b6d-ab96-4fd4-fff7-0a34b05ac9b6"
      },
      "execution_count": null,
      "outputs": [
        {
          "output_type": "execute_result",
          "data": {
            "text/plain": [
              "array(['30', '32', 40, 44, '40', '38', '36', '42', '34', 42, 38, 36, nan,\n",
              "       '44', 32, '46', 46, 34, '28', 50, 48, 52], dtype=object)"
            ]
          },
          "metadata": {},
          "execution_count": 28
        }
      ]
    },
    {
      "cell_type": "markdown",
      "source": [
        "We will first handle the size category. We will check for the distribution of the feature and then handle it accordingly.\n",
        "\n",
        "if the missing values are randomly distributed and the feature has a normal distribution, then imputing the missing values with the mean might be reasonable. On the other hand, if the feature has a skewed distribution or contains outliers, it might be better to use the median for imputation, since it is less sensitive to outliers than the mean."
      ],
      "metadata": {
        "id": "a4q2u4l5BVNU"
      }
    },
    {
      "cell_type": "code",
      "source": [
        "# Changing datatype : size => object -> int64\n",
        "df = df.astype({\n",
        "    'size':'float64'\n",
        "})"
      ],
      "metadata": {
        "id": "bXC9C73Y9N8W"
      },
      "execution_count": null,
      "outputs": []
    },
    {
      "cell_type": "code",
      "source": [
        "# Plotting a distplot to observe the distribution of size feature\n",
        "sns.distplot(df['size'])\n",
        "plt.xlabel('Size')\n",
        "plt.ylabel('Frequency')\n",
        "plt.title('Size Distribution')\n",
        "plt.show()"
      ],
      "metadata": {
        "colab": {
          "base_uri": "https://localhost:8080/",
          "height": 395
        },
        "id": "-Sgqqo8iIPQ1",
        "outputId": "580d8644-c4f3-44b7-80ef-fb3ab0943344"
      },
      "execution_count": null,
      "outputs": [
        {
          "output_type": "display_data",
          "data": {
            "text/plain": [
              "<Figure size 700x400 with 1 Axes>"
            ],
            "image/png": "[encoded data removed]"
          },
          "metadata": {
            "needs_background": "light"
          }
        }
      ]
    },
    {
      "cell_type": "markdown",
      "source": [
        "The distribution is normal, and hence, we will replace NaN values by the mean of the feature, which is size '38'."
      ],
      "metadata": {
        "id": "_gA-6xT4KMdt"
      }
    },
    {
      "cell_type": "code",
      "source": [
        "df['size'].mean()"
      ],
      "metadata": {
        "colab": {
          "base_uri": "https://localhost:8080/"
        },
        "id": "hUvrccFQIPIW",
        "outputId": "434a5df3-d9b2-4a9f-de97-4e3dd5839aee"
      },
      "execution_count": null,
      "outputs": [
        {
          "output_type": "execute_result",
          "data": {
            "text/plain": [
              "38.288477034649475"
            ]
          },
          "metadata": {},
          "execution_count": 31
        }
      ]
    },
    {
      "cell_type": "code",
      "source": [
        "df['size'].replace({np.nan:38}, inplace=True)"
      ],
      "metadata": {
        "id": "EPe--QWCIO_q"
      },
      "execution_count": null,
      "outputs": []
    },
    {
      "cell_type": "markdown",
      "source": [
        "Now, we will handle colour feature. It has several unique entries, but 22318 out of 23567 entries are missing. Moreover, it is not a vital feature in our dataset. Hence, we will drop this entire feature to make sure that it doesn't interfere with our analysis and predictions."
      ],
      "metadata": {
        "id": "sDZCqzG9KwRQ"
      }
    },
    {
      "cell_type": "code",
      "source": [
        "# Dropping 'colour' feature\n",
        "df.drop('colour', axis=1, inplace=True)"
      ],
      "metadata": {
        "id": "SYyUjftLKpuN"
      },
      "execution_count": null,
      "outputs": []
    },
    {
      "cell_type": "markdown",
      "source": [
        "Now, let us handle the inventory_category feature. This feature has several unique entries in it. Although, this is not a vital feature in our analysis, we will not drop it until our EDA is complete. We will drop it before our predictions, since this feature will definitely interfere with predictions. For now, we will replace NULL values with 'Unknown' value."
      ],
      "metadata": {
        "id": "IH8pzR8RLmag"
      }
    },
    {
      "cell_type": "code",
      "source": [
        "# FillNa -> 'unknown'\n",
        "df['inventory_category'].fillna('unknown', inplace=True)"
      ],
      "metadata": {
        "id": "Fi0iDg_lKpkX"
      },
      "execution_count": null,
      "outputs": []
    },
    {
      "cell_type": "code",
      "source": [
        "df.isnull().sum()"
      ],
      "metadata": {
        "colab": {
          "base_uri": "https://localhost:8080/"
        },
        "id": "o5bmqy8oIO2p",
        "outputId": "506e5340-b628-4090-e01f-18e4b8569c58"
      },
      "execution_count": null,
      "outputs": [
        {
          "output_type": "execute_result",
          "data": {
            "text/plain": [
              "user_id               0\n",
              "bill_id               0\n",
              "line_item_amount      0\n",
              "bill_discount         0\n",
              "transaction_date      0\n",
              "description           0\n",
              "inventory_category    0\n",
              "size                  0\n",
              "zone_name             0\n",
              "store_name            0\n",
              "year                  0\n",
              "quantity              0\n",
              "dtype: int64"
            ]
          },
          "metadata": {},
          "execution_count": 35
        }
      ]
    },
    {
      "cell_type": "markdown",
      "source": [
        "**Now, there are no more missing values in our dataset.**"
      ],
      "metadata": {
        "id": "BPSv754QOY_f"
      }
    },
    {
      "cell_type": "markdown",
      "source": [
        "#### Dropping invalid rows"
      ],
      "metadata": {
        "id": "_uFQCg87XOMl"
      }
    },
    {
      "cell_type": "markdown",
      "source": [
        "In our dataset, we have some rows where line_item_amount has a value of 0.00\n",
        "\n",
        "But technically, this is not possible as any transaction value cannot be equal to zero. Hence, we will drop these rows and complete the cleaning process."
      ],
      "metadata": {
        "id": "BJzZvtKeXRs_"
      }
    },
    {
      "cell_type": "code",
      "source": [
        "df[df['line_item_amount']==0]"
      ],
      "metadata": {
        "colab": {
          "base_uri": "https://localhost:8080/",
          "height": 559
        },
        "id": "2FPSa83xXqY0",
        "outputId": "caa7e361-cc91-468a-8049-30dde970d138"
      },
      "execution_count": null,
      "outputs": [
        {
          "output_type": "execute_result",
          "data": {
            "text/plain": [
              "         user_id    bill_id  line_item_amount  bill_discount transaction_date  \\\n",
              "16661  463947150  805933363               0.0         1998.0       2023-02-07   \n",
              "16690  518747634  806176936               0.0         2299.0       2023-02-08   \n",
              "17656    4284888  799616419               0.0          999.0       2023-01-15   \n",
              "18248  405345543  799351821               0.0         2699.0       2023-01-14   \n",
              "20022  516805017  817672909               0.0         2499.0       2023-03-19   \n",
              "26942  338734213  801551524               0.0         1499.0       2023-01-22   \n",
              "\n",
              "                                 description  \\\n",
              "16661   mss itmss00160 regular ls grey mel m   \n",
              "16690           msh itmsh04498 slim ss sap m   \n",
              "17656  mwl itmwl00036 solids solids tan 23cm   \n",
              "18248           msh itmsh04505 slim ss red s   \n",
              "20022    mtr itmtr01168 brooklyn ff black 36   \n",
              "26942  mts itmts01221 stretch ss pep green l   \n",
              "\n",
              "                          inventory_category  size zone_name  store_name  \\\n",
              "16661   mss itmss00160 regular ls grey mel m  38.0      east   east_7404   \n",
              "16690           msh itmsh04498 slim ss sap m  38.0     south  south_7256   \n",
              "17656  mwl itmwl00036 solids solids tan 23cm  38.0     south  south_7458   \n",
              "18248           msh itmsh04505 slim ss red s  38.0     south  south_7489   \n",
              "20022    mtr itmtr01168 brooklyn ff black 36  38.0      west   west_7238   \n",
              "26942  mts itmts01221 regular ss pep green l  38.0     south  south_7256   \n",
              "\n",
              "                               year  quantity  \n",
              "16661 1970-01-01 00:00:00.000002023         1  \n",
              "16690 1970-01-01 00:00:00.000002023         1  \n",
              "17656 1970-01-01 00:00:00.000002023         1  \n",
              "18248 1970-01-01 00:00:00.000002023         6  \n",
              "20022 1970-01-01 00:00:00.000002023         1  \n",
              "26942 1970-01-01 00:00:00.000002023         2  "
            ],
            "text/html": [
              "\n",
              "  <div id=\"df-8526061d-9081-4db7-b07b-dcf0ea56e583\">\n",
              "    <div class=\"colab-df-container\">\n",
              "      <div>\n",
              "<style scoped>\n",
              "    .dataframe tbody tr th:only-of-type {\n",
              "        vertical-align: middle;\n",
              "    }\n",
              "\n",
              "    .dataframe tbody tr th {\n",
              "        vertical-align: top;\n",
              "    }\n",
              "\n",
              "    .dataframe thead th {\n",
              "        text-align: right;\n",
              "    }\n",
              "</style>\n",
              "<table border=\"1\" class=\"dataframe\">\n",
              "  <thead>\n",
              "    <tr style=\"text-align: right;\">\n",
              "      <th></th>\n",
              "      <th>user_id</th>\n",
              "      <th>bill_id</th>\n",
              "      <th>line_item_amount</th>\n",
              "      <th>bill_discount</th>\n",
              "      <th>transaction_date</th>\n",
              "      <th>description</th>\n",
              "      <th>inventory_category</th>\n",
              "      <th>size</th>\n",
              "      <th>zone_name</th>\n",
              "      <th>store_name</th>\n",
              "      <th>year</th>\n",
              "      <th>quantity</th>\n",
              "    </tr>\n",
              "  </thead>\n",
              "  <tbody>\n",
              "    <tr>\n",
              "      <th>16661</th>\n",
              "      <td>463947150</td>\n",
              "      <td>805933363</td>\n",
              "      <td>0.0</td>\n",
              "      <td>1998.0</td>\n",
              "      <td>2023-02-07</td>\n",
              "      <td>mss itmss00160 regular ls grey mel m</td>\n",
              "      <td>mss itmss00160 regular ls grey mel m</td>\n",
              "      <td>38.0</td>\n",
              "      <td>east</td>\n",
              "      <td>east_7404</td>\n",
              "      <td>1970-01-01 00:00:00.000002023</td>\n",
              "      <td>1</td>\n",
              "    </tr>\n",
              "    <tr>\n",
              "      <th>16690</th>\n",
              "      <td>518747634</td>\n",
              "      <td>806176936</td>\n",
              "      <td>0.0</td>\n",
              "      <td>2299.0</td>\n",
              "      <td>2023-02-08</td>\n",
              "      <td>msh itmsh04498 slim ss sap m</td>\n",
              "      <td>msh itmsh04498 slim ss sap m</td>\n",
              "      <td>38.0</td>\n",
              "      <td>south</td>\n",
              "      <td>south_7256</td>\n",
              "      <td>1970-01-01 00:00:00.000002023</td>\n",
              "      <td>1</td>\n",
              "    </tr>\n",
              "    <tr>\n",
              "      <th>17656</th>\n",
              "      <td>4284888</td>\n",
              "      <td>799616419</td>\n",
              "      <td>0.0</td>\n",
              "      <td>999.0</td>\n",
              "      <td>2023-01-15</td>\n",
              "      <td>mwl itmwl00036 solids solids tan 23cm</td>\n",
              "      <td>mwl itmwl00036 solids solids tan 23cm</td>\n",
              "      <td>38.0</td>\n",
              "      <td>south</td>\n",
              "      <td>south_7458</td>\n",
              "      <td>1970-01-01 00:00:00.000002023</td>\n",
              "      <td>1</td>\n",
              "    </tr>\n",
              "    <tr>\n",
              "      <th>18248</th>\n",
              "      <td>405345543</td>\n",
              "      <td>799351821</td>\n",
              "      <td>0.0</td>\n",
              "      <td>2699.0</td>\n",
              "      <td>2023-01-14</td>\n",
              "      <td>msh itmsh04505 slim ss red s</td>\n",
              "      <td>msh itmsh04505 slim ss red s</td>\n",
              "      <td>38.0</td>\n",
              "      <td>south</td>\n",
              "      <td>south_7489</td>\n",
              "      <td>1970-01-01 00:00:00.000002023</td>\n",
              "      <td>6</td>\n",
              "    </tr>\n",
              "    <tr>\n",
              "      <th>20022</th>\n",
              "      <td>516805017</td>\n",
              "      <td>817672909</td>\n",
              "      <td>0.0</td>\n",
              "      <td>2499.0</td>\n",
              "      <td>2023-03-19</td>\n",
              "      <td>mtr itmtr01168 brooklyn ff black 36</td>\n",
              "      <td>mtr itmtr01168 brooklyn ff black 36</td>\n",
              "      <td>38.0</td>\n",
              "      <td>west</td>\n",
              "      <td>west_7238</td>\n",
              "      <td>1970-01-01 00:00:00.000002023</td>\n",
              "      <td>1</td>\n",
              "    </tr>\n",
              "    <tr>\n",
              "      <th>26942</th>\n",
              "      <td>338734213</td>\n",
              "      <td>801551524</td>\n",
              "      <td>0.0</td>\n",
              "      <td>1499.0</td>\n",
              "      <td>2023-01-22</td>\n",
              "      <td>mts itmts01221 stretch ss pep green l</td>\n",
              "      <td>mts itmts01221 regular ss pep green l</td>\n",
              "      <td>38.0</td>\n",
              "      <td>south</td>\n",
              "      <td>south_7256</td>\n",
              "      <td>1970-01-01 00:00:00.000002023</td>\n",
              "      <td>2</td>\n",
              "    </tr>\n",
              "  </tbody>\n",
              "</table>\n",
              "</div>\n",
              "      <button class=\"colab-df-convert\" onclick=\"convertToInteractive('df-8526061d-9081-4db7-b07b-dcf0ea56e583')\"\n",
              "              title=\"Convert this dataframe to an interactive table.\"\n",
              "              style=\"display:none;\">\n",
              "        \n",
              "  <svg xmlns=\"http://www.w3.org/2000/svg\" height=\"24px\"viewBox=\"0 0 24 24\"\n",
              "       width=\"24px\">\n",
              "    <path d=\"M0 0h24v24H0V0z\" fill=\"none\"/>\n",
              "    <path d=\"M18.56 5.44l.94 2.06.94-2.06 2.06-.94-2.06-.94-.94-2.06-.94 2.06-2.06.94zm-11 1L8.5 8.5l.94-2.06 2.06-.94-2.06-.94L8.5 2.5l-.94 2.06-2.06.94zm10 10l.94 2.06.94-2.06 2.06-.94-2.06-.94-.94-2.06-.94 2.06-2.06.94z\"/><path d=\"M17.41 7.96l-1.37-1.37c-.4-.4-.92-.59-1.43-.59-.52 0-1.04.2-1.43.59L10.3 9.45l-7.72 7.72c-.78.78-.78 2.05 0 2.83L4 21.41c.39.39.9.59 1.41.59.51 0 1.02-.2 1.41-.59l7.78-7.78 2.81-2.81c.8-.78.8-2.07 0-2.86zM5.41 20L4 18.59l7.72-7.72 1.47 1.35L5.41 20z\"/>\n",
              "  </svg>\n",
              "      </button>\n",
              "      \n",
              "  <style>\n",
              "    .colab-df-container {\n",
              "      display:flex;\n",
              "      flex-wrap:wrap;\n",
              "      gap: 12px;\n",
              "    }\n",
              "\n",
              "    .colab-df-convert {\n",
              "      background-color: #E8F0FE;\n",
              "      border: none;\n",
              "      border-radius: 50%;\n",
              "      cursor: pointer;\n",
              "      display: none;\n",
              "      fill: #1967D2;\n",
              "      height: 32px;\n",
              "      padding: 0 0 0 0;\n",
              "      width: 32px;\n",
              "    }\n",
              "\n",
              "    .colab-df-convert:hover {\n",
              "      background-color: #E2EBFA;\n",
              "      box-shadow: 0px 1px 2px rgba(60, 64, 67, 0.3), 0px 1px 3px 1px rgba(60, 64, 67, 0.15);\n",
              "      fill: #174EA6;\n",
              "    }\n",
              "\n",
              "    [theme=dark] .colab-df-convert {\n",
              "      background-color: #3B4455;\n",
              "      fill: #D2E3FC;\n",
              "    }\n",
              "\n",
              "    [theme=dark] .colab-df-convert:hover {\n",
              "      background-color: #434B5C;\n",
              "      box-shadow: 0px 1px 3px 1px rgba(0, 0, 0, 0.15);\n",
              "      filter: drop-shadow(0px 1px 2px rgba(0, 0, 0, 0.3));\n",
              "      fill: #FFFFFF;\n",
              "    }\n",
              "  </style>\n",
              "\n",
              "      <script>\n",
              "        const buttonEl =\n",
              "          document.querySelector('#df-8526061d-9081-4db7-b07b-dcf0ea56e583 button.colab-df-convert');\n",
              "        buttonEl.style.display =\n",
              "          google.colab.kernel.accessAllowed ? 'block' : 'none';\n",
              "\n",
              "        async function convertToInteractive(key) {\n",
              "          const element = document.querySelector('#df-8526061d-9081-4db7-b07b-dcf0ea56e583');\n",
              "          const dataTable =\n",
              "            await google.colab.kernel.invokeFunction('convertToInteractive',\n",
              "                                                     [key], {});\n",
              "          if (!dataTable) return;\n",
              "\n",
              "          const docLinkHtml = 'Like what you see? Visit the ' +\n",
              "            '<a target=\"_blank\" href=https://colab.research.google.com/notebooks/data_table.ipynb>data table notebook</a>'\n",
              "            + ' to learn more about interactive tables.';\n",
              "          element.innerHTML = '';\n",
              "          dataTable['output_type'] = 'display_data';\n",
              "          await google.colab.output.renderOutput(dataTable, element);\n",
              "          const docLink = document.createElement('div');\n",
              "          docLink.innerHTML = docLinkHtml;\n",
              "          element.appendChild(docLink);\n",
              "        }\n",
              "      </script>\n",
              "    </div>\n",
              "  </div>\n",
              "  "
            ]
          },
          "metadata": {},
          "execution_count": 38
        }
      ]
    },
    {
      "cell_type": "code",
      "source": [
        "# Keeping rows only if valid\n",
        "df = df[df['line_item_amount'] != 0]"
      ],
      "metadata": {
        "id": "s5r8SDzEXvr7"
      },
      "execution_count": null,
      "outputs": []
    },
    {
      "cell_type": "code",
      "source": [
        "# Verifying\n",
        "len(df[df['line_item_amount']==0])"
      ],
      "metadata": {
        "colab": {
          "base_uri": "https://localhost:8080/"
        },
        "id": "BhDh4b_EXvi6",
        "outputId": "b5f34b22-9ee6-4156-ab5e-4d4e65984e29"
      },
      "execution_count": null,
      "outputs": [
        {
          "output_type": "execute_result",
          "data": {
            "text/plain": [
              "0"
            ]
          },
          "metadata": {},
          "execution_count": 40
        }
      ]
    },
    {
      "cell_type": "markdown",
      "source": [
        "#### Object dtypes to lowercase."
      ],
      "metadata": {
        "id": "DHUcWLr_Cw57"
      }
    },
    {
      "cell_type": "markdown",
      "source": [
        "Converting all object features to lowercase."
      ],
      "metadata": {
        "id": "FZN1nY-6V9yJ"
      }
    },
    {
      "cell_type": "code",
      "source": [
        "# Converting all object datatypes to lowercase\n",
        "df[['description', 'inventory_category', 'zone_name', 'store_name']] = df[['description', 'inventory_category', 'zone_name', 'store_name']].apply(lambda x: x.str.lower())"
      ],
      "metadata": {
        "id": "iPT3_ws0PVMC"
      },
      "execution_count": null,
      "outputs": []
    },
    {
      "cell_type": "markdown",
      "source": [
        "#### Dropping zone_name to avoid multi-collinearity"
      ],
      "metadata": {
        "id": "S4BJC1K4fOPt"
      }
    },
    {
      "cell_type": "markdown",
      "source": [
        "The features zone_name and store_name will possibly induce multi-collinearity during our predictive modelling. This is because store_name gives us the same information that zone_name gives and more."
      ],
      "metadata": {
        "id": "A-utMmx7fWIv"
      }
    },
    {
      "cell_type": "markdown",
      "source": [
        "Hence, we will be dropping the store_name feature after EDA since, zone_name will ease our visualizations when compared to store_name, whereas store_name provides more information when compared to zone_name."
      ],
      "metadata": {
        "id": "ikYq65N_rCZk"
      }
    },
    {
      "cell_type": "markdown",
      "source": [
        "Now that our cleaning is complete, we can start with our Customer Segmentation."
      ],
      "metadata": {
        "id": "K-re4BhhYOLJ"
      }
    },
    {
      "cell_type": "markdown",
      "source": [
        "### RFM Segmentation"
      ],
      "metadata": {
        "id": "nv_2_krxYUIx"
      }
    },
    {
      "cell_type": "markdown",
      "source": [
        "Customer segmentation is the process of dividing customers into groups or segments based on shared characteristics or behavior. It is an important strategy for businesses because it helps them to better understand their customers and tailor their marketing efforts to specific groups, which can improve customer satisfaction and increase revenue.\n",
        "\n",
        "Here are some primary reasons why customer segmentation is important:\n",
        "\n",
        "* Personalization: By dividing customers into smaller groups based on their preferences, behaviors, and demographics, businesses can tailor their products, services, and marketing messages to better match the needs and preferences of each segment.\n",
        "\n",
        "* Improved customer experience: By targeting specific segments with personalized messages and promotions, businesses can create a more engaging and satisfying customer experience. This can lead to increased loyalty and positive word-of-mouth marketing.\n",
        "\n",
        "* More effective marketing: Customer segmentation allows businesses to identify which segments are most profitable, which channels they prefer, and what types of messages resonate with them. This information can be used to create more effective marketing campaigns that generate higher response rates and conversions.\n",
        "\n",
        "* Cost savings: By targeting specific customer segments with personalized messages and promotions, businesses can avoid wasting resources on ineffective marketing efforts that don't resonate with their target audience.\n",
        "\n",
        "Overall, customer segmentation is a powerful tool for businesses looking to improve their marketing effectiveness, increase customer satisfaction, and drive revenue growth."
      ],
      "metadata": {
        "id": "wCvT6TlqCOVC"
      }
    },
    {
      "cell_type": "markdown",
      "source": [
        "#### Recency (R)"
      ],
      "metadata": {
        "id": "AoVSdD_2C3ur"
      }
    },
    {
      "cell_type": "markdown",
      "source": [
        "Now, we will consider the transaction date feature and extract day and month as two separate features, and eventually drop the 'transaction_date' feature."
      ],
      "metadata": {
        "id": "W3qy0t6qbmTf"
      }
    },
    {
      "cell_type": "code",
      "source": [
        "df['transaction_date'].describe(include=all, datetime_is_numeric = True)"
      ],
      "metadata": {
        "id": "aYixukIt9N2W",
        "colab": {
          "base_uri": "https://localhost:8080/"
        },
        "outputId": "2b2a401d-2977-4098-d5d8-36d1cb7f621b"
      },
      "execution_count": null,
      "outputs": [
        {
          "output_type": "execute_result",
          "data": {
            "text/plain": [
              "count                            23561\n",
              "mean     2023-02-15 00:24:37.832010496\n",
              "min                2023-01-01 00:00:00\n",
              "25%                2023-01-20 00:00:00\n",
              "50%                2023-02-14 00:00:00\n",
              "75%                2023-03-12 00:00:00\n",
              "max                2023-04-06 00:00:00\n",
              "Name: transaction_date, dtype: object"
            ]
          },
          "metadata": {},
          "execution_count": 41
        }
      ]
    },
    {
      "cell_type": "code",
      "source": [
        "df.columns"
      ],
      "metadata": {
        "colab": {
          "base_uri": "https://localhost:8080/"
        },
        "id": "eMBcExl4YFO0",
        "outputId": "a3127d57-34c0-48fe-e57d-778174307408"
      },
      "execution_count": null,
      "outputs": [
        {
          "output_type": "execute_result",
          "data": {
            "text/plain": [
              "Index(['user_id', 'bill_id', 'line_item_amount', 'bill_discount',\n",
              "       'transaction_date', 'description', 'inventory_category', 'size',\n",
              "       'zone_name', 'store_name', 'year', 'quantity'],\n",
              "      dtype='object')"
            ]
          },
          "metadata": {},
          "execution_count": 42
        }
      ]
    },
    {
      "cell_type": "code",
      "source": [
        "# Creating a new dataframe that includes only the last transaction dates of each user\n",
        "df_recency = df.groupby('user_id')['transaction_date'].max().reset_index()\n",
        "df_recency.rename(columns={'transaction_date': 'latest_purchase_date'}, inplace=True)"
      ],
      "metadata": {
        "id": "saOicMG9YE8e"
      },
      "execution_count": null,
      "outputs": []
    },
    {
      "cell_type": "code",
      "source": [
        "df_recency['latest_purchase_date'].describe(include=all, datetime_is_numeric = True)"
      ],
      "metadata": {
        "colab": {
          "base_uri": "https://localhost:8080/"
        },
        "id": "LPaW3B1uYEpk",
        "outputId": "9ac1856b-e7f0-455b-f8f4-894f0af54eb6"
      },
      "execution_count": null,
      "outputs": [
        {
          "output_type": "execute_result",
          "data": {
            "text/plain": [
              "count                            19419\n",
              "mean     2023-02-15 19:09:32.284875776\n",
              "min                2023-01-01 00:00:00\n",
              "25%                2023-01-21 00:00:00\n",
              "50%                2023-02-16 00:00:00\n",
              "75%                2023-03-12 00:00:00\n",
              "max                2023-04-06 00:00:00\n",
              "Name: latest_purchase_date, dtype: object"
            ]
          },
          "metadata": {},
          "execution_count": 44
        }
      ]
    },
    {
      "cell_type": "code",
      "source": [
        "# Calculating the recency value\n",
        "recent_date = df_recency['latest_purchase_date'].max()\n",
        "df_recency['Recency'] = df_recency['latest_purchase_date'].apply(lambda x: (recent_date - x).days)\n",
        "df_recency.head()"
      ],
      "metadata": {
        "colab": {
          "base_uri": "https://localhost:8080/",
          "height": 206
        },
        "id": "i5RbQ5dSZiEU",
        "outputId": "28460628-c5aa-4aa7-dc60-231fc806fc88"
      },
      "execution_count": null,
      "outputs": [
        {
          "output_type": "execute_result",
          "data": {
            "text/plain": [
              "   user_id latest_purchase_date  Recency\n",
              "0    55509           2023-01-13       83\n",
              "1    57291           2023-04-03        3\n",
              "2    58758           2023-04-02        4\n",
              "3    63021           2023-01-13       83\n",
              "4    66323           2023-03-16       21"
            ],
            "text/html": [
              "\n",
              "  <div id=\"df-00f5fe27-300c-4a86-9332-7ac4ecfc0980\">\n",
              "    <div class=\"colab-df-container\">\n",
              "      <div>\n",
              "<style scoped>\n",
              "    .dataframe tbody tr th:only-of-type {\n",
              "        vertical-align: middle;\n",
              "    }\n",
              "\n",
              "    .dataframe tbody tr th {\n",
              "        vertical-align: top;\n",
              "    }\n",
              "\n",
              "    .dataframe thead th {\n",
              "        text-align: right;\n",
              "    }\n",
              "</style>\n",
              "<table border=\"1\" class=\"dataframe\">\n",
              "  <thead>\n",
              "    <tr style=\"text-align: right;\">\n",
              "      <th></th>\n",
              "      <th>user_id</th>\n",
              "      <th>latest_purchase_date</th>\n",
              "      <th>Recency</th>\n",
              "    </tr>\n",
              "  </thead>\n",
              "  <tbody>\n",
              "    <tr>\n",
              "      <th>0</th>\n",
              "      <td>55509</td>\n",
              "      <td>2023-01-13</td>\n",
              "      <td>83</td>\n",
              "    </tr>\n",
              "    <tr>\n",
              "      <th>1</th>\n",
              "      <td>57291</td>\n",
              "      <td>2023-04-03</td>\n",
              "      <td>3</td>\n",
              "    </tr>\n",
              "    <tr>\n",
              "      <th>2</th>\n",
              "      <td>58758</td>\n",
              "      <td>2023-04-02</td>\n",
              "      <td>4</td>\n",
              "    </tr>\n",
              "    <tr>\n",
              "      <th>3</th>\n",
              "      <td>63021</td>\n",
              "      <td>2023-01-13</td>\n",
              "      <td>83</td>\n",
              "    </tr>\n",
              "    <tr>\n",
              "      <th>4</th>\n",
              "      <td>66323</td>\n",
              "      <td>2023-03-16</td>\n",
              "      <td>21</td>\n",
              "    </tr>\n",
              "  </tbody>\n",
              "</table>\n",
              "</div>\n",
              "      <button class=\"colab-df-convert\" onclick=\"convertToInteractive('df-00f5fe27-300c-4a86-9332-7ac4ecfc0980')\"\n",
              "              title=\"Convert this dataframe to an interactive table.\"\n",
              "              style=\"display:none;\">\n",
              "        \n",
              "  <svg xmlns=\"http://www.w3.org/2000/svg\" height=\"24px\"viewBox=\"0 0 24 24\"\n",
              "       width=\"24px\">\n",
              "    <path d=\"M0 0h24v24H0V0z\" fill=\"none\"/>\n",
              "    <path d=\"M18.56 5.44l.94 2.06.94-2.06 2.06-.94-2.06-.94-.94-2.06-.94 2.06-2.06.94zm-11 1L8.5 8.5l.94-2.06 2.06-.94-2.06-.94L8.5 2.5l-.94 2.06-2.06.94zm10 10l.94 2.06.94-2.06 2.06-.94-2.06-.94-.94-2.06-.94 2.06-2.06.94z\"/><path d=\"M17.41 7.96l-1.37-1.37c-.4-.4-.92-.59-1.43-.59-.52 0-1.04.2-1.43.59L10.3 9.45l-7.72 7.72c-.78.78-.78 2.05 0 2.83L4 21.41c.39.39.9.59 1.41.59.51 0 1.02-.2 1.41-.59l7.78-7.78 2.81-2.81c.8-.78.8-2.07 0-2.86zM5.41 20L4 18.59l7.72-7.72 1.47 1.35L5.41 20z\"/>\n",
              "  </svg>\n",
              "      </button>\n",
              "      \n",
              "  <style>\n",
              "    .colab-df-container {\n",
              "      display:flex;\n",
              "      flex-wrap:wrap;\n",
              "      gap: 12px;\n",
              "    }\n",
              "\n",
              "    .colab-df-convert {\n",
              "      background-color: #E8F0FE;\n",
              "      border: none;\n",
              "      border-radius: 50%;\n",
              "      cursor: pointer;\n",
              "      display: none;\n",
              "      fill: #1967D2;\n",
              "      height: 32px;\n",
              "      padding: 0 0 0 0;\n",
              "      width: 32px;\n",
              "    }\n",
              "\n",
              "    .colab-df-convert:hover {\n",
              "      background-color: #E2EBFA;\n",
              "      box-shadow: 0px 1px 2px rgba(60, 64, 67, 0.3), 0px 1px 3px 1px rgba(60, 64, 67, 0.15);\n",
              "      fill: #174EA6;\n",
              "    }\n",
              "\n",
              "    [theme=dark] .colab-df-convert {\n",
              "      background-color: #3B4455;\n",
              "      fill: #D2E3FC;\n",
              "    }\n",
              "\n",
              "    [theme=dark] .colab-df-convert:hover {\n",
              "      background-color: #434B5C;\n",
              "      box-shadow: 0px 1px 3px 1px rgba(0, 0, 0, 0.15);\n",
              "      filter: drop-shadow(0px 1px 2px rgba(0, 0, 0, 0.3));\n",
              "      fill: #FFFFFF;\n",
              "    }\n",
              "  </style>\n",
              "\n",
              "      <script>\n",
              "        const buttonEl =\n",
              "          document.querySelector('#df-00f5fe27-300c-4a86-9332-7ac4ecfc0980 button.colab-df-convert');\n",
              "        buttonEl.style.display =\n",
              "          google.colab.kernel.accessAllowed ? 'block' : 'none';\n",
              "\n",
              "        async function convertToInteractive(key) {\n",
              "          const element = document.querySelector('#df-00f5fe27-300c-4a86-9332-7ac4ecfc0980');\n",
              "          const dataTable =\n",
              "            await google.colab.kernel.invokeFunction('convertToInteractive',\n",
              "                                                     [key], {});\n",
              "          if (!dataTable) return;\n",
              "\n",
              "          const docLinkHtml = 'Like what you see? Visit the ' +\n",
              "            '<a target=\"_blank\" href=https://colab.research.google.com/notebooks/data_table.ipynb>data table notebook</a>'\n",
              "            + ' to learn more about interactive tables.';\n",
              "          element.innerHTML = '';\n",
              "          dataTable['output_type'] = 'display_data';\n",
              "          await google.colab.output.renderOutput(dataTable, element);\n",
              "          const docLink = document.createElement('div');\n",
              "          docLink.innerHTML = docLinkHtml;\n",
              "          element.appendChild(docLink);\n",
              "        }\n",
              "      </script>\n",
              "    </div>\n",
              "  </div>\n",
              "  "
            ]
          },
          "metadata": {},
          "execution_count": 45
        }
      ]
    },
    {
      "cell_type": "markdown",
      "source": [
        "#### Frequency (F)"
      ],
      "metadata": {
        "id": "oM-qn0eUDaHz"
      }
    },
    {
      "cell_type": "code",
      "source": [
        "# Creating new dataframe to calculate frequency of customers\n",
        "frequency_df = df.groupby(by=['user_id'], as_index=False)['transaction_date'].count()\n",
        "frequency_df.columns = ['user_id', 'Frequency']"
      ],
      "metadata": {
        "id": "KQRio-m0aEDo"
      },
      "execution_count": null,
      "outputs": []
    },
    {
      "cell_type": "code",
      "source": [
        "# Frequency values\n",
        "frequency_df['Frequency'].unique()"
      ],
      "metadata": {
        "colab": {
          "base_uri": "https://localhost:8080/"
        },
        "id": "6fQyA1QfaD_i",
        "outputId": "678f812b-e33d-4881-bee4-b0dd6db5a0d3"
      },
      "execution_count": null,
      "outputs": [
        {
          "output_type": "execute_result",
          "data": {
            "text/plain": [
              "array([ 1,  2,  3,  4,  6,  5,  8,  9,  7, 10, 11, 41, 18, 15])"
            ]
          },
          "metadata": {},
          "execution_count": 51
        }
      ]
    },
    {
      "cell_type": "code",
      "source": [
        "frequency_df.head()"
      ],
      "metadata": {
        "colab": {
          "base_uri": "https://localhost:8080/",
          "height": 206
        },
        "id": "aGZlmat1aD1S",
        "outputId": "894fa310-948f-4cb7-8c89-89e555e5e503"
      },
      "execution_count": null,
      "outputs": [
        {
          "output_type": "execute_result",
          "data": {
            "text/plain": [
              "   user_id  Frequency\n",
              "0    55509          1\n",
              "1    57291          1\n",
              "2    58758          1\n",
              "3    63021          1\n",
              "4    66323          1"
            ],
            "text/html": [
              "\n",
              "  <div id=\"df-6aa1c4a4-497c-465c-988e-0455a77fd9b6\">\n",
              "    <div class=\"colab-df-container\">\n",
              "      <div>\n",
              "<style scoped>\n",
              "    .dataframe tbody tr th:only-of-type {\n",
              "        vertical-align: middle;\n",
              "    }\n",
              "\n",
              "    .dataframe tbody tr th {\n",
              "        vertical-align: top;\n",
              "    }\n",
              "\n",
              "    .dataframe thead th {\n",
              "        text-align: right;\n",
              "    }\n",
              "</style>\n",
              "<table border=\"1\" class=\"dataframe\">\n",
              "  <thead>\n",
              "    <tr style=\"text-align: right;\">\n",
              "      <th></th>\n",
              "      <th>user_id</th>\n",
              "      <th>Frequency</th>\n",
              "    </tr>\n",
              "  </thead>\n",
              "  <tbody>\n",
              "    <tr>\n",
              "      <th>0</th>\n",
              "      <td>55509</td>\n",
              "      <td>1</td>\n",
              "    </tr>\n",
              "    <tr>\n",
              "      <th>1</th>\n",
              "      <td>57291</td>\n",
              "      <td>1</td>\n",
              "    </tr>\n",
              "    <tr>\n",
              "      <th>2</th>\n",
              "      <td>58758</td>\n",
              "      <td>1</td>\n",
              "    </tr>\n",
              "    <tr>\n",
              "      <th>3</th>\n",
              "      <td>63021</td>\n",
              "      <td>1</td>\n",
              "    </tr>\n",
              "    <tr>\n",
              "      <th>4</th>\n",
              "      <td>66323</td>\n",
              "      <td>1</td>\n",
              "    </tr>\n",
              "  </tbody>\n",
              "</table>\n",
              "</div>\n",
              "      <button class=\"colab-df-convert\" onclick=\"convertToInteractive('df-6aa1c4a4-497c-465c-988e-0455a77fd9b6')\"\n",
              "              title=\"Convert this dataframe to an interactive table.\"\n",
              "              style=\"display:none;\">\n",
              "        \n",
              "  <svg xmlns=\"http://www.w3.org/2000/svg\" height=\"24px\"viewBox=\"0 0 24 24\"\n",
              "       width=\"24px\">\n",
              "    <path d=\"M0 0h24v24H0V0z\" fill=\"none\"/>\n",
              "    <path d=\"M18.56 5.44l.94 2.06.94-2.06 2.06-.94-2.06-.94-.94-2.06-.94 2.06-2.06.94zm-11 1L8.5 8.5l.94-2.06 2.06-.94-2.06-.94L8.5 2.5l-.94 2.06-2.06.94zm10 10l.94 2.06.94-2.06 2.06-.94-2.06-.94-.94-2.06-.94 2.06-2.06.94z\"/><path d=\"M17.41 7.96l-1.37-1.37c-.4-.4-.92-.59-1.43-.59-.52 0-1.04.2-1.43.59L10.3 9.45l-7.72 7.72c-.78.78-.78 2.05 0 2.83L4 21.41c.39.39.9.59 1.41.59.51 0 1.02-.2 1.41-.59l7.78-7.78 2.81-2.81c.8-.78.8-2.07 0-2.86zM5.41 20L4 18.59l7.72-7.72 1.47 1.35L5.41 20z\"/>\n",
              "  </svg>\n",
              "      </button>\n",
              "      \n",
              "  <style>\n",
              "    .colab-df-container {\n",
              "      display:flex;\n",
              "      flex-wrap:wrap;\n",
              "      gap: 12px;\n",
              "    }\n",
              "\n",
              "    .colab-df-convert {\n",
              "      background-color: #E8F0FE;\n",
              "      border: none;\n",
              "      border-radius: 50%;\n",
              "      cursor: pointer;\n",
              "      display: none;\n",
              "      fill: #1967D2;\n",
              "      height: 32px;\n",
              "      padding: 0 0 0 0;\n",
              "      width: 32px;\n",
              "    }\n",
              "\n",
              "    .colab-df-convert:hover {\n",
              "      background-color: #E2EBFA;\n",
              "      box-shadow: 0px 1px 2px rgba(60, 64, 67, 0.3), 0px 1px 3px 1px rgba(60, 64, 67, 0.15);\n",
              "      fill: #174EA6;\n",
              "    }\n",
              "\n",
              "    [theme=dark] .colab-df-convert {\n",
              "      background-color: #3B4455;\n",
              "      fill: #D2E3FC;\n",
              "    }\n",
              "\n",
              "    [theme=dark] .colab-df-convert:hover {\n",
              "      background-color: #434B5C;\n",
              "      box-shadow: 0px 1px 3px 1px rgba(0, 0, 0, 0.15);\n",
              "      filter: drop-shadow(0px 1px 2px rgba(0, 0, 0, 0.3));\n",
              "      fill: #FFFFFF;\n",
              "    }\n",
              "  </style>\n",
              "\n",
              "      <script>\n",
              "        const buttonEl =\n",
              "          document.querySelector('#df-6aa1c4a4-497c-465c-988e-0455a77fd9b6 button.colab-df-convert');\n",
              "        buttonEl.style.display =\n",
              "          google.colab.kernel.accessAllowed ? 'block' : 'none';\n",
              "\n",
              "        async function convertToInteractive(key) {\n",
              "          const element = document.querySelector('#df-6aa1c4a4-497c-465c-988e-0455a77fd9b6');\n",
              "          const dataTable =\n",
              "            await google.colab.kernel.invokeFunction('convertToInteractive',\n",
              "                                                     [key], {});\n",
              "          if (!dataTable) return;\n",
              "\n",
              "          const docLinkHtml = 'Like what you see? Visit the ' +\n",
              "            '<a target=\"_blank\" href=https://colab.research.google.com/notebooks/data_table.ipynb>data table notebook</a>'\n",
              "            + ' to learn more about interactive tables.';\n",
              "          element.innerHTML = '';\n",
              "          dataTable['output_type'] = 'display_data';\n",
              "          await google.colab.output.renderOutput(dataTable, element);\n",
              "          const docLink = document.createElement('div');\n",
              "          docLink.innerHTML = docLinkHtml;\n",
              "          element.appendChild(docLink);\n",
              "        }\n",
              "      </script>\n",
              "    </div>\n",
              "  </div>\n",
              "  "
            ]
          },
          "metadata": {},
          "execution_count": 52
        }
      ]
    },
    {
      "cell_type": "markdown",
      "source": [
        "#### Monetary (M)"
      ],
      "metadata": {
        "id": "vI7TS9j18t0c"
      }
    },
    {
      "cell_type": "markdown",
      "source": [
        "For this process of determining **Monetary Value**, we will first group by 'df' dataframe using 'user_id' and 'transaction_date' features. This will inform us about the total daily transactions of every user. But, we cannot segment users into different category based on total-daily transactions only. There might be some customers that do not buy in large quantities, but might have an overall higher buying average.\n",
        "\n",
        "Hence, we will take an average of the daily-transactions per user to estimate their buying behaviour."
      ],
      "metadata": {
        "id": "jOas2sJiCycE"
      }
    },
    {
      "cell_type": "code",
      "source": [
        "df['Total'] = df['Sales']*df['Quantity']\n",
        "monetary_df = df.groupby(by='Customer Name', as_index=False)['Total'].sum()\n",
        "monetary_df.columns = ['CustomerName', 'Monetary']\n",
        "monetary_df.head()"
      ],
      "metadata": {
        "id": "nsIRFI2zbkVV"
      },
      "execution_count": null,
      "outputs": []
    },
    {
      "cell_type": "code",
      "source": [
        "# Group by 'user_id' and 'transaction_date', take sum of the product of 'quantity' and 'line_item_amount'\n",
        "df_sum = df.groupby(['user_id', 'transaction_date'])[['quantity', 'line_item_amount']].apply(lambda x: (x['quantity']*x['line_item_amount']).sum()).reset_index()\n",
        "df_sum.columns = ['user_id', 'transaction_date', 'total_amount']"
      ],
      "metadata": {
        "id": "Pakgy4T-G04r"
      },
      "execution_count": null,
      "outputs": []
    },
    {
      "cell_type": "code",
      "source": [
        "df_sum.head()"
      ],
      "metadata": {
        "colab": {
          "base_uri": "https://localhost:8080/",
          "height": 206
        },
        "id": "1KtPMl8NEClM",
        "outputId": "33fe0aa2-e0af-4da4-e4f2-49cc688d552a"
      },
      "execution_count": null,
      "outputs": [
        {
          "output_type": "execute_result",
          "data": {
            "text/plain": [
              "   user_id transaction_date  total_amount\n",
              "0    55509       2023-01-13     3999.2000\n",
              "1    57291       2023-04-03      299.0000\n",
              "2    58758       2023-04-02      299.0000\n",
              "3    63021       2023-01-13     1411.0934\n",
              "4    66323       2023-03-16    22392.0000"
            ],
            "text/html": [
              "\n",
              "  <div id=\"df-1d2e872f-5020-43c8-8b1f-318dcdb8b5e7\">\n",
              "    <div class=\"colab-df-container\">\n",
              "      <div>\n",
              "<style scoped>\n",
              "    .dataframe tbody tr th:only-of-type {\n",
              "        vertical-align: middle;\n",
              "    }\n",
              "\n",
              "    .dataframe tbody tr th {\n",
              "        vertical-align: top;\n",
              "    }\n",
              "\n",
              "    .dataframe thead th {\n",
              "        text-align: right;\n",
              "    }\n",
              "</style>\n",
              "<table border=\"1\" class=\"dataframe\">\n",
              "  <thead>\n",
              "    <tr style=\"text-align: right;\">\n",
              "      <th></th>\n",
              "      <th>user_id</th>\n",
              "      <th>transaction_date</th>\n",
              "      <th>total_amount</th>\n",
              "    </tr>\n",
              "  </thead>\n",
              "  <tbody>\n",
              "    <tr>\n",
              "      <th>0</th>\n",
              "      <td>55509</td>\n",
              "      <td>2023-01-13</td>\n",
              "      <td>3999.2000</td>\n",
              "    </tr>\n",
              "    <tr>\n",
              "      <th>1</th>\n",
              "      <td>57291</td>\n",
              "      <td>2023-04-03</td>\n",
              "      <td>299.0000</td>\n",
              "    </tr>\n",
              "    <tr>\n",
              "      <th>2</th>\n",
              "      <td>58758</td>\n",
              "      <td>2023-04-02</td>\n",
              "      <td>299.0000</td>\n",
              "    </tr>\n",
              "    <tr>\n",
              "      <th>3</th>\n",
              "      <td>63021</td>\n",
              "      <td>2023-01-13</td>\n",
              "      <td>1411.0934</td>\n",
              "    </tr>\n",
              "    <tr>\n",
              "      <th>4</th>\n",
              "      <td>66323</td>\n",
              "      <td>2023-03-16</td>\n",
              "      <td>22392.0000</td>\n",
              "    </tr>\n",
              "  </tbody>\n",
              "</table>\n",
              "</div>\n",
              "      <button class=\"colab-df-convert\" onclick=\"convertToInteractive('df-1d2e872f-5020-43c8-8b1f-318dcdb8b5e7')\"\n",
              "              title=\"Convert this dataframe to an interactive table.\"\n",
              "              style=\"display:none;\">\n",
              "        \n",
              "  <svg xmlns=\"http://www.w3.org/2000/svg\" height=\"24px\"viewBox=\"0 0 24 24\"\n",
              "       width=\"24px\">\n",
              "    <path d=\"M0 0h24v24H0V0z\" fill=\"none\"/>\n",
              "    <path d=\"M18.56 5.44l.94 2.06.94-2.06 2.06-.94-2.06-.94-.94-2.06-.94 2.06-2.06.94zm-11 1L8.5 8.5l.94-2.06 2.06-.94-2.06-.94L8.5 2.5l-.94 2.06-2.06.94zm10 10l.94 2.06.94-2.06 2.06-.94-2.06-.94-.94-2.06-.94 2.06-2.06.94z\"/><path d=\"M17.41 7.96l-1.37-1.37c-.4-.4-.92-.59-1.43-.59-.52 0-1.04.2-1.43.59L10.3 9.45l-7.72 7.72c-.78.78-.78 2.05 0 2.83L4 21.41c.39.39.9.59 1.41.59.51 0 1.02-.2 1.41-.59l7.78-7.78 2.81-2.81c.8-.78.8-2.07 0-2.86zM5.41 20L4 18.59l7.72-7.72 1.47 1.35L5.41 20z\"/>\n",
              "  </svg>\n",
              "      </button>\n",
              "      \n",
              "  <style>\n",
              "    .colab-df-container {\n",
              "      display:flex;\n",
              "      flex-wrap:wrap;\n",
              "      gap: 12px;\n",
              "    }\n",
              "\n",
              "    .colab-df-convert {\n",
              "      background-color: #E8F0FE;\n",
              "      border: none;\n",
              "      border-radius: 50%;\n",
              "      cursor: pointer;\n",
              "      display: none;\n",
              "      fill: #1967D2;\n",
              "      height: 32px;\n",
              "      padding: 0 0 0 0;\n",
              "      width: 32px;\n",
              "    }\n",
              "\n",
              "    .colab-df-convert:hover {\n",
              "      background-color: #E2EBFA;\n",
              "      box-shadow: 0px 1px 2px rgba(60, 64, 67, 0.3), 0px 1px 3px 1px rgba(60, 64, 67, 0.15);\n",
              "      fill: #174EA6;\n",
              "    }\n",
              "\n",
              "    [theme=dark] .colab-df-convert {\n",
              "      background-color: #3B4455;\n",
              "      fill: #D2E3FC;\n",
              "    }\n",
              "\n",
              "    [theme=dark] .colab-df-convert:hover {\n",
              "      background-color: #434B5C;\n",
              "      box-shadow: 0px 1px 3px 1px rgba(0, 0, 0, 0.15);\n",
              "      filter: drop-shadow(0px 1px 2px rgba(0, 0, 0, 0.3));\n",
              "      fill: #FFFFFF;\n",
              "    }\n",
              "  </style>\n",
              "\n",
              "      <script>\n",
              "        const buttonEl =\n",
              "          document.querySelector('#df-1d2e872f-5020-43c8-8b1f-318dcdb8b5e7 button.colab-df-convert');\n",
              "        buttonEl.style.display =\n",
              "          google.colab.kernel.accessAllowed ? 'block' : 'none';\n",
              "\n",
              "        async function convertToInteractive(key) {\n",
              "          const element = document.querySelector('#df-1d2e872f-5020-43c8-8b1f-318dcdb8b5e7');\n",
              "          const dataTable =\n",
              "            await google.colab.kernel.invokeFunction('convertToInteractive',\n",
              "                                                     [key], {});\n",
              "          if (!dataTable) return;\n",
              "\n",
              "          const docLinkHtml = 'Like what you see? Visit the ' +\n",
              "            '<a target=\"_blank\" href=https://colab.research.google.com/notebooks/data_table.ipynb>data table notebook</a>'\n",
              "            + ' to learn more about interactive tables.';\n",
              "          element.innerHTML = '';\n",
              "          dataTable['output_type'] = 'display_data';\n",
              "          await google.colab.output.renderOutput(dataTable, element);\n",
              "          const docLink = document.createElement('div');\n",
              "          docLink.innerHTML = docLinkHtml;\n",
              "          element.appendChild(docLink);\n",
              "        }\n",
              "      </script>\n",
              "    </div>\n",
              "  </div>\n",
              "  "
            ]
          },
          "metadata": {},
          "execution_count": 54
        }
      ]
    },
    {
      "cell_type": "code",
      "source": [
        "# Group by 'user_id', take average of the 'total_amount' for each user\n",
        "monetary_df = df_sum.groupby('user_id')['total_amount'].mean().reset_index()\n",
        "\n",
        "# Rename the columns to 'user_id' and 'avg_daily_transaction'\n",
        "monetary_df = monetary_df.rename(columns={'user_id': 'user_id', 'total_amount': 'Monetary'})"
      ],
      "metadata": {
        "id": "t9nuEqb7G8im"
      },
      "execution_count": null,
      "outputs": []
    },
    {
      "cell_type": "code",
      "source": [
        "# firstlook of the dataframe\n",
        "monetary_df.head()"
      ],
      "metadata": {
        "colab": {
          "base_uri": "https://localhost:8080/",
          "height": 206
        },
        "id": "cQvKbB-mECM6",
        "outputId": "333e1250-7cc6-404e-d41e-4d0e334ddc5f"
      },
      "execution_count": null,
      "outputs": [
        {
          "output_type": "execute_result",
          "data": {
            "text/plain": [
              "   user_id    Monetary\n",
              "0    55509   3999.2000\n",
              "1    57291    299.0000\n",
              "2    58758    299.0000\n",
              "3    63021   1411.0934\n",
              "4    66323  22392.0000"
            ],
            "text/html": [
              "\n",
              "  <div id=\"df-abf3bf02-212b-47c6-9dac-4f180e818696\">\n",
              "    <div class=\"colab-df-container\">\n",
              "      <div>\n",
              "<style scoped>\n",
              "    .dataframe tbody tr th:only-of-type {\n",
              "        vertical-align: middle;\n",
              "    }\n",
              "\n",
              "    .dataframe tbody tr th {\n",
              "        vertical-align: top;\n",
              "    }\n",
              "\n",
              "    .dataframe thead th {\n",
              "        text-align: right;\n",
              "    }\n",
              "</style>\n",
              "<table border=\"1\" class=\"dataframe\">\n",
              "  <thead>\n",
              "    <tr style=\"text-align: right;\">\n",
              "      <th></th>\n",
              "      <th>user_id</th>\n",
              "      <th>Monetary</th>\n",
              "    </tr>\n",
              "  </thead>\n",
              "  <tbody>\n",
              "    <tr>\n",
              "      <th>0</th>\n",
              "      <td>55509</td>\n",
              "      <td>3999.2000</td>\n",
              "    </tr>\n",
              "    <tr>\n",
              "      <th>1</th>\n",
              "      <td>57291</td>\n",
              "      <td>299.0000</td>\n",
              "    </tr>\n",
              "    <tr>\n",
              "      <th>2</th>\n",
              "      <td>58758</td>\n",
              "      <td>299.0000</td>\n",
              "    </tr>\n",
              "    <tr>\n",
              "      <th>3</th>\n",
              "      <td>63021</td>\n",
              "      <td>1411.0934</td>\n",
              "    </tr>\n",
              "    <tr>\n",
              "      <th>4</th>\n",
              "      <td>66323</td>\n",
              "      <td>22392.0000</td>\n",
              "    </tr>\n",
              "  </tbody>\n",
              "</table>\n",
              "</div>\n",
              "      <button class=\"colab-df-convert\" onclick=\"convertToInteractive('df-abf3bf02-212b-47c6-9dac-4f180e818696')\"\n",
              "              title=\"Convert this dataframe to an interactive table.\"\n",
              "              style=\"display:none;\">\n",
              "        \n",
              "  <svg xmlns=\"http://www.w3.org/2000/svg\" height=\"24px\"viewBox=\"0 0 24 24\"\n",
              "       width=\"24px\">\n",
              "    <path d=\"M0 0h24v24H0V0z\" fill=\"none\"/>\n",
              "    <path d=\"M18.56 5.44l.94 2.06.94-2.06 2.06-.94-2.06-.94-.94-2.06-.94 2.06-2.06.94zm-11 1L8.5 8.5l.94-2.06 2.06-.94-2.06-.94L8.5 2.5l-.94 2.06-2.06.94zm10 10l.94 2.06.94-2.06 2.06-.94-2.06-.94-.94-2.06-.94 2.06-2.06.94z\"/><path d=\"M17.41 7.96l-1.37-1.37c-.4-.4-.92-.59-1.43-.59-.52 0-1.04.2-1.43.59L10.3 9.45l-7.72 7.72c-.78.78-.78 2.05 0 2.83L4 21.41c.39.39.9.59 1.41.59.51 0 1.02-.2 1.41-.59l7.78-7.78 2.81-2.81c.8-.78.8-2.07 0-2.86zM5.41 20L4 18.59l7.72-7.72 1.47 1.35L5.41 20z\"/>\n",
              "  </svg>\n",
              "      </button>\n",
              "      \n",
              "  <style>\n",
              "    .colab-df-container {\n",
              "      display:flex;\n",
              "      flex-wrap:wrap;\n",
              "      gap: 12px;\n",
              "    }\n",
              "\n",
              "    .colab-df-convert {\n",
              "      background-color: #E8F0FE;\n",
              "      border: none;\n",
              "      border-radius: 50%;\n",
              "      cursor: pointer;\n",
              "      display: none;\n",
              "      fill: #1967D2;\n",
              "      height: 32px;\n",
              "      padding: 0 0 0 0;\n",
              "      width: 32px;\n",
              "    }\n",
              "\n",
              "    .colab-df-convert:hover {\n",
              "      background-color: #E2EBFA;\n",
              "      box-shadow: 0px 1px 2px rgba(60, 64, 67, 0.3), 0px 1px 3px 1px rgba(60, 64, 67, 0.15);\n",
              "      fill: #174EA6;\n",
              "    }\n",
              "\n",
              "    [theme=dark] .colab-df-convert {\n",
              "      background-color: #3B4455;\n",
              "      fill: #D2E3FC;\n",
              "    }\n",
              "\n",
              "    [theme=dark] .colab-df-convert:hover {\n",
              "      background-color: #434B5C;\n",
              "      box-shadow: 0px 1px 3px 1px rgba(0, 0, 0, 0.15);\n",
              "      filter: drop-shadow(0px 1px 2px rgba(0, 0, 0, 0.3));\n",
              "      fill: #FFFFFF;\n",
              "    }\n",
              "  </style>\n",
              "\n",
              "      <script>\n",
              "        const buttonEl =\n",
              "          document.querySelector('#df-abf3bf02-212b-47c6-9dac-4f180e818696 button.colab-df-convert');\n",
              "        buttonEl.style.display =\n",
              "          google.colab.kernel.accessAllowed ? 'block' : 'none';\n",
              "\n",
              "        async function convertToInteractive(key) {\n",
              "          const element = document.querySelector('#df-abf3bf02-212b-47c6-9dac-4f180e818696');\n",
              "          const dataTable =\n",
              "            await google.colab.kernel.invokeFunction('convertToInteractive',\n",
              "                                                     [key], {});\n",
              "          if (!dataTable) return;\n",
              "\n",
              "          const docLinkHtml = 'Like what you see? Visit the ' +\n",
              "            '<a target=\"_blank\" href=https://colab.research.google.com/notebooks/data_table.ipynb>data table notebook</a>'\n",
              "            + ' to learn more about interactive tables.';\n",
              "          element.innerHTML = '';\n",
              "          dataTable['output_type'] = 'display_data';\n",
              "          await google.colab.output.renderOutput(dataTable, element);\n",
              "          const docLink = document.createElement('div');\n",
              "          docLink.innerHTML = docLinkHtml;\n",
              "          element.appendChild(docLink);\n",
              "        }\n",
              "      </script>\n",
              "    </div>\n",
              "  </div>\n",
              "  "
            ]
          },
          "metadata": {},
          "execution_count": 56
        }
      ]
    },
    {
      "cell_type": "markdown",
      "source": [
        "Now that we have obtained our required monetary value, we have to segment the customers using this information. In order to do this, we first need to understand the distribution of this feature.\n"
      ],
      "metadata": {
        "id": "oj8H2EkmFetb"
      }
    },
    {
      "cell_type": "code",
      "source": [
        "monetary_df['Monetary'].describe()"
      ],
      "metadata": {
        "colab": {
          "base_uri": "https://localhost:8080/"
        },
        "id": "0ZvV60DuLUIE",
        "outputId": "a0efae35-cf14-4f6e-eb4c-d3412cb10c57"
      },
      "execution_count": null,
      "outputs": [
        {
          "output_type": "execute_result",
          "data": {
            "text/plain": [
              "count     19419.000000\n",
              "mean       1486.762363\n",
              "std        2254.188615\n",
              "min           9.000000\n",
              "25%         299.000000\n",
              "50%        1160.131100\n",
              "75%        2182.066200\n",
              "max      216747.146000\n",
              "Name: Monetary, dtype: float64"
            ]
          },
          "metadata": {},
          "execution_count": 57
        }
      ]
    },
    {
      "cell_type": "markdown",
      "source": [
        "From the description of the avg_daily_transaction feature above, we can make two main observations:\n",
        "* There are some outliers present in this feature.\n",
        "* We can segment customers using RFM scores."
      ],
      "metadata": {
        "id": "wcYMdiCtMBpP"
      }
    },
    {
      "cell_type": "markdown",
      "source": [
        "#### Merging RFM "
      ],
      "metadata": {
        "id": "iqEfXSHucxB6"
      }
    },
    {
      "cell_type": "markdown",
      "source": [
        "Here we are merging all the dataframe columns in a single entity using the merge function to display the recency, frequency, monetary value."
      ],
      "metadata": {
        "id": "wKHCsWptdpot"
      }
    },
    {
      "cell_type": "code",
      "source": [
        "# merging dataframes on 'user_id' one after the other\n",
        "recency_frequency_df = df_recency.merge(frequency_df, on='user_id')\n",
        "rfm_df = recency_frequency_df.merge(monetary_df, on='user_id').drop(columns='latest_purchase_date')"
      ],
      "metadata": {
        "id": "rTh2hddrc02L"
      },
      "execution_count": null,
      "outputs": []
    },
    {
      "cell_type": "code",
      "source": [
        "# First-view\n",
        "rfm_df.head()"
      ],
      "metadata": {
        "colab": {
          "base_uri": "https://localhost:8080/",
          "height": 206
        },
        "id": "M4btH0eBc0wN",
        "outputId": "c68281ff-8aea-4463-f013-78e0362399da"
      },
      "execution_count": null,
      "outputs": [
        {
          "output_type": "execute_result",
          "data": {
            "text/plain": [
              "   user_id  Recency  Frequency    Monetary\n",
              "0    55509       83          1   3999.2000\n",
              "1    57291        3          1    299.0000\n",
              "2    58758        4          1    299.0000\n",
              "3    63021       83          1   1411.0934\n",
              "4    66323       21          1  22392.0000"
            ],
            "text/html": [
              "\n",
              "  <div id=\"df-dfc2406e-c913-421a-ae2b-3fdf296981ac\">\n",
              "    <div class=\"colab-df-container\">\n",
              "      <div>\n",
              "<style scoped>\n",
              "    .dataframe tbody tr th:only-of-type {\n",
              "        vertical-align: middle;\n",
              "    }\n",
              "\n",
              "    .dataframe tbody tr th {\n",
              "        vertical-align: top;\n",
              "    }\n",
              "\n",
              "    .dataframe thead th {\n",
              "        text-align: right;\n",
              "    }\n",
              "</style>\n",
              "<table border=\"1\" class=\"dataframe\">\n",
              "  <thead>\n",
              "    <tr style=\"text-align: right;\">\n",
              "      <th></th>\n",
              "      <th>user_id</th>\n",
              "      <th>Recency</th>\n",
              "      <th>Frequency</th>\n",
              "      <th>Monetary</th>\n",
              "    </tr>\n",
              "  </thead>\n",
              "  <tbody>\n",
              "    <tr>\n",
              "      <th>0</th>\n",
              "      <td>55509</td>\n",
              "      <td>83</td>\n",
              "      <td>1</td>\n",
              "      <td>3999.2000</td>\n",
              "    </tr>\n",
              "    <tr>\n",
              "      <th>1</th>\n",
              "      <td>57291</td>\n",
              "      <td>3</td>\n",
              "      <td>1</td>\n",
              "      <td>299.0000</td>\n",
              "    </tr>\n",
              "    <tr>\n",
              "      <th>2</th>\n",
              "      <td>58758</td>\n",
              "      <td>4</td>\n",
              "      <td>1</td>\n",
              "      <td>299.0000</td>\n",
              "    </tr>\n",
              "    <tr>\n",
              "      <th>3</th>\n",
              "      <td>63021</td>\n",
              "      <td>83</td>\n",
              "      <td>1</td>\n",
              "      <td>1411.0934</td>\n",
              "    </tr>\n",
              "    <tr>\n",
              "      <th>4</th>\n",
              "      <td>66323</td>\n",
              "      <td>21</td>\n",
              "      <td>1</td>\n",
              "      <td>22392.0000</td>\n",
              "    </tr>\n",
              "  </tbody>\n",
              "</table>\n",
              "</div>\n",
              "      <button class=\"colab-df-convert\" onclick=\"convertToInteractive('df-dfc2406e-c913-421a-ae2b-3fdf296981ac')\"\n",
              "              title=\"Convert this dataframe to an interactive table.\"\n",
              "              style=\"display:none;\">\n",
              "        \n",
              "  <svg xmlns=\"http://www.w3.org/2000/svg\" height=\"24px\"viewBox=\"0 0 24 24\"\n",
              "       width=\"24px\">\n",
              "    <path d=\"M0 0h24v24H0V0z\" fill=\"none\"/>\n",
              "    <path d=\"M18.56 5.44l.94 2.06.94-2.06 2.06-.94-2.06-.94-.94-2.06-.94 2.06-2.06.94zm-11 1L8.5 8.5l.94-2.06 2.06-.94-2.06-.94L8.5 2.5l-.94 2.06-2.06.94zm10 10l.94 2.06.94-2.06 2.06-.94-2.06-.94-.94-2.06-.94 2.06-2.06.94z\"/><path d=\"M17.41 7.96l-1.37-1.37c-.4-.4-.92-.59-1.43-.59-.52 0-1.04.2-1.43.59L10.3 9.45l-7.72 7.72c-.78.78-.78 2.05 0 2.83L4 21.41c.39.39.9.59 1.41.59.51 0 1.02-.2 1.41-.59l7.78-7.78 2.81-2.81c.8-.78.8-2.07 0-2.86zM5.41 20L4 18.59l7.72-7.72 1.47 1.35L5.41 20z\"/>\n",
              "  </svg>\n",
              "      </button>\n",
              "      \n",
              "  <style>\n",
              "    .colab-df-container {\n",
              "      display:flex;\n",
              "      flex-wrap:wrap;\n",
              "      gap: 12px;\n",
              "    }\n",
              "\n",
              "    .colab-df-convert {\n",
              "      background-color: #E8F0FE;\n",
              "      border: none;\n",
              "      border-radius: 50%;\n",
              "      cursor: pointer;\n",
              "      display: none;\n",
              "      fill: #1967D2;\n",
              "      height: 32px;\n",
              "      padding: 0 0 0 0;\n",
              "      width: 32px;\n",
              "    }\n",
              "\n",
              "    .colab-df-convert:hover {\n",
              "      background-color: #E2EBFA;\n",
              "      box-shadow: 0px 1px 2px rgba(60, 64, 67, 0.3), 0px 1px 3px 1px rgba(60, 64, 67, 0.15);\n",
              "      fill: #174EA6;\n",
              "    }\n",
              "\n",
              "    [theme=dark] .colab-df-convert {\n",
              "      background-color: #3B4455;\n",
              "      fill: #D2E3FC;\n",
              "    }\n",
              "\n",
              "    [theme=dark] .colab-df-convert:hover {\n",
              "      background-color: #434B5C;\n",
              "      box-shadow: 0px 1px 3px 1px rgba(0, 0, 0, 0.15);\n",
              "      filter: drop-shadow(0px 1px 2px rgba(0, 0, 0, 0.3));\n",
              "      fill: #FFFFFF;\n",
              "    }\n",
              "  </style>\n",
              "\n",
              "      <script>\n",
              "        const buttonEl =\n",
              "          document.querySelector('#df-dfc2406e-c913-421a-ae2b-3fdf296981ac button.colab-df-convert');\n",
              "        buttonEl.style.display =\n",
              "          google.colab.kernel.accessAllowed ? 'block' : 'none';\n",
              "\n",
              "        async function convertToInteractive(key) {\n",
              "          const element = document.querySelector('#df-dfc2406e-c913-421a-ae2b-3fdf296981ac');\n",
              "          const dataTable =\n",
              "            await google.colab.kernel.invokeFunction('convertToInteractive',\n",
              "                                                     [key], {});\n",
              "          if (!dataTable) return;\n",
              "\n",
              "          const docLinkHtml = 'Like what you see? Visit the ' +\n",
              "            '<a target=\"_blank\" href=https://colab.research.google.com/notebooks/data_table.ipynb>data table notebook</a>'\n",
              "            + ' to learn more about interactive tables.';\n",
              "          element.innerHTML = '';\n",
              "          dataTable['output_type'] = 'display_data';\n",
              "          await google.colab.output.renderOutput(dataTable, element);\n",
              "          const docLink = document.createElement('div');\n",
              "          docLink.innerHTML = docLinkHtml;\n",
              "          element.appendChild(docLink);\n",
              "        }\n",
              "      </script>\n",
              "    </div>\n",
              "  </div>\n",
              "  "
            ]
          },
          "metadata": {},
          "execution_count": 60
        }
      ]
    },
    {
      "cell_type": "markdown",
      "source": [
        "#### Normalizing RFM values"
      ],
      "metadata": {
        "id": "lSVrqX9Bdx6p"
      }
    },
    {
      "cell_type": "markdown",
      "source": [
        "Before we can rank the customers, we need to normalize the values of R, F and M.\n",
        "Hence, below we are normalizing the rank of the customers within a company to analyze the ranking."
      ],
      "metadata": {
        "id": "dH6LM9oqd5uP"
      }
    },
    {
      "cell_type": "code",
      "source": [
        "# Creating ranks by sorting\n",
        "rfm_df['R_rank'] = rfm_df['Recency'].rank(ascending=False)    # Most recent has less number of days -> descending order\n",
        "rfm_df['F_rank'] = rfm_df['Frequency'].rank(ascending=True)\n",
        "rfm_df['M_rank'] = rfm_df['Monetary'].rank(ascending=True)\n",
        " \n",
        "# normalizing the rank of the customers\n",
        "# by dividing from the highest value in the ranks\n",
        "rfm_df['R_rank_norm'] = (rfm_df['R_rank']/rfm_df['R_rank'].max())*100\n",
        "rfm_df['F_rank_norm'] = (rfm_df['F_rank']/rfm_df['F_rank'].max())*100\n",
        "rfm_df['M_rank_norm'] = (rfm_df['M_rank']/rfm_df['M_rank'].max())*100"
      ],
      "metadata": {
        "id": "qu1QY4KOc0ps"
      },
      "execution_count": null,
      "outputs": []
    },
    {
      "cell_type": "code",
      "source": [
        "rfm_df.head()"
      ],
      "metadata": {
        "colab": {
          "base_uri": "https://localhost:8080/",
          "height": 206
        },
        "id": "bCfin2k6eu-W",
        "outputId": "48a3ad71-e9e0-4910-cccd-26ac6218cd74"
      },
      "execution_count": null,
      "outputs": [
        {
          "output_type": "execute_result",
          "data": {
            "text/plain": [
              "   user_id  Recency  Frequency    Monetary  R_rank_norm  F_rank_norm  \\\n",
              "0    55509       83          1   3999.2000    15.555154    41.863639   \n",
              "1    57291        3          1    299.0000    97.581458    41.863639   \n",
              "2    58758        4          1    299.0000    96.343764    41.863639   \n",
              "3    63021       83          1   1411.0934    15.555154    41.863639   \n",
              "4    66323       21          1  22392.0000    78.103925    41.863639   \n",
              "\n",
              "   M_rank_norm   R_rank  F_rank   M_rank  \n",
              "0    95.494104   3010.0  8129.5  18544.0  \n",
              "1    20.410423  18882.5  8129.5   3963.5  \n",
              "2    20.410423  18643.0  8129.5   3963.5  \n",
              "3    59.421185   3010.0  8129.5  11539.0  \n",
              "4    99.953654  15113.5  8129.5  19410.0  "
            ],
            "text/html": [
              "\n",
              "  <div id=\"df-158d1798-9a0b-41f7-bea0-0302bc5b2ca7\">\n",
              "    <div class=\"colab-df-container\">\n",
              "      <div>\n",
              "<style scoped>\n",
              "    .dataframe tbody tr th:only-of-type {\n",
              "        vertical-align: middle;\n",
              "    }\n",
              "\n",
              "    .dataframe tbody tr th {\n",
              "        vertical-align: top;\n",
              "    }\n",
              "\n",
              "    .dataframe thead th {\n",
              "        text-align: right;\n",
              "    }\n",
              "</style>\n",
              "<table border=\"1\" class=\"dataframe\">\n",
              "  <thead>\n",
              "    <tr style=\"text-align: right;\">\n",
              "      <th></th>\n",
              "      <th>user_id</th>\n",
              "      <th>Recency</th>\n",
              "      <th>Frequency</th>\n",
              "      <th>Monetary</th>\n",
              "      <th>R_rank_norm</th>\n",
              "      <th>F_rank_norm</th>\n",
              "      <th>M_rank_norm</th>\n",
              "      <th>R_rank</th>\n",
              "      <th>F_rank</th>\n",
              "      <th>M_rank</th>\n",
              "    </tr>\n",
              "  </thead>\n",
              "  <tbody>\n",
              "    <tr>\n",
              "      <th>0</th>\n",
              "      <td>55509</td>\n",
              "      <td>83</td>\n",
              "      <td>1</td>\n",
              "      <td>3999.2000</td>\n",
              "      <td>15.555154</td>\n",
              "      <td>41.863639</td>\n",
              "      <td>95.494104</td>\n",
              "      <td>3010.0</td>\n",
              "      <td>8129.5</td>\n",
              "      <td>18544.0</td>\n",
              "    </tr>\n",
              "    <tr>\n",
              "      <th>1</th>\n",
              "      <td>57291</td>\n",
              "      <td>3</td>\n",
              "      <td>1</td>\n",
              "      <td>299.0000</td>\n",
              "      <td>97.581458</td>\n",
              "      <td>41.863639</td>\n",
              "      <td>20.410423</td>\n",
              "      <td>18882.5</td>\n",
              "      <td>8129.5</td>\n",
              "      <td>3963.5</td>\n",
              "    </tr>\n",
              "    <tr>\n",
              "      <th>2</th>\n",
              "      <td>58758</td>\n",
              "      <td>4</td>\n",
              "      <td>1</td>\n",
              "      <td>299.0000</td>\n",
              "      <td>96.343764</td>\n",
              "      <td>41.863639</td>\n",
              "      <td>20.410423</td>\n",
              "      <td>18643.0</td>\n",
              "      <td>8129.5</td>\n",
              "      <td>3963.5</td>\n",
              "    </tr>\n",
              "    <tr>\n",
              "      <th>3</th>\n",
              "      <td>63021</td>\n",
              "      <td>83</td>\n",
              "      <td>1</td>\n",
              "      <td>1411.0934</td>\n",
              "      <td>15.555154</td>\n",
              "      <td>41.863639</td>\n",
              "      <td>59.421185</td>\n",
              "      <td>3010.0</td>\n",
              "      <td>8129.5</td>\n",
              "      <td>11539.0</td>\n",
              "    </tr>\n",
              "    <tr>\n",
              "      <th>4</th>\n",
              "      <td>66323</td>\n",
              "      <td>21</td>\n",
              "      <td>1</td>\n",
              "      <td>22392.0000</td>\n",
              "      <td>78.103925</td>\n",
              "      <td>41.863639</td>\n",
              "      <td>99.953654</td>\n",
              "      <td>15113.5</td>\n",
              "      <td>8129.5</td>\n",
              "      <td>19410.0</td>\n",
              "    </tr>\n",
              "  </tbody>\n",
              "</table>\n",
              "</div>\n",
              "      <button class=\"colab-df-convert\" onclick=\"convertToInteractive('df-158d1798-9a0b-41f7-bea0-0302bc5b2ca7')\"\n",
              "              title=\"Convert this dataframe to an interactive table.\"\n",
              "              style=\"display:none;\">\n",
              "        \n",
              "  <svg xmlns=\"http://www.w3.org/2000/svg\" height=\"24px\"viewBox=\"0 0 24 24\"\n",
              "       width=\"24px\">\n",
              "    <path d=\"M0 0h24v24H0V0z\" fill=\"none\"/>\n",
              "    <path d=\"M18.56 5.44l.94 2.06.94-2.06 2.06-.94-2.06-.94-.94-2.06-.94 2.06-2.06.94zm-11 1L8.5 8.5l.94-2.06 2.06-.94-2.06-.94L8.5 2.5l-.94 2.06-2.06.94zm10 10l.94 2.06.94-2.06 2.06-.94-2.06-.94-.94-2.06-.94 2.06-2.06.94z\"/><path d=\"M17.41 7.96l-1.37-1.37c-.4-.4-.92-.59-1.43-.59-.52 0-1.04.2-1.43.59L10.3 9.45l-7.72 7.72c-.78.78-.78 2.05 0 2.83L4 21.41c.39.39.9.59 1.41.59.51 0 1.02-.2 1.41-.59l7.78-7.78 2.81-2.81c.8-.78.8-2.07 0-2.86zM5.41 20L4 18.59l7.72-7.72 1.47 1.35L5.41 20z\"/>\n",
              "  </svg>\n",
              "      </button>\n",
              "      \n",
              "  <style>\n",
              "    .colab-df-container {\n",
              "      display:flex;\n",
              "      flex-wrap:wrap;\n",
              "      gap: 12px;\n",
              "    }\n",
              "\n",
              "    .colab-df-convert {\n",
              "      background-color: #E8F0FE;\n",
              "      border: none;\n",
              "      border-radius: 50%;\n",
              "      cursor: pointer;\n",
              "      display: none;\n",
              "      fill: #1967D2;\n",
              "      height: 32px;\n",
              "      padding: 0 0 0 0;\n",
              "      width: 32px;\n",
              "    }\n",
              "\n",
              "    .colab-df-convert:hover {\n",
              "      background-color: #E2EBFA;\n",
              "      box-shadow: 0px 1px 2px rgba(60, 64, 67, 0.3), 0px 1px 3px 1px rgba(60, 64, 67, 0.15);\n",
              "      fill: #174EA6;\n",
              "    }\n",
              "\n",
              "    [theme=dark] .colab-df-convert {\n",
              "      background-color: #3B4455;\n",
              "      fill: #D2E3FC;\n",
              "    }\n",
              "\n",
              "    [theme=dark] .colab-df-convert:hover {\n",
              "      background-color: #434B5C;\n",
              "      box-shadow: 0px 1px 3px 1px rgba(0, 0, 0, 0.15);\n",
              "      filter: drop-shadow(0px 1px 2px rgba(0, 0, 0, 0.3));\n",
              "      fill: #FFFFFF;\n",
              "    }\n",
              "  </style>\n",
              "\n",
              "      <script>\n",
              "        const buttonEl =\n",
              "          document.querySelector('#df-158d1798-9a0b-41f7-bea0-0302bc5b2ca7 button.colab-df-convert');\n",
              "        buttonEl.style.display =\n",
              "          google.colab.kernel.accessAllowed ? 'block' : 'none';\n",
              "\n",
              "        async function convertToInteractive(key) {\n",
              "          const element = document.querySelector('#df-158d1798-9a0b-41f7-bea0-0302bc5b2ca7');\n",
              "          const dataTable =\n",
              "            await google.colab.kernel.invokeFunction('convertToInteractive',\n",
              "                                                     [key], {});\n",
              "          if (!dataTable) return;\n",
              "\n",
              "          const docLinkHtml = 'Like what you see? Visit the ' +\n",
              "            '<a target=\"_blank\" href=https://colab.research.google.com/notebooks/data_table.ipynb>data table notebook</a>'\n",
              "            + ' to learn more about interactive tables.';\n",
              "          element.innerHTML = '';\n",
              "          dataTable['output_type'] = 'display_data';\n",
              "          await google.colab.output.renderOutput(dataTable, element);\n",
              "          const docLink = document.createElement('div');\n",
              "          docLink.innerHTML = docLinkHtml;\n",
              "          element.appendChild(docLink);\n",
              "        }\n",
              "      </script>\n",
              "    </div>\n",
              "  </div>\n",
              "  "
            ]
          },
          "metadata": {},
          "execution_count": 65
        }
      ]
    },
    {
      "cell_type": "code",
      "source": [
        "# Dropping non-normalized RFM features\n",
        "rfm_df.drop(columns=['R_rank', 'F_rank', 'M_rank'], inplace=True)\n",
        "\n",
        "rfm_df.head()"
      ],
      "metadata": {
        "colab": {
          "base_uri": "https://localhost:8080/",
          "height": 206
        },
        "id": "84UHuTAVezyg",
        "outputId": "eac35f2f-6e97-43ac-e4b1-d5106f817213"
      },
      "execution_count": null,
      "outputs": [
        {
          "output_type": "execute_result",
          "data": {
            "text/plain": [
              "   user_id  Recency  Frequency    Monetary  R_rank_norm  F_rank_norm  \\\n",
              "0    55509       83          1   3999.2000    15.555154    41.863639   \n",
              "1    57291        3          1    299.0000    97.581458    41.863639   \n",
              "2    58758        4          1    299.0000    96.343764    41.863639   \n",
              "3    63021       83          1   1411.0934    15.555154    41.863639   \n",
              "4    66323       21          1  22392.0000    78.103925    41.863639   \n",
              "\n",
              "   M_rank_norm  \n",
              "0    95.494104  \n",
              "1    20.410423  \n",
              "2    20.410423  \n",
              "3    59.421185  \n",
              "4    99.953654  "
            ],
            "text/html": [
              "\n",
              "  <div id=\"df-e0a16175-5474-4597-8a5a-ef7d995e6384\">\n",
              "    <div class=\"colab-df-container\">\n",
              "      <div>\n",
              "<style scoped>\n",
              "    .dataframe tbody tr th:only-of-type {\n",
              "        vertical-align: middle;\n",
              "    }\n",
              "\n",
              "    .dataframe tbody tr th {\n",
              "        vertical-align: top;\n",
              "    }\n",
              "\n",
              "    .dataframe thead th {\n",
              "        text-align: right;\n",
              "    }\n",
              "</style>\n",
              "<table border=\"1\" class=\"dataframe\">\n",
              "  <thead>\n",
              "    <tr style=\"text-align: right;\">\n",
              "      <th></th>\n",
              "      <th>user_id</th>\n",
              "      <th>Recency</th>\n",
              "      <th>Frequency</th>\n",
              "      <th>Monetary</th>\n",
              "      <th>R_rank_norm</th>\n",
              "      <th>F_rank_norm</th>\n",
              "      <th>M_rank_norm</th>\n",
              "    </tr>\n",
              "  </thead>\n",
              "  <tbody>\n",
              "    <tr>\n",
              "      <th>0</th>\n",
              "      <td>55509</td>\n",
              "      <td>83</td>\n",
              "      <td>1</td>\n",
              "      <td>3999.2000</td>\n",
              "      <td>15.555154</td>\n",
              "      <td>41.863639</td>\n",
              "      <td>95.494104</td>\n",
              "    </tr>\n",
              "    <tr>\n",
              "      <th>1</th>\n",
              "      <td>57291</td>\n",
              "      <td>3</td>\n",
              "      <td>1</td>\n",
              "      <td>299.0000</td>\n",
              "      <td>97.581458</td>\n",
              "      <td>41.863639</td>\n",
              "      <td>20.410423</td>\n",
              "    </tr>\n",
              "    <tr>\n",
              "      <th>2</th>\n",
              "      <td>58758</td>\n",
              "      <td>4</td>\n",
              "      <td>1</td>\n",
              "      <td>299.0000</td>\n",
              "      <td>96.343764</td>\n",
              "      <td>41.863639</td>\n",
              "      <td>20.410423</td>\n",
              "    </tr>\n",
              "    <tr>\n",
              "      <th>3</th>\n",
              "      <td>63021</td>\n",
              "      <td>83</td>\n",
              "      <td>1</td>\n",
              "      <td>1411.0934</td>\n",
              "      <td>15.555154</td>\n",
              "      <td>41.863639</td>\n",
              "      <td>59.421185</td>\n",
              "    </tr>\n",
              "    <tr>\n",
              "      <th>4</th>\n",
              "      <td>66323</td>\n",
              "      <td>21</td>\n",
              "      <td>1</td>\n",
              "      <td>22392.0000</td>\n",
              "      <td>78.103925</td>\n",
              "      <td>41.863639</td>\n",
              "      <td>99.953654</td>\n",
              "    </tr>\n",
              "  </tbody>\n",
              "</table>\n",
              "</div>\n",
              "      <button class=\"colab-df-convert\" onclick=\"convertToInteractive('df-e0a16175-5474-4597-8a5a-ef7d995e6384')\"\n",
              "              title=\"Convert this dataframe to an interactive table.\"\n",
              "              style=\"display:none;\">\n",
              "        \n",
              "  <svg xmlns=\"http://www.w3.org/2000/svg\" height=\"24px\"viewBox=\"0 0 24 24\"\n",
              "       width=\"24px\">\n",
              "    <path d=\"M0 0h24v24H0V0z\" fill=\"none\"/>\n",
              "    <path d=\"M18.56 5.44l.94 2.06.94-2.06 2.06-.94-2.06-.94-.94-2.06-.94 2.06-2.06.94zm-11 1L8.5 8.5l.94-2.06 2.06-.94-2.06-.94L8.5 2.5l-.94 2.06-2.06.94zm10 10l.94 2.06.94-2.06 2.06-.94-2.06-.94-.94-2.06-.94 2.06-2.06.94z\"/><path d=\"M17.41 7.96l-1.37-1.37c-.4-.4-.92-.59-1.43-.59-.52 0-1.04.2-1.43.59L10.3 9.45l-7.72 7.72c-.78.78-.78 2.05 0 2.83L4 21.41c.39.39.9.59 1.41.59.51 0 1.02-.2 1.41-.59l7.78-7.78 2.81-2.81c.8-.78.8-2.07 0-2.86zM5.41 20L4 18.59l7.72-7.72 1.47 1.35L5.41 20z\"/>\n",
              "  </svg>\n",
              "      </button>\n",
              "      \n",
              "  <style>\n",
              "    .colab-df-container {\n",
              "      display:flex;\n",
              "      flex-wrap:wrap;\n",
              "      gap: 12px;\n",
              "    }\n",
              "\n",
              "    .colab-df-convert {\n",
              "      background-color: #E8F0FE;\n",
              "      border: none;\n",
              "      border-radius: 50%;\n",
              "      cursor: pointer;\n",
              "      display: none;\n",
              "      fill: #1967D2;\n",
              "      height: 32px;\n",
              "      padding: 0 0 0 0;\n",
              "      width: 32px;\n",
              "    }\n",
              "\n",
              "    .colab-df-convert:hover {\n",
              "      background-color: #E2EBFA;\n",
              "      box-shadow: 0px 1px 2px rgba(60, 64, 67, 0.3), 0px 1px 3px 1px rgba(60, 64, 67, 0.15);\n",
              "      fill: #174EA6;\n",
              "    }\n",
              "\n",
              "    [theme=dark] .colab-df-convert {\n",
              "      background-color: #3B4455;\n",
              "      fill: #D2E3FC;\n",
              "    }\n",
              "\n",
              "    [theme=dark] .colab-df-convert:hover {\n",
              "      background-color: #434B5C;\n",
              "      box-shadow: 0px 1px 3px 1px rgba(0, 0, 0, 0.15);\n",
              "      filter: drop-shadow(0px 1px 2px rgba(0, 0, 0, 0.3));\n",
              "      fill: #FFFFFF;\n",
              "    }\n",
              "  </style>\n",
              "\n",
              "      <script>\n",
              "        const buttonEl =\n",
              "          document.querySelector('#df-e0a16175-5474-4597-8a5a-ef7d995e6384 button.colab-df-convert');\n",
              "        buttonEl.style.display =\n",
              "          google.colab.kernel.accessAllowed ? 'block' : 'none';\n",
              "\n",
              "        async function convertToInteractive(key) {\n",
              "          const element = document.querySelector('#df-e0a16175-5474-4597-8a5a-ef7d995e6384');\n",
              "          const dataTable =\n",
              "            await google.colab.kernel.invokeFunction('convertToInteractive',\n",
              "                                                     [key], {});\n",
              "          if (!dataTable) return;\n",
              "\n",
              "          const docLinkHtml = 'Like what you see? Visit the ' +\n",
              "            '<a target=\"_blank\" href=https://colab.research.google.com/notebooks/data_table.ipynb>data table notebook</a>'\n",
              "            + ' to learn more about interactive tables.';\n",
              "          element.innerHTML = '';\n",
              "          dataTable['output_type'] = 'display_data';\n",
              "          await google.colab.output.renderOutput(dataTable, element);\n",
              "          const docLink = document.createElement('div');\n",
              "          docLink.innerHTML = docLinkHtml;\n",
              "          element.appendChild(docLink);\n",
              "        }\n",
              "      </script>\n",
              "    </div>\n",
              "  </div>\n",
              "  "
            ]
          },
          "metadata": {},
          "execution_count": 66
        }
      ]
    },
    {
      "cell_type": "markdown",
      "source": [
        "Now, we have obtained the normalized RFM values. We will now score the customers/users based on their rankings."
      ],
      "metadata": {
        "id": "weG1cLxle_Ug"
      }
    },
    {
      "cell_type": "markdown",
      "source": [
        "#### RFM Scores"
      ],
      "metadata": {
        "id": "kUuu01XAfJ2z"
      }
    },
    {
      "cell_type": "markdown",
      "source": [
        "RFM score is calculated based upon recency, frequency, monetary value normalized ranks. Based upon this score we divide our customers. Here we rate them on a scale of 5. \n",
        "\n",
        "The standard formula used for calculating rfm score is : \n",
        "\n",
        "> (0.15 x Recency score) + (0.28 x Frequency score) + (0.57 x Monetary score)"
      ],
      "metadata": {
        "id": "5kSkNOr_fOh5"
      }
    },
    {
      "cell_type": "code",
      "source": [
        "# Applying the formula\n",
        "rfm_df['RFM_Score'] = 0.15*rfm_df['R_rank_norm']+0.28 *rfm_df['F_rank_norm']+0.57*rfm_df['M_rank_norm']"
      ],
      "metadata": {
        "id": "91OvjWgCezqj"
      },
      "execution_count": null,
      "outputs": []
    },
    {
      "cell_type": "code",
      "source": [
        "rfm_df.head()"
      ],
      "metadata": {
        "colab": {
          "base_uri": "https://localhost:8080/",
          "height": 206
        },
        "id": "jQhj_BDJezix",
        "outputId": "0354b591-eb3a-4df2-be0d-8da60d74dad2"
      },
      "execution_count": null,
      "outputs": [
        {
          "output_type": "execute_result",
          "data": {
            "text/plain": [
              "   user_id  Recency  Frequency    Monetary  R_rank_norm  F_rank_norm  \\\n",
              "0    55509       83          1   3999.2000    15.555154    41.863639   \n",
              "1    57291        3          1    299.0000    97.581458    41.863639   \n",
              "2    58758        4          1    299.0000    96.343764    41.863639   \n",
              "3    63021       83          1   1411.0934    15.555154    41.863639   \n",
              "4    66323       21          1  22392.0000    78.103925    41.863639   \n",
              "\n",
              "   M_rank_norm  RFM_Score  \n",
              "0    95.494104  68.486731  \n",
              "1    20.410423  37.992978  \n",
              "2    20.410423  37.807324  \n",
              "3    59.421185  47.925168  \n",
              "4    99.953654  80.410990  "
            ],
            "text/html": [
              "\n",
              "  <div id=\"df-f57caf0f-69c2-447d-ab6c-a354cc7b7066\">\n",
              "    <div class=\"colab-df-container\">\n",
              "      <div>\n",
              "<style scoped>\n",
              "    .dataframe tbody tr th:only-of-type {\n",
              "        vertical-align: middle;\n",
              "    }\n",
              "\n",
              "    .dataframe tbody tr th {\n",
              "        vertical-align: top;\n",
              "    }\n",
              "\n",
              "    .dataframe thead th {\n",
              "        text-align: right;\n",
              "    }\n",
              "</style>\n",
              "<table border=\"1\" class=\"dataframe\">\n",
              "  <thead>\n",
              "    <tr style=\"text-align: right;\">\n",
              "      <th></th>\n",
              "      <th>user_id</th>\n",
              "      <th>Recency</th>\n",
              "      <th>Frequency</th>\n",
              "      <th>Monetary</th>\n",
              "      <th>R_rank_norm</th>\n",
              "      <th>F_rank_norm</th>\n",
              "      <th>M_rank_norm</th>\n",
              "      <th>RFM_Score</th>\n",
              "    </tr>\n",
              "  </thead>\n",
              "  <tbody>\n",
              "    <tr>\n",
              "      <th>0</th>\n",
              "      <td>55509</td>\n",
              "      <td>83</td>\n",
              "      <td>1</td>\n",
              "      <td>3999.2000</td>\n",
              "      <td>15.555154</td>\n",
              "      <td>41.863639</td>\n",
              "      <td>95.494104</td>\n",
              "      <td>68.486731</td>\n",
              "    </tr>\n",
              "    <tr>\n",
              "      <th>1</th>\n",
              "      <td>57291</td>\n",
              "      <td>3</td>\n",
              "      <td>1</td>\n",
              "      <td>299.0000</td>\n",
              "      <td>97.581458</td>\n",
              "      <td>41.863639</td>\n",
              "      <td>20.410423</td>\n",
              "      <td>37.992978</td>\n",
              "    </tr>\n",
              "    <tr>\n",
              "      <th>2</th>\n",
              "      <td>58758</td>\n",
              "      <td>4</td>\n",
              "      <td>1</td>\n",
              "      <td>299.0000</td>\n",
              "      <td>96.343764</td>\n",
              "      <td>41.863639</td>\n",
              "      <td>20.410423</td>\n",
              "      <td>37.807324</td>\n",
              "    </tr>\n",
              "    <tr>\n",
              "      <th>3</th>\n",
              "      <td>63021</td>\n",
              "      <td>83</td>\n",
              "      <td>1</td>\n",
              "      <td>1411.0934</td>\n",
              "      <td>15.555154</td>\n",
              "      <td>41.863639</td>\n",
              "      <td>59.421185</td>\n",
              "      <td>47.925168</td>\n",
              "    </tr>\n",
              "    <tr>\n",
              "      <th>4</th>\n",
              "      <td>66323</td>\n",
              "      <td>21</td>\n",
              "      <td>1</td>\n",
              "      <td>22392.0000</td>\n",
              "      <td>78.103925</td>\n",
              "      <td>41.863639</td>\n",
              "      <td>99.953654</td>\n",
              "      <td>80.410990</td>\n",
              "    </tr>\n",
              "  </tbody>\n",
              "</table>\n",
              "</div>\n",
              "      <button class=\"colab-df-convert\" onclick=\"convertToInteractive('df-f57caf0f-69c2-447d-ab6c-a354cc7b7066')\"\n",
              "              title=\"Convert this dataframe to an interactive table.\"\n",
              "              style=\"display:none;\">\n",
              "        \n",
              "  <svg xmlns=\"http://www.w3.org/2000/svg\" height=\"24px\"viewBox=\"0 0 24 24\"\n",
              "       width=\"24px\">\n",
              "    <path d=\"M0 0h24v24H0V0z\" fill=\"none\"/>\n",
              "    <path d=\"M18.56 5.44l.94 2.06.94-2.06 2.06-.94-2.06-.94-.94-2.06-.94 2.06-2.06.94zm-11 1L8.5 8.5l.94-2.06 2.06-.94-2.06-.94L8.5 2.5l-.94 2.06-2.06.94zm10 10l.94 2.06.94-2.06 2.06-.94-2.06-.94-.94-2.06-.94 2.06-2.06.94z\"/><path d=\"M17.41 7.96l-1.37-1.37c-.4-.4-.92-.59-1.43-.59-.52 0-1.04.2-1.43.59L10.3 9.45l-7.72 7.72c-.78.78-.78 2.05 0 2.83L4 21.41c.39.39.9.59 1.41.59.51 0 1.02-.2 1.41-.59l7.78-7.78 2.81-2.81c.8-.78.8-2.07 0-2.86zM5.41 20L4 18.59l7.72-7.72 1.47 1.35L5.41 20z\"/>\n",
              "  </svg>\n",
              "      </button>\n",
              "      \n",
              "  <style>\n",
              "    .colab-df-container {\n",
              "      display:flex;\n",
              "      flex-wrap:wrap;\n",
              "      gap: 12px;\n",
              "    }\n",
              "\n",
              "    .colab-df-convert {\n",
              "      background-color: #E8F0FE;\n",
              "      border: none;\n",
              "      border-radius: 50%;\n",
              "      cursor: pointer;\n",
              "      display: none;\n",
              "      fill: #1967D2;\n",
              "      height: 32px;\n",
              "      padding: 0 0 0 0;\n",
              "      width: 32px;\n",
              "    }\n",
              "\n",
              "    .colab-df-convert:hover {\n",
              "      background-color: #E2EBFA;\n",
              "      box-shadow: 0px 1px 2px rgba(60, 64, 67, 0.3), 0px 1px 3px 1px rgba(60, 64, 67, 0.15);\n",
              "      fill: #174EA6;\n",
              "    }\n",
              "\n",
              "    [theme=dark] .colab-df-convert {\n",
              "      background-color: #3B4455;\n",
              "      fill: #D2E3FC;\n",
              "    }\n",
              "\n",
              "    [theme=dark] .colab-df-convert:hover {\n",
              "      background-color: #434B5C;\n",
              "      box-shadow: 0px 1px 3px 1px rgba(0, 0, 0, 0.15);\n",
              "      filter: drop-shadow(0px 1px 2px rgba(0, 0, 0, 0.3));\n",
              "      fill: #FFFFFF;\n",
              "    }\n",
              "  </style>\n",
              "\n",
              "      <script>\n",
              "        const buttonEl =\n",
              "          document.querySelector('#df-f57caf0f-69c2-447d-ab6c-a354cc7b7066 button.colab-df-convert');\n",
              "        buttonEl.style.display =\n",
              "          google.colab.kernel.accessAllowed ? 'block' : 'none';\n",
              "\n",
              "        async function convertToInteractive(key) {\n",
              "          const element = document.querySelector('#df-f57caf0f-69c2-447d-ab6c-a354cc7b7066');\n",
              "          const dataTable =\n",
              "            await google.colab.kernel.invokeFunction('convertToInteractive',\n",
              "                                                     [key], {});\n",
              "          if (!dataTable) return;\n",
              "\n",
              "          const docLinkHtml = 'Like what you see? Visit the ' +\n",
              "            '<a target=\"_blank\" href=https://colab.research.google.com/notebooks/data_table.ipynb>data table notebook</a>'\n",
              "            + ' to learn more about interactive tables.';\n",
              "          element.innerHTML = '';\n",
              "          dataTable['output_type'] = 'display_data';\n",
              "          await google.colab.output.renderOutput(dataTable, element);\n",
              "          const docLink = document.createElement('div');\n",
              "          docLink.innerHTML = docLinkHtml;\n",
              "          element.appendChild(docLink);\n",
              "        }\n",
              "      </script>\n",
              "    </div>\n",
              "  </div>\n",
              "  "
            ]
          },
          "metadata": {},
          "execution_count": 68
        }
      ]
    },
    {
      "cell_type": "markdown",
      "source": [
        "RFM score is always calculated out of 5.\n",
        "\n",
        "Hence, we will take 5% value of the RFM score. "
      ],
      "metadata": {
        "id": "XSK6VhU7gXG8"
      }
    },
    {
      "cell_type": "code",
      "source": [
        "# Calculating RFM out of 5 \n",
        "rfm_df['RFM_Score'] *= 0.05\n",
        "\n",
        "# Rounding to 2 decimal points\n",
        "rfm_df = rfm_df.round(2)"
      ],
      "metadata": {
        "id": "_sjNgZQfgRnz"
      },
      "execution_count": null,
      "outputs": []
    },
    {
      "cell_type": "code",
      "source": [
        "# First view of the required df\n",
        "rfm_df[['user_id', 'RFM_Score']].head(7)"
      ],
      "metadata": {
        "colab": {
          "base_uri": "https://localhost:8080/",
          "height": 268
        },
        "id": "EiUFe5PpgRfo",
        "outputId": "16d42531-ad9b-46e9-ed24-65eab5e23836"
      },
      "execution_count": null,
      "outputs": [
        {
          "output_type": "execute_result",
          "data": {
            "text/plain": [
              "   user_id  RFM_Score\n",
              "0    55509       3.42\n",
              "1    57291       1.90\n",
              "2    58758       1.89\n",
              "3    63021       2.40\n",
              "4    66323       4.02\n",
              "5    66452       1.47\n",
              "6    66989       1.72"
            ],
            "text/html": [
              "\n",
              "  <div id=\"df-7c0e2006-c54c-4952-a8ee-22e4cd3b4100\">\n",
              "    <div class=\"colab-df-container\">\n",
              "      <div>\n",
              "<style scoped>\n",
              "    .dataframe tbody tr th:only-of-type {\n",
              "        vertical-align: middle;\n",
              "    }\n",
              "\n",
              "    .dataframe tbody tr th {\n",
              "        vertical-align: top;\n",
              "    }\n",
              "\n",
              "    .dataframe thead th {\n",
              "        text-align: right;\n",
              "    }\n",
              "</style>\n",
              "<table border=\"1\" class=\"dataframe\">\n",
              "  <thead>\n",
              "    <tr style=\"text-align: right;\">\n",
              "      <th></th>\n",
              "      <th>user_id</th>\n",
              "      <th>RFM_Score</th>\n",
              "    </tr>\n",
              "  </thead>\n",
              "  <tbody>\n",
              "    <tr>\n",
              "      <th>0</th>\n",
              "      <td>55509</td>\n",
              "      <td>3.42</td>\n",
              "    </tr>\n",
              "    <tr>\n",
              "      <th>1</th>\n",
              "      <td>57291</td>\n",
              "      <td>1.90</td>\n",
              "    </tr>\n",
              "    <tr>\n",
              "      <th>2</th>\n",
              "      <td>58758</td>\n",
              "      <td>1.89</td>\n",
              "    </tr>\n",
              "    <tr>\n",
              "      <th>3</th>\n",
              "      <td>63021</td>\n",
              "      <td>2.40</td>\n",
              "    </tr>\n",
              "    <tr>\n",
              "      <th>4</th>\n",
              "      <td>66323</td>\n",
              "      <td>4.02</td>\n",
              "    </tr>\n",
              "    <tr>\n",
              "      <th>5</th>\n",
              "      <td>66452</td>\n",
              "      <td>1.47</td>\n",
              "    </tr>\n",
              "    <tr>\n",
              "      <th>6</th>\n",
              "      <td>66989</td>\n",
              "      <td>1.72</td>\n",
              "    </tr>\n",
              "  </tbody>\n",
              "</table>\n",
              "</div>\n",
              "      <button class=\"colab-df-convert\" onclick=\"convertToInteractive('df-7c0e2006-c54c-4952-a8ee-22e4cd3b4100')\"\n",
              "              title=\"Convert this dataframe to an interactive table.\"\n",
              "              style=\"display:none;\">\n",
              "        \n",
              "  <svg xmlns=\"http://www.w3.org/2000/svg\" height=\"24px\"viewBox=\"0 0 24 24\"\n",
              "       width=\"24px\">\n",
              "    <path d=\"M0 0h24v24H0V0z\" fill=\"none\"/>\n",
              "    <path d=\"M18.56 5.44l.94 2.06.94-2.06 2.06-.94-2.06-.94-.94-2.06-.94 2.06-2.06.94zm-11 1L8.5 8.5l.94-2.06 2.06-.94-2.06-.94L8.5 2.5l-.94 2.06-2.06.94zm10 10l.94 2.06.94-2.06 2.06-.94-2.06-.94-.94-2.06-.94 2.06-2.06.94z\"/><path d=\"M17.41 7.96l-1.37-1.37c-.4-.4-.92-.59-1.43-.59-.52 0-1.04.2-1.43.59L10.3 9.45l-7.72 7.72c-.78.78-.78 2.05 0 2.83L4 21.41c.39.39.9.59 1.41.59.51 0 1.02-.2 1.41-.59l7.78-7.78 2.81-2.81c.8-.78.8-2.07 0-2.86zM5.41 20L4 18.59l7.72-7.72 1.47 1.35L5.41 20z\"/>\n",
              "  </svg>\n",
              "      </button>\n",
              "      \n",
              "  <style>\n",
              "    .colab-df-container {\n",
              "      display:flex;\n",
              "      flex-wrap:wrap;\n",
              "      gap: 12px;\n",
              "    }\n",
              "\n",
              "    .colab-df-convert {\n",
              "      background-color: #E8F0FE;\n",
              "      border: none;\n",
              "      border-radius: 50%;\n",
              "      cursor: pointer;\n",
              "      display: none;\n",
              "      fill: #1967D2;\n",
              "      height: 32px;\n",
              "      padding: 0 0 0 0;\n",
              "      width: 32px;\n",
              "    }\n",
              "\n",
              "    .colab-df-convert:hover {\n",
              "      background-color: #E2EBFA;\n",
              "      box-shadow: 0px 1px 2px rgba(60, 64, 67, 0.3), 0px 1px 3px 1px rgba(60, 64, 67, 0.15);\n",
              "      fill: #174EA6;\n",
              "    }\n",
              "\n",
              "    [theme=dark] .colab-df-convert {\n",
              "      background-color: #3B4455;\n",
              "      fill: #D2E3FC;\n",
              "    }\n",
              "\n",
              "    [theme=dark] .colab-df-convert:hover {\n",
              "      background-color: #434B5C;\n",
              "      box-shadow: 0px 1px 3px 1px rgba(0, 0, 0, 0.15);\n",
              "      filter: drop-shadow(0px 1px 2px rgba(0, 0, 0, 0.3));\n",
              "      fill: #FFFFFF;\n",
              "    }\n",
              "  </style>\n",
              "\n",
              "      <script>\n",
              "        const buttonEl =\n",
              "          document.querySelector('#df-7c0e2006-c54c-4952-a8ee-22e4cd3b4100 button.colab-df-convert');\n",
              "        buttonEl.style.display =\n",
              "          google.colab.kernel.accessAllowed ? 'block' : 'none';\n",
              "\n",
              "        async function convertToInteractive(key) {\n",
              "          const element = document.querySelector('#df-7c0e2006-c54c-4952-a8ee-22e4cd3b4100');\n",
              "          const dataTable =\n",
              "            await google.colab.kernel.invokeFunction('convertToInteractive',\n",
              "                                                     [key], {});\n",
              "          if (!dataTable) return;\n",
              "\n",
              "          const docLinkHtml = 'Like what you see? Visit the ' +\n",
              "            '<a target=\"_blank\" href=https://colab.research.google.com/notebooks/data_table.ipynb>data table notebook</a>'\n",
              "            + ' to learn more about interactive tables.';\n",
              "          element.innerHTML = '';\n",
              "          dataTable['output_type'] = 'display_data';\n",
              "          await google.colab.output.renderOutput(dataTable, element);\n",
              "          const docLink = document.createElement('div');\n",
              "          docLink.innerHTML = docLinkHtml;\n",
              "          element.appendChild(docLink);\n",
              "        }\n",
              "      </script>\n",
              "    </div>\n",
              "  </div>\n",
              "  "
            ]
          },
          "metadata": {},
          "execution_count": 71
        }
      ]
    },
    {
      "cell_type": "markdown",
      "source": [
        "Rating Customer based upon the RFM score:\n",
        "\n",
        "* rfm score > 4.5 : Top Customer\n",
        "* 4.5 > rfm score > 4 : High Value Customer\n",
        "* 4 > rfm score > 3 : Medium value customer\n",
        "* 3 > rfm score > 1.6 : Low-value customer\n",
        "* rfm score < 1.6 : Lost Customer"
      ],
      "metadata": {
        "id": "L1l3Ek5JhDOY"
      }
    },
    {
      "cell_type": "code",
      "source": [
        "# Categorizing the customers\n",
        "rfm_df[\"customer_category\"] = np.where(rfm_df['RFM_Score']>4.5, \"Top Customers\",\n",
        "                                      (np.where(rfm_df['RFM_Score'] > 4,\"High value Customer\",\n",
        "                                        (np.where(rfm_df['RFM_Score'] > 3,\"Medium Value Customer\",\n",
        "                                          np.where(rfm_df['RFM_Score'] > 1.6,'Low Value Customers','Lost Customers'))))))"
      ],
      "metadata": {
        "id": "EOg7Iwi-gRXH"
      },
      "execution_count": null,
      "outputs": []
    },
    {
      "cell_type": "code",
      "source": [
        "# First view\n",
        "rfm_df[['user_id', 'RFM_Score', 'customer_category']].head()"
      ],
      "metadata": {
        "colab": {
          "base_uri": "https://localhost:8080/",
          "height": 206
        },
        "id": "bG5eJ2YFh3OU",
        "outputId": "d5a74877-42fc-418e-c23e-6684bef7e11b"
      },
      "execution_count": null,
      "outputs": [
        {
          "output_type": "execute_result",
          "data": {
            "text/plain": [
              "   user_id  RFM_Score      customer_category\n",
              "0    55509       3.42  Medium Value Customer\n",
              "1    57291       1.90    Low Value Customers\n",
              "2    58758       1.89    Low Value Customers\n",
              "3    63021       2.40    Low Value Customers\n",
              "4    66323       4.02    High value Customer"
            ],
            "text/html": [
              "\n",
              "  <div id=\"df-8cd1ad76-53f5-44d0-b84f-4726ced72fe1\">\n",
              "    <div class=\"colab-df-container\">\n",
              "      <div>\n",
              "<style scoped>\n",
              "    .dataframe tbody tr th:only-of-type {\n",
              "        vertical-align: middle;\n",
              "    }\n",
              "\n",
              "    .dataframe tbody tr th {\n",
              "        vertical-align: top;\n",
              "    }\n",
              "\n",
              "    .dataframe thead th {\n",
              "        text-align: right;\n",
              "    }\n",
              "</style>\n",
              "<table border=\"1\" class=\"dataframe\">\n",
              "  <thead>\n",
              "    <tr style=\"text-align: right;\">\n",
              "      <th></th>\n",
              "      <th>user_id</th>\n",
              "      <th>RFM_Score</th>\n",
              "      <th>customer_category</th>\n",
              "    </tr>\n",
              "  </thead>\n",
              "  <tbody>\n",
              "    <tr>\n",
              "      <th>0</th>\n",
              "      <td>55509</td>\n",
              "      <td>3.42</td>\n",
              "      <td>Medium Value Customer</td>\n",
              "    </tr>\n",
              "    <tr>\n",
              "      <th>1</th>\n",
              "      <td>57291</td>\n",
              "      <td>1.90</td>\n",
              "      <td>Low Value Customers</td>\n",
              "    </tr>\n",
              "    <tr>\n",
              "      <th>2</th>\n",
              "      <td>58758</td>\n",
              "      <td>1.89</td>\n",
              "      <td>Low Value Customers</td>\n",
              "    </tr>\n",
              "    <tr>\n",
              "      <th>3</th>\n",
              "      <td>63021</td>\n",
              "      <td>2.40</td>\n",
              "      <td>Low Value Customers</td>\n",
              "    </tr>\n",
              "    <tr>\n",
              "      <th>4</th>\n",
              "      <td>66323</td>\n",
              "      <td>4.02</td>\n",
              "      <td>High value Customer</td>\n",
              "    </tr>\n",
              "  </tbody>\n",
              "</table>\n",
              "</div>\n",
              "      <button class=\"colab-df-convert\" onclick=\"convertToInteractive('df-8cd1ad76-53f5-44d0-b84f-4726ced72fe1')\"\n",
              "              title=\"Convert this dataframe to an interactive table.\"\n",
              "              style=\"display:none;\">\n",
              "        \n",
              "  <svg xmlns=\"http://www.w3.org/2000/svg\" height=\"24px\"viewBox=\"0 0 24 24\"\n",
              "       width=\"24px\">\n",
              "    <path d=\"M0 0h24v24H0V0z\" fill=\"none\"/>\n",
              "    <path d=\"M18.56 5.44l.94 2.06.94-2.06 2.06-.94-2.06-.94-.94-2.06-.94 2.06-2.06.94zm-11 1L8.5 8.5l.94-2.06 2.06-.94-2.06-.94L8.5 2.5l-.94 2.06-2.06.94zm10 10l.94 2.06.94-2.06 2.06-.94-2.06-.94-.94-2.06-.94 2.06-2.06.94z\"/><path d=\"M17.41 7.96l-1.37-1.37c-.4-.4-.92-.59-1.43-.59-.52 0-1.04.2-1.43.59L10.3 9.45l-7.72 7.72c-.78.78-.78 2.05 0 2.83L4 21.41c.39.39.9.59 1.41.59.51 0 1.02-.2 1.41-.59l7.78-7.78 2.81-2.81c.8-.78.8-2.07 0-2.86zM5.41 20L4 18.59l7.72-7.72 1.47 1.35L5.41 20z\"/>\n",
              "  </svg>\n",
              "      </button>\n",
              "      \n",
              "  <style>\n",
              "    .colab-df-container {\n",
              "      display:flex;\n",
              "      flex-wrap:wrap;\n",
              "      gap: 12px;\n",
              "    }\n",
              "\n",
              "    .colab-df-convert {\n",
              "      background-color: #E8F0FE;\n",
              "      border: none;\n",
              "      border-radius: 50%;\n",
              "      cursor: pointer;\n",
              "      display: none;\n",
              "      fill: #1967D2;\n",
              "      height: 32px;\n",
              "      padding: 0 0 0 0;\n",
              "      width: 32px;\n",
              "    }\n",
              "\n",
              "    .colab-df-convert:hover {\n",
              "      background-color: #E2EBFA;\n",
              "      box-shadow: 0px 1px 2px rgba(60, 64, 67, 0.3), 0px 1px 3px 1px rgba(60, 64, 67, 0.15);\n",
              "      fill: #174EA6;\n",
              "    }\n",
              "\n",
              "    [theme=dark] .colab-df-convert {\n",
              "      background-color: #3B4455;\n",
              "      fill: #D2E3FC;\n",
              "    }\n",
              "\n",
              "    [theme=dark] .colab-df-convert:hover {\n",
              "      background-color: #434B5C;\n",
              "      box-shadow: 0px 1px 3px 1px rgba(0, 0, 0, 0.15);\n",
              "      filter: drop-shadow(0px 1px 2px rgba(0, 0, 0, 0.3));\n",
              "      fill: #FFFFFF;\n",
              "    }\n",
              "  </style>\n",
              "\n",
              "      <script>\n",
              "        const buttonEl =\n",
              "          document.querySelector('#df-8cd1ad76-53f5-44d0-b84f-4726ced72fe1 button.colab-df-convert');\n",
              "        buttonEl.style.display =\n",
              "          google.colab.kernel.accessAllowed ? 'block' : 'none';\n",
              "\n",
              "        async function convertToInteractive(key) {\n",
              "          const element = document.querySelector('#df-8cd1ad76-53f5-44d0-b84f-4726ced72fe1');\n",
              "          const dataTable =\n",
              "            await google.colab.kernel.invokeFunction('convertToInteractive',\n",
              "                                                     [key], {});\n",
              "          if (!dataTable) return;\n",
              "\n",
              "          const docLinkHtml = 'Like what you see? Visit the ' +\n",
              "            '<a target=\"_blank\" href=https://colab.research.google.com/notebooks/data_table.ipynb>data table notebook</a>'\n",
              "            + ' to learn more about interactive tables.';\n",
              "          element.innerHTML = '';\n",
              "          dataTable['output_type'] = 'display_data';\n",
              "          await google.colab.output.renderOutput(dataTable, element);\n",
              "          const docLink = document.createElement('div');\n",
              "          docLink.innerHTML = docLinkHtml;\n",
              "          element.appendChild(docLink);\n",
              "        }\n",
              "      </script>\n",
              "    </div>\n",
              "  </div>\n",
              "  "
            ]
          },
          "metadata": {},
          "execution_count": 74
        }
      ]
    },
    {
      "cell_type": "markdown",
      "source": [
        "Now that we have segmented the customers, we will merge the df_avg dataframe with df dataframe on 'user_id'."
      ],
      "metadata": {
        "id": "iXbU8QvXNmG3"
      }
    },
    {
      "cell_type": "code",
      "source": [
        "# Merging on user_id\n",
        "df = pd.merge(df, rfm_df[['user_id', 'customer_category']], on='user_id', how='left')"
      ],
      "metadata": {
        "id": "c9xayaqzLt_p"
      },
      "execution_count": null,
      "outputs": []
    },
    {
      "cell_type": "markdown",
      "source": [
        "#### Saving cleaned dataframe to csv"
      ],
      "metadata": {
        "id": "JwvKn34DEru6"
      }
    },
    {
      "cell_type": "code",
      "source": [
        "df.head(2)"
      ],
      "metadata": {
        "colab": {
          "base_uri": "https://localhost:8080/",
          "height": 297
        },
        "id": "ro0py3IODx4g",
        "outputId": "30575c46-e76f-4343-9b66-dca6c821d409"
      },
      "execution_count": null,
      "outputs": [
        {
          "output_type": "execute_result",
          "data": {
            "text/plain": [
              "     user_id    bill_id  line_item_amount  bill_discount transaction_date  \\\n",
              "0  338305054  798647011         1123.5171            0.0       2023-01-12   \n",
              "1  365365630  797157768         1399.0000            0.0       2023-01-07   \n",
              "\n",
              "                              description         inventory_category  size  \\\n",
              "0     mtr itmtr00047 brooklyn ff olive 30  mens trouser - sportswear  30.0   \n",
              "1  mbl itmbl00004 regular casual black 32      mens belt - jeanswear  32.0   \n",
              "\n",
              "  zone_name  store_name                          year  quantity  \\\n",
              "0     south  south_7154 1970-01-01 00:00:00.000002023         1   \n",
              "1      east   east_7096 1970-01-01 00:00:00.000002023         1   \n",
              "\n",
              "     customer_category  \n",
              "0  Low Value Customers  \n",
              "1  Low Value Customers  "
            ],
            "text/html": [
              "\n",
              "  <div id=\"df-39791a27-45fd-40c7-b843-fe7b035f16f0\">\n",
              "    <div class=\"colab-df-container\">\n",
              "      <div>\n",
              "<style scoped>\n",
              "    .dataframe tbody tr th:only-of-type {\n",
              "        vertical-align: middle;\n",
              "    }\n",
              "\n",
              "    .dataframe tbody tr th {\n",
              "        vertical-align: top;\n",
              "    }\n",
              "\n",
              "    .dataframe thead th {\n",
              "        text-align: right;\n",
              "    }\n",
              "</style>\n",
              "<table border=\"1\" class=\"dataframe\">\n",
              "  <thead>\n",
              "    <tr style=\"text-align: right;\">\n",
              "      <th></th>\n",
              "      <th>user_id</th>\n",
              "      <th>bill_id</th>\n",
              "      <th>line_item_amount</th>\n",
              "      <th>bill_discount</th>\n",
              "      <th>transaction_date</th>\n",
              "      <th>description</th>\n",
              "      <th>inventory_category</th>\n",
              "      <th>size</th>\n",
              "      <th>zone_name</th>\n",
              "      <th>store_name</th>\n",
              "      <th>year</th>\n",
              "      <th>quantity</th>\n",
              "      <th>customer_category</th>\n",
              "    </tr>\n",
              "  </thead>\n",
              "  <tbody>\n",
              "    <tr>\n",
              "      <th>0</th>\n",
              "      <td>338305054</td>\n",
              "      <td>798647011</td>\n",
              "      <td>1123.5171</td>\n",
              "      <td>0.0</td>\n",
              "      <td>2023-01-12</td>\n",
              "      <td>mtr itmtr00047 brooklyn ff olive 30</td>\n",
              "      <td>mens trouser - sportswear</td>\n",
              "      <td>30.0</td>\n",
              "      <td>south</td>\n",
              "      <td>south_7154</td>\n",
              "      <td>1970-01-01 00:00:00.000002023</td>\n",
              "      <td>1</td>\n",
              "      <td>Low Value Customers</td>\n",
              "    </tr>\n",
              "    <tr>\n",
              "      <th>1</th>\n",
              "      <td>365365630</td>\n",
              "      <td>797157768</td>\n",
              "      <td>1399.0000</td>\n",
              "      <td>0.0</td>\n",
              "      <td>2023-01-07</td>\n",
              "      <td>mbl itmbl00004 regular casual black 32</td>\n",
              "      <td>mens belt - jeanswear</td>\n",
              "      <td>32.0</td>\n",
              "      <td>east</td>\n",
              "      <td>east_7096</td>\n",
              "      <td>1970-01-01 00:00:00.000002023</td>\n",
              "      <td>1</td>\n",
              "      <td>Low Value Customers</td>\n",
              "    </tr>\n",
              "  </tbody>\n",
              "</table>\n",
              "</div>\n",
              "      <button class=\"colab-df-convert\" onclick=\"convertToInteractive('df-39791a27-45fd-40c7-b843-fe7b035f16f0')\"\n",
              "              title=\"Convert this dataframe to an interactive table.\"\n",
              "              style=\"display:none;\">\n",
              "        \n",
              "  <svg xmlns=\"http://www.w3.org/2000/svg\" height=\"24px\"viewBox=\"0 0 24 24\"\n",
              "       width=\"24px\">\n",
              "    <path d=\"M0 0h24v24H0V0z\" fill=\"none\"/>\n",
              "    <path d=\"M18.56 5.44l.94 2.06.94-2.06 2.06-.94-2.06-.94-.94-2.06-.94 2.06-2.06.94zm-11 1L8.5 8.5l.94-2.06 2.06-.94-2.06-.94L8.5 2.5l-.94 2.06-2.06.94zm10 10l.94 2.06.94-2.06 2.06-.94-2.06-.94-.94-2.06-.94 2.06-2.06.94z\"/><path d=\"M17.41 7.96l-1.37-1.37c-.4-.4-.92-.59-1.43-.59-.52 0-1.04.2-1.43.59L10.3 9.45l-7.72 7.72c-.78.78-.78 2.05 0 2.83L4 21.41c.39.39.9.59 1.41.59.51 0 1.02-.2 1.41-.59l7.78-7.78 2.81-2.81c.8-.78.8-2.07 0-2.86zM5.41 20L4 18.59l7.72-7.72 1.47 1.35L5.41 20z\"/>\n",
              "  </svg>\n",
              "      </button>\n",
              "      \n",
              "  <style>\n",
              "    .colab-df-container {\n",
              "      display:flex;\n",
              "      flex-wrap:wrap;\n",
              "      gap: 12px;\n",
              "    }\n",
              "\n",
              "    .colab-df-convert {\n",
              "      background-color: #E8F0FE;\n",
              "      border: none;\n",
              "      border-radius: 50%;\n",
              "      cursor: pointer;\n",
              "      display: none;\n",
              "      fill: #1967D2;\n",
              "      height: 32px;\n",
              "      padding: 0 0 0 0;\n",
              "      width: 32px;\n",
              "    }\n",
              "\n",
              "    .colab-df-convert:hover {\n",
              "      background-color: #E2EBFA;\n",
              "      box-shadow: 0px 1px 2px rgba(60, 64, 67, 0.3), 0px 1px 3px 1px rgba(60, 64, 67, 0.15);\n",
              "      fill: #174EA6;\n",
              "    }\n",
              "\n",
              "    [theme=dark] .colab-df-convert {\n",
              "      background-color: #3B4455;\n",
              "      fill: #D2E3FC;\n",
              "    }\n",
              "\n",
              "    [theme=dark] .colab-df-convert:hover {\n",
              "      background-color: #434B5C;\n",
              "      box-shadow: 0px 1px 3px 1px rgba(0, 0, 0, 0.15);\n",
              "      filter: drop-shadow(0px 1px 2px rgba(0, 0, 0, 0.3));\n",
              "      fill: #FFFFFF;\n",
              "    }\n",
              "  </style>\n",
              "\n",
              "      <script>\n",
              "        const buttonEl =\n",
              "          document.querySelector('#df-39791a27-45fd-40c7-b843-fe7b035f16f0 button.colab-df-convert');\n",
              "        buttonEl.style.display =\n",
              "          google.colab.kernel.accessAllowed ? 'block' : 'none';\n",
              "\n",
              "        async function convertToInteractive(key) {\n",
              "          const element = document.querySelector('#df-39791a27-45fd-40c7-b843-fe7b035f16f0');\n",
              "          const dataTable =\n",
              "            await google.colab.kernel.invokeFunction('convertToInteractive',\n",
              "                                                     [key], {});\n",
              "          if (!dataTable) return;\n",
              "\n",
              "          const docLinkHtml = 'Like what you see? Visit the ' +\n",
              "            '<a target=\"_blank\" href=https://colab.research.google.com/notebooks/data_table.ipynb>data table notebook</a>'\n",
              "            + ' to learn more about interactive tables.';\n",
              "          element.innerHTML = '';\n",
              "          dataTable['output_type'] = 'display_data';\n",
              "          await google.colab.output.renderOutput(dataTable, element);\n",
              "          const docLink = document.createElement('div');\n",
              "          docLink.innerHTML = docLinkHtml;\n",
              "          element.appendChild(docLink);\n",
              "        }\n",
              "      </script>\n",
              "    </div>\n",
              "  </div>\n",
              "  "
            ]
          },
          "metadata": {},
          "execution_count": 76
        }
      ]
    },
    {
      "cell_type": "markdown",
      "source": [
        "We will also save the dataframe cleaned off duplicates as a csv file so that we do not have to run the above iterations every single time, but instead use the cleaned df directly from the csv file."
      ],
      "metadata": {
        "id": "5Aq5R_v6gz6K"
      }
    },
    {
      "cell_type": "code",
      "source": [
        "# Saving df to csv\n",
        "df.to_csv(\"cleaned_df.csv\",index=False)"
      ],
      "metadata": {
        "id": "0eXMIDUr9OJR"
      },
      "execution_count": null,
      "outputs": []
    },
    {
      "cell_type": "code",
      "source": [
        "# Downloading csv to local device\n",
        "from google.colab import files\n",
        "files.download(\"cleaned_df.csv\")"
      ],
      "metadata": {
        "id": "3mdcsLzC9OGs",
        "colab": {
          "base_uri": "https://localhost:8080/",
          "height": 17
        },
        "outputId": "d4b7d766-bc23-477f-cc61-003d6cded376"
      },
      "execution_count": null,
      "outputs": [
        {
          "output_type": "display_data",
          "data": {
            "text/plain": [
              "<IPython.core.display.Javascript object>"
            ],
            "application/javascript": [
              "\n",
              "    async function download(id, filename, size) {\n",
              "      if (!google.colab.kernel.accessAllowed) {\n",
              "        return;\n",
              "      }\n",
              "      const div = document.createElement('div');\n",
              "      const label = document.createElement('label');\n",
              "      label.textContent = `Downloading \"${filename}\": `;\n",
              "      div.appendChild(label);\n",
              "      const progress = document.createElement('progress');\n",
              "      progress.max = size;\n",
              "      div.appendChild(progress);\n",
              "      document.body.appendChild(div);\n",
              "\n",
              "      const buffers = [];\n",
              "      let downloaded = 0;\n",
              "\n",
              "      const channel = await google.colab.kernel.comms.open(id);\n",
              "      // Send a message to notify the kernel that we're ready.\n",
              "      channel.send({})\n",
              "\n",
              "      for await (const message of channel.messages) {\n",
              "        // Send a message to notify the kernel that we're ready.\n",
              "        channel.send({})\n",
              "        if (message.buffers) {\n",
              "          for (const buffer of message.buffers) {\n",
              "            buffers.push(buffer);\n",
              "            downloaded += buffer.byteLength;\n",
              "            progress.value = downloaded;\n",
              "          }\n",
              "        }\n",
              "      }\n",
              "      const blob = new Blob(buffers, {type: 'application/binary'});\n",
              "      const a = document.createElement('a');\n",
              "      a.href = window.URL.createObjectURL(blob);\n",
              "      a.download = filename;\n",
              "      div.appendChild(a);\n",
              "      a.click();\n",
              "      div.remove();\n",
              "    }\n",
              "  "
            ]
          },
          "metadata": {}
        },
        {
          "output_type": "display_data",
          "data": {
            "text/plain": [
              "<IPython.core.display.Javascript object>"
            ],
            "application/javascript": [
              "download(\"download_c60a5539-4007-4ce4-b52c-59f18d10461e\", \"cleaned_df.csv\", 4342537)"
            ]
          },
          "metadata": {}
        }
      ]
    },
    {
      "cell_type": "markdown",
      "source": [
        "## ***4. Data Vizualization : Understanding the relationships between variables***"
      ],
      "metadata": {
        "id": "GF8Ens_Soomf"
      }
    },
    {
      "cell_type": "markdown",
      "source": [
        "Let us load our saved cleaned_df csv file."
      ],
      "metadata": {
        "id": "jEoJ07iXhHic"
      }
    },
    {
      "cell_type": "code",
      "source": [
        "df = pd.read_csv(\"/content/drive/MyDrive/CapillaryTechnologies/cleaned_df.csv\")"
      ],
      "metadata": {
        "id": "sS_fy1dthOly"
      },
      "execution_count": null,
      "outputs": []
    },
    {
      "cell_type": "code",
      "source": [
        "df.head(2)"
      ],
      "metadata": {
        "colab": {
          "base_uri": "https://localhost:8080/",
          "height": 297
        },
        "id": "3js5rh9jiGRC",
        "outputId": "8e583333-5b90-4a68-815d-81fca642837c"
      },
      "execution_count": null,
      "outputs": [
        {
          "output_type": "execute_result",
          "data": {
            "text/plain": [
              "     user_id    bill_id  line_item_amount  bill_discount transaction_date  \\\n",
              "0  338305054  798647011         1123.5171            0.0       2023-01-12   \n",
              "1  365365630  797157768         1399.0000            0.0       2023-01-07   \n",
              "\n",
              "                              description         inventory_category  size  \\\n",
              "0     mtr itmtr00047 brooklyn ff olive 30  mens trouser - sportswear  30.0   \n",
              "1  mbl itmbl00004 regular casual black 32      mens belt - jeanswear  32.0   \n",
              "\n",
              "  zone_name  store_name                           year  quantity  \\\n",
              "0     south  south_7154  1970-01-01 00:00:00.000002023         1   \n",
              "1      east   east_7096  1970-01-01 00:00:00.000002023         1   \n",
              "\n",
              "     customer_category  \n",
              "0  Low Value Customers  \n",
              "1  Low Value Customers  "
            ],
            "text/html": [
              "\n",
              "  <div id=\"df-5ee43697-e11a-4829-b439-c89e5bc78765\">\n",
              "    <div class=\"colab-df-container\">\n",
              "      <div>\n",
              "<style scoped>\n",
              "    .dataframe tbody tr th:only-of-type {\n",
              "        vertical-align: middle;\n",
              "    }\n",
              "\n",
              "    .dataframe tbody tr th {\n",
              "        vertical-align: top;\n",
              "    }\n",
              "\n",
              "    .dataframe thead th {\n",
              "        text-align: right;\n",
              "    }\n",
              "</style>\n",
              "<table border=\"1\" class=\"dataframe\">\n",
              "  <thead>\n",
              "    <tr style=\"text-align: right;\">\n",
              "      <th></th>\n",
              "      <th>user_id</th>\n",
              "      <th>bill_id</th>\n",
              "      <th>line_item_amount</th>\n",
              "      <th>bill_discount</th>\n",
              "      <th>transaction_date</th>\n",
              "      <th>description</th>\n",
              "      <th>inventory_category</th>\n",
              "      <th>size</th>\n",
              "      <th>zone_name</th>\n",
              "      <th>store_name</th>\n",
              "      <th>year</th>\n",
              "      <th>quantity</th>\n",
              "      <th>customer_category</th>\n",
              "    </tr>\n",
              "  </thead>\n",
              "  <tbody>\n",
              "    <tr>\n",
              "      <th>0</th>\n",
              "      <td>338305054</td>\n",
              "      <td>798647011</td>\n",
              "      <td>1123.5171</td>\n",
              "      <td>0.0</td>\n",
              "      <td>2023-01-12</td>\n",
              "      <td>mtr itmtr00047 brooklyn ff olive 30</td>\n",
              "      <td>mens trouser - sportswear</td>\n",
              "      <td>30.0</td>\n",
              "      <td>south</td>\n",
              "      <td>south_7154</td>\n",
              "      <td>1970-01-01 00:00:00.000002023</td>\n",
              "      <td>1</td>\n",
              "      <td>Low Value Customers</td>\n",
              "    </tr>\n",
              "    <tr>\n",
              "      <th>1</th>\n",
              "      <td>365365630</td>\n",
              "      <td>797157768</td>\n",
              "      <td>1399.0000</td>\n",
              "      <td>0.0</td>\n",
              "      <td>2023-01-07</td>\n",
              "      <td>mbl itmbl00004 regular casual black 32</td>\n",
              "      <td>mens belt - jeanswear</td>\n",
              "      <td>32.0</td>\n",
              "      <td>east</td>\n",
              "      <td>east_7096</td>\n",
              "      <td>1970-01-01 00:00:00.000002023</td>\n",
              "      <td>1</td>\n",
              "      <td>Low Value Customers</td>\n",
              "    </tr>\n",
              "  </tbody>\n",
              "</table>\n",
              "</div>\n",
              "      <button class=\"colab-df-convert\" onclick=\"convertToInteractive('df-5ee43697-e11a-4829-b439-c89e5bc78765')\"\n",
              "              title=\"Convert this dataframe to an interactive table.\"\n",
              "              style=\"display:none;\">\n",
              "        \n",
              "  <svg xmlns=\"http://www.w3.org/2000/svg\" height=\"24px\"viewBox=\"0 0 24 24\"\n",
              "       width=\"24px\">\n",
              "    <path d=\"M0 0h24v24H0V0z\" fill=\"none\"/>\n",
              "    <path d=\"M18.56 5.44l.94 2.06.94-2.06 2.06-.94-2.06-.94-.94-2.06-.94 2.06-2.06.94zm-11 1L8.5 8.5l.94-2.06 2.06-.94-2.06-.94L8.5 2.5l-.94 2.06-2.06.94zm10 10l.94 2.06.94-2.06 2.06-.94-2.06-.94-.94-2.06-.94 2.06-2.06.94z\"/><path d=\"M17.41 7.96l-1.37-1.37c-.4-.4-.92-.59-1.43-.59-.52 0-1.04.2-1.43.59L10.3 9.45l-7.72 7.72c-.78.78-.78 2.05 0 2.83L4 21.41c.39.39.9.59 1.41.59.51 0 1.02-.2 1.41-.59l7.78-7.78 2.81-2.81c.8-.78.8-2.07 0-2.86zM5.41 20L4 18.59l7.72-7.72 1.47 1.35L5.41 20z\"/>\n",
              "  </svg>\n",
              "      </button>\n",
              "      \n",
              "  <style>\n",
              "    .colab-df-container {\n",
              "      display:flex;\n",
              "      flex-wrap:wrap;\n",
              "      gap: 12px;\n",
              "    }\n",
              "\n",
              "    .colab-df-convert {\n",
              "      background-color: #E8F0FE;\n",
              "      border: none;\n",
              "      border-radius: 50%;\n",
              "      cursor: pointer;\n",
              "      display: none;\n",
              "      fill: #1967D2;\n",
              "      height: 32px;\n",
              "      padding: 0 0 0 0;\n",
              "      width: 32px;\n",
              "    }\n",
              "\n",
              "    .colab-df-convert:hover {\n",
              "      background-color: #E2EBFA;\n",
              "      box-shadow: 0px 1px 2px rgba(60, 64, 67, 0.3), 0px 1px 3px 1px rgba(60, 64, 67, 0.15);\n",
              "      fill: #174EA6;\n",
              "    }\n",
              "\n",
              "    [theme=dark] .colab-df-convert {\n",
              "      background-color: #3B4455;\n",
              "      fill: #D2E3FC;\n",
              "    }\n",
              "\n",
              "    [theme=dark] .colab-df-convert:hover {\n",
              "      background-color: #434B5C;\n",
              "      box-shadow: 0px 1px 3px 1px rgba(0, 0, 0, 0.15);\n",
              "      filter: drop-shadow(0px 1px 2px rgba(0, 0, 0, 0.3));\n",
              "      fill: #FFFFFF;\n",
              "    }\n",
              "  </style>\n",
              "\n",
              "      <script>\n",
              "        const buttonEl =\n",
              "          document.querySelector('#df-5ee43697-e11a-4829-b439-c89e5bc78765 button.colab-df-convert');\n",
              "        buttonEl.style.display =\n",
              "          google.colab.kernel.accessAllowed ? 'block' : 'none';\n",
              "\n",
              "        async function convertToInteractive(key) {\n",
              "          const element = document.querySelector('#df-5ee43697-e11a-4829-b439-c89e5bc78765');\n",
              "          const dataTable =\n",
              "            await google.colab.kernel.invokeFunction('convertToInteractive',\n",
              "                                                     [key], {});\n",
              "          if (!dataTable) return;\n",
              "\n",
              "          const docLinkHtml = 'Like what you see? Visit the ' +\n",
              "            '<a target=\"_blank\" href=https://colab.research.google.com/notebooks/data_table.ipynb>data table notebook</a>'\n",
              "            + ' to learn more about interactive tables.';\n",
              "          element.innerHTML = '';\n",
              "          dataTable['output_type'] = 'display_data';\n",
              "          await google.colab.output.renderOutput(dataTable, element);\n",
              "          const docLink = document.createElement('div');\n",
              "          docLink.innerHTML = docLinkHtml;\n",
              "          element.appendChild(docLink);\n",
              "        }\n",
              "      </script>\n",
              "    </div>\n",
              "  </div>\n",
              "  "
            ]
          },
          "metadata": {},
          "execution_count": 5
        }
      ]
    },
    {
      "cell_type": "markdown",
      "source": [
        "#### Chart - 1\n",
        "Analyzing discount"
      ],
      "metadata": {
        "id": "KSlN3yHqYklG"
      }
    },
    {
      "cell_type": "code",
      "source": [
        "# Creating a new dataframe\n",
        "discount_df = df"
      ],
      "metadata": {
        "id": "OGkF18M_OMWe"
      },
      "execution_count": null,
      "outputs": []
    },
    {
      "cell_type": "code",
      "source": [
        "# Creating a new feature\n",
        "discount_df['discount_status'] = np.where(discount_df['bill_discount'] > 0, 'discounted', 'not_discounted')\n",
        "\n",
        "# Print counts of users by discount status\n",
        "print(discount_df['discount_status'].value_counts())"
      ],
      "metadata": {
        "colab": {
          "base_uri": "https://localhost:8080/"
        },
        "id": "XjASCBM8OrzE",
        "outputId": "bbc11662-e156-41f7-f316-f38c5b6de087"
      },
      "execution_count": null,
      "outputs": [
        {
          "output_type": "stream",
          "name": "stdout",
          "text": [
            "not_discounted    22775\n",
            "discounted          786\n",
            "Name: discount_status, dtype: int64\n"
          ]
        }
      ]
    },
    {
      "cell_type": "code",
      "source": [
        "discounted_df = discount_df[discount_df['discount_status']=='discounted']"
      ],
      "metadata": {
        "id": "0PGINOe7QVwN"
      },
      "execution_count": null,
      "outputs": []
    },
    {
      "cell_type": "code",
      "source": [
        "# Plotting a distplot to observe the distribution of bill_discount feature\n",
        "sns.distplot(discounted_df['bill_discount'])\n",
        "plt.xlabel('Bill Discount')\n",
        "plt.ylabel('Frequency')\n",
        "plt.title('Discount Distribution')\n",
        "plt.show()"
      ],
      "metadata": {
        "id": "R4YgtaqtYklH",
        "colab": {
          "base_uri": "https://localhost:8080/",
          "height": 395
        },
        "outputId": "6c1b08e4-4c6f-4e3c-92db-cb50768f7ddc"
      },
      "execution_count": null,
      "outputs": [
        {
          "output_type": "display_data",
          "data": {
            "text/plain": [
              "<Figure size 700x400 with 1 Axes>"
            ],
            "image/png": "[encoded data removed]"
          },
          "metadata": {
            "needs_background": "light"
          }
        }
      ]
    },
    {
      "cell_type": "markdown",
      "source": [
        "As we can observe the distribution of bill_discount feature is normal (symmetric around the mean), which means that most of the discounts offered were around ₹2112/-\n",
        "\n",
        "We will compare the discount offered with the possible_churn feature to explore any relationship among the two features."
      ],
      "metadata": {
        "id": "IPl9-L2fi3v4"
      }
    },
    {
      "cell_type": "code",
      "source": [
        "discounted_df['bill_discount'].describe()"
      ],
      "metadata": {
        "colab": {
          "base_uri": "https://localhost:8080/"
        },
        "id": "HC6Nh_hNR4Di",
        "outputId": "4f8ca791-c685-4b32-e99d-ca793c51684f"
      },
      "execution_count": null,
      "outputs": [
        {
          "output_type": "execute_result",
          "data": {
            "text/plain": [
              "count      786.000000\n",
              "mean      2112.874602\n",
              "std       2081.834251\n",
              "min         99.900000\n",
              "25%        800.000000\n",
              "50%       1500.000000\n",
              "75%       2723.362500\n",
              "max      26769.720000\n",
              "Name: bill_discount, dtype: float64"
            ]
          },
          "metadata": {},
          "execution_count": 10
        }
      ]
    },
    {
      "cell_type": "markdown",
      "source": [
        "#### Chart - 2\n",
        "Exploring discount with size"
      ],
      "metadata": {
        "id": "EM7whBJCYoAo"
      }
    },
    {
      "cell_type": "code",
      "source": [
        "# Chart - 2 visualization code\n",
        "\n",
        "# Scatterplot to understand the distribution of dataset w.r.t \"discount\" and \"size\"\n",
        "sns.scatterplot(x=\"size\",\n",
        "                    y=\"bill_discount\",\n",
        "                    data=df)\n",
        "\n",
        "plt.xlabel('sizes')\n",
        "plt.ylabel('discount offered')\n",
        "plt.xticks([28,30,32,34,36,38,40,42,44,46,48,50,52])\n",
        "plt.figure(figsize=(2, 2))\n",
        "plt.show()\n",
        "     "
      ],
      "metadata": {
        "id": "t6GMdE67YoAp",
        "colab": {
          "base_uri": "https://localhost:8080/",
          "height": 413
        },
        "outputId": "133d92db-d700-4afd-f8fe-41a325d346b2"
      },
      "execution_count": null,
      "outputs": [
        {
          "output_type": "display_data",
          "data": {
            "text/plain": [
              "<Figure size 700x400 with 1 Axes>"
            ],
            "image/png": "[encoded data removed]"
          },
          "metadata": {
            "needs_background": "light"
          }
        },
        {
          "output_type": "display_data",
          "data": {
            "text/plain": [
              "<Figure size 200x200 with 0 Axes>"
            ]
          },
          "metadata": {}
        }
      ]
    },
    {
      "cell_type": "markdown",
      "source": [
        "We have used a simple seaborn scatterplot to observe the behaviour of \"possible_churn\" with discount range and sizes.\n",
        "\n",
        "We can observe the following from the scatterplot:\n",
        "* The discounts offered seem to be more focused on items of size 38, whereas other sizes are barely receiving discounts."
      ],
      "metadata": {
        "id": "USOanmeqmlU3"
      }
    },
    {
      "cell_type": "markdown",
      "source": [
        "This methodology of focusing the discounts on a particular size category is not an ideal strategy, unless backed by a significant reasoning. "
      ],
      "metadata": {
        "id": "FqvlTZR1nmke"
      }
    },
    {
      "cell_type": "code",
      "source": [
        "df['size'].value_counts()"
      ],
      "metadata": {
        "colab": {
          "base_uri": "https://localhost:8080/"
        },
        "id": "-oQGXbbwoumM",
        "outputId": "3bbc16d5-cc59-4bc1-c43e-47cd17d33e6e"
      },
      "execution_count": null,
      "outputs": [
        {
          "output_type": "execute_result",
          "data": {
            "text/plain": [
              "38.0    22570\n",
              "36.0      226\n",
              "40.0      203\n",
              "42.0      193\n",
              "34.0      125\n",
              "44.0      103\n",
              "32.0       58\n",
              "30.0       42\n",
              "46.0       24\n",
              "28.0        9\n",
              "50.0        6\n",
              "48.0        1\n",
              "52.0        1\n",
              "Name: size, dtype: int64"
            ]
          },
          "metadata": {},
          "execution_count": 12
        }
      ]
    },
    {
      "cell_type": "markdown",
      "source": [
        "But as we can observe, majority of the items lie in the 38-size category and hence, such extensive discounts were observed for this particular size in order to clear the manufactured items as the supply was extremely high.\n",
        "\n",
        "This scenario can be improved by offering discounts more evenly wrt sizes."
      ],
      "metadata": {
        "id": "P92qOVx_pBW9"
      }
    },
    {
      "cell_type": "markdown",
      "source": [
        "#### Chart - 3\n",
        "Sizes and stores"
      ],
      "metadata": {
        "id": "4Of9eVA-YrdM"
      }
    },
    {
      "cell_type": "code",
      "source": [
        "# Chart - 3 visualization code\n",
        "# Scatterplot to understand the distribution of dataset w.r.t \"discount\" and \"size\"\n",
        "sns.scatterplot(x=\"size\",\n",
        "                    y=\"zone_name\",\n",
        "                    data=df)\n",
        "\n",
        "plt.xlabel('sizes sold')\n",
        "plt.ylabel('store')\n",
        "plt.xticks([28,30,32,34,36,38,40,42,44,46,48,50,52])\n",
        "plt.legend(bbox_to_anchor=(1.05, 0.4), loc='upper right')\n",
        "plt.figure(figsize=(6, 6))\n",
        "plt.show()"
      ],
      "metadata": {
        "id": "irlUoxc8YrdO",
        "colab": {
          "base_uri": "https://localhost:8080/",
          "height": 451
        },
        "outputId": "5a86c981-544b-4b96-baee-68e20ba4ac45"
      },
      "execution_count": null,
      "outputs": [
        {
          "output_type": "stream",
          "name": "stderr",
          "text": [
            "WARNING:matplotlib.legend:No artists with labels found to put in legend.  Note that artists whose label start with an underscore are ignored when legend() is called with no argument.\n"
          ]
        },
        {
          "output_type": "display_data",
          "data": {
            "text/plain": [
              "<Figure size 700x400 with 1 Axes>"
            ],
            "image/png": "[encoded data removed]"
          },
          "metadata": {
            "needs_background": "light"
          }
        },
        {
          "output_type": "display_data",
          "data": {
            "text/plain": [
              "<Figure size 600x600 with 0 Axes>"
            ]
          },
          "metadata": {}
        }
      ]
    },
    {
      "cell_type": "code",
      "source": [
        "# Comparing with only discounted df\n",
        "sns.scatterplot(x=\"size\",\n",
        "                    y=\"zone_name\",\n",
        "                    hue=\"discount_status\",\n",
        "                    data=discounted_df)\n",
        "\n",
        "plt.xlabel('sizes sold')\n",
        "plt.ylabel('store')\n",
        "plt.xticks([28,30,32,34,36,38,40,42,44,46,48,50,52])\n",
        "plt.legend(bbox_to_anchor=(1.05, 0.4), loc='upper right')\n",
        "plt.figure(figsize=(2, 2))\n",
        "plt.show()"
      ],
      "metadata": {
        "colab": {
          "base_uri": "https://localhost:8080/",
          "height": 413
        },
        "id": "1ztyV5uvTr3A",
        "outputId": "120e6c09-b76a-463d-b238-6c9d7e0653c6"
      },
      "execution_count": null,
      "outputs": [
        {
          "output_type": "display_data",
          "data": {
            "text/plain": [
              "<Figure size 700x400 with 1 Axes>"
            ],
            "image/png": "[encoded data removed]"
          },
          "metadata": {
            "needs_background": "light"
          }
        },
        {
          "output_type": "display_data",
          "data": {
            "text/plain": [
              "<Figure size 200x200 with 0 Axes>"
            ]
          },
          "metadata": {}
        }
      ]
    },
    {
      "cell_type": "markdown",
      "source": [
        "We have plotted two sactterplots with two different dataframes. The first plot informs us of the overall sales in all zones (north, south, east, west and root).\n",
        "\n",
        "Whereas the second plot uses discounted_df dataframe that includes transaction information only if any discount was offered.\n",
        "\n",
        "From the above two plots, we can observe the following:\n",
        "\n",
        "* ROOT store - ONline E-commerce store. It sells only items of size 38, but provides discounts.\n",
        "* CENTRAL store - Sells items of size 36,38 and 50. But offers discount to size 38 only.\n",
        "* WEST, NORTH AND EAST stores - Sells items in the range 28 to 46. But mainly offers discounts to items in size 38 category.\n",
        "* SOUTH store - Sells items in all sizes, and offers discounts between sizes 34 to 44.\n"
      ],
      "metadata": {
        "id": "AVTLIS_nV70A"
      }
    },
    {
      "cell_type": "markdown",
      "source": [
        "Overall, it looks like SOUTH zone stores are doing a good job at providing discounts in a wide range, when compared to other zones."
      ],
      "metadata": {
        "id": "IkfHZSa0YDfT"
      }
    },
    {
      "cell_type": "code",
      "source": [
        "df['zone_name'].value_counts()"
      ],
      "metadata": {
        "colab": {
          "base_uri": "https://localhost:8080/"
        },
        "id": "0NaEU6v6dLqR",
        "outputId": "5ab98bd6-bf0c-47b5-9614-d73187a3e0b1"
      },
      "execution_count": null,
      "outputs": [
        {
          "output_type": "execute_result",
          "data": {
            "text/plain": [
              "south      16727\n",
              "west        2703\n",
              "north       2554\n",
              "east        1109\n",
              "root         373\n",
              "central       95\n",
              "Name: zone_name, dtype: int64"
            ]
          },
          "metadata": {},
          "execution_count": 16
        }
      ]
    },
    {
      "cell_type": "markdown",
      "source": [
        "We can confirm the same using value_counts() function which clearly tells us that south zone has the best sales as compared to the other zones."
      ],
      "metadata": {
        "id": "uRkqKdOkdXs5"
      }
    },
    {
      "cell_type": "markdown",
      "source": [
        "#### Chart - 4\n",
        "Customer segmentation"
      ],
      "metadata": {
        "id": "bamQiAODYuh1"
      }
    },
    {
      "cell_type": "markdown",
      "source": [
        "Now, let us understand the number of customers that are segregated into their respective categories. Once we have observed our customer category distribution, we will try to understand more about the reasoning for these behaviours.\n",
        "\n",
        "So firstly, let us observe the distribution of customer segments using a simple Pie Chart."
      ],
      "metadata": {
        "id": "jnb-nwCI5bqh"
      }
    },
    {
      "cell_type": "code",
      "source": [
        "# Customer category distribution\n",
        "\n",
        "category_counts = df['customer_category'].value_counts()\n",
        "plt.pie(category_counts, labels=category_counts.index, autopct='%1.1f%%')\n",
        "plt.title('Customer Category Distribution')\n",
        "plt.show()"
      ],
      "metadata": {
        "colab": {
          "base_uri": "https://localhost:8080/",
          "height": 395
        },
        "id": "czlUUCQOlvJ-",
        "outputId": "612bbeac-3e3a-4ef7-c4f0-0a84caf5bd95"
      },
      "execution_count": null,
      "outputs": [
        {
          "output_type": "display_data",
          "data": {
            "text/plain": [
              "<Figure size 700x400 with 1 Axes>"
            ],
            "image/png": "[encoded data removed]"
          },
          "metadata": {}
        }
      ]
    },
    {
      "cell_type": "markdown",
      "source": [
        "From the above pie chart, we can observe that we have a majority of customers in the \"Low value customers\" category (about 41.9%). This is almost 2/5 of the entire customer base.At the same time, we can also observe a significant sector of customers in \"Lost Customers\" category as well. \n",
        "\n",
        "Providing good discounts and offers to these customers might encourage them to become repeat customers and transact more in the future.But we cannot assume that these customers are likely to churn, because this segment might also include new customers who have recently started to purchase items from our stores."
      ],
      "metadata": {
        "id": "pMCr9HJt550E"
      }
    },
    {
      "cell_type": "markdown",
      "source": [
        "To summarize, we need to understand more about our customer behaviour before we make any assumptions."
      ],
      "metadata": {
        "id": "zV-dVc1Z77x5"
      }
    },
    {
      "cell_type": "markdown",
      "source": [
        "#### Chart - 5\n",
        "Average discount offered per category"
      ],
      "metadata": {
        "id": "OH-pJp9IphqM"
      }
    },
    {
      "cell_type": "markdown",
      "source": [
        "Let us observe and compare the average values of discounts offered to all categories of customers.\n",
        "\n",
        "But, we need to note that taking average of discount in our 'df' dataframe will consider those customers with no discount as well. But this is also an important metric to observe, since it provides us a wide perspective of the categories with the most discount offered in general."
      ],
      "metadata": {
        "id": "wJpW_BBN9G8V"
      }
    },
    {
      "cell_type": "code",
      "source": [
        "# Groupby 'customer_category' and take average of 'bill_discount'\n",
        "avg_discounts = df.groupby('customer_category')['bill_discount'].mean().reset_index()\n",
        "\n",
        "# Plot the bar plot\n",
        "sns.barplot(x='customer_category', y='bill_discount', data=avg_discounts)\n",
        "plt.xticks(fontsize= 5, rotation = 45)\n",
        "plt.show()"
      ],
      "metadata": {
        "colab": {
          "base_uri": "https://localhost:8080/",
          "height": 389
        },
        "id": "RvGgyeom8Og0",
        "outputId": "23620ca6-d469-4cf2-bab9-004583d04012"
      },
      "execution_count": null,
      "outputs": [
        {
          "output_type": "display_data",
          "data": {
            "text/plain": [
              "<Figure size 700x400 with 1 Axes>"
            ],
            "image/png": "[encoded data removed]"
          },
          "metadata": {
            "needs_background": "light"
          }
        }
      ]
    },
    {
      "cell_type": "markdown",
      "source": [
        "We can observe that the Medium category was offered the most discount, whereas the Lost customers category was offered negligible discount when this is the category that requires the most discounts to encourage more customer retention.\n"
      ],
      "metadata": {
        "id": "1r6moo1998i0"
      }
    },
    {
      "cell_type": "markdown",
      "source": [
        "Hence, we will also observe the same with 'discounted_df' dataframe as well. This is to observe among the customers who received discounts, if any particular category of customers received more/less discounts as compared to the others."
      ],
      "metadata": {
        "id": "53RcZpfk-WhC"
      }
    },
    {
      "cell_type": "code",
      "source": [
        "# Groupby 'customer_category' and take average of 'bill_discount'\n",
        "avg_discounts = discounted_df.groupby('customer_category')['bill_discount'].mean().reset_index()\n",
        "\n",
        "# Plot the bar plot\n",
        "sns.barplot(x='customer_category', y='bill_discount', data=avg_discounts)\n",
        "plt.xticks(fontsize= 5, rotation = 45)\n",
        "plt.show()"
      ],
      "metadata": {
        "colab": {
          "base_uri": "https://localhost:8080/",
          "height": 395
        },
        "id": "Rheuf-Fy8Odo",
        "outputId": "90c2f1bb-d494-4680-be65-bbc83458e533"
      },
      "execution_count": null,
      "outputs": [
        {
          "output_type": "display_data",
          "data": {
            "text/plain": [
              "<Figure size 700x400 with 1 Axes>"
            ],
            "image/png": "[encoded data removed]"
          },
          "metadata": {
            "needs_background": "light"
          }
        }
      ]
    },
    {
      "cell_type": "markdown",
      "source": [
        "It is evident from the above bar plot comparison that all the customer categories have received similar discounts, except for top customers. This tells us that discounts were generally offered within a constant range to all customers, but mainly in the top-customers category."
      ],
      "metadata": {
        "id": "-WtZvo1z_gxO"
      }
    },
    {
      "cell_type": "markdown",
      "source": [
        "#### Chart - 6\n",
        "Zone-wise customer segement"
      ],
      "metadata": {
        "id": "PIIx-8_IphqN"
      }
    },
    {
      "cell_type": "code",
      "source": [
        "# Countplot to observe zone-wise distribution of customer category\n",
        "plt.figure(figsize=(10, 6))\n",
        "sns.countplot(x='zone_name', hue='customer_category', data=df)\n",
        "plt.legend(loc='upper right')\n",
        "plt.show()"
      ],
      "metadata": {
        "colab": {
          "base_uri": "https://localhost:8080/",
          "height": 594
        },
        "id": "BSMvr3yYIEKm",
        "outputId": "263bff0a-9cb5-415f-adf4-86b7b7138e9a"
      },
      "execution_count": null,
      "outputs": [
        {
          "output_type": "display_data",
          "data": {
            "text/plain": [
              "<Figure size 1000x600 with 1 Axes>"
            ],
            "image/png": "[encoded data removed]"
          },
          "metadata": {
            "needs_background": "light"
          }
        }
      ]
    },
    {
      "cell_type": "markdown",
      "source": [
        "Let us try to analyse the distribution of customers taking one zone at a time.\n",
        "\n",
        "> South Zone : Low > Medium > Lost > High > Top\n",
        "\n",
        "Although South zone has the highest number of sales, these sales are mainly attained through Low, Medium and Lost customers. It is not an ideal scenario for any sales platform in the long run. If these customers are not encouraged to buy repeatedly from the stores, we can lose these customers permanently.\n",
        "\n",
        "> East Zone : Low > Medium > High > Lost > Top (Negligible)\n",
        "\n",
        "It seems like the east zone stores are slightly new since they do not have a significant number of sales. These stores should focus on overall marketing of their stores without focusing on customer segment to provide offers and discounts to all customers.\n",
        "\n",
        "> North Zone & West Zone : Low > Medium > Lost > High > Top\n",
        "\n",
        "These stores have a decent sales numbers, but they need to focus more on Low and Lost Customers. Customers in the low segment need to be offered with coupon codes to encourage them to be repeat customers, whereas the lost customers should be offered with promotional offers in order to re-acquire these customers.\n",
        "\n",
        "> Central Zone\n",
        "\n",
        "It is too early to analyse the central zone. But since this seems like a new set of chain stores, it is a good strategy to provide offers to all customers, but depending on items. Providing offers to selective items will encourage customers to buy particular items. Although it focuses on only particular items, it will promote the overall store sales and helps in creating repeat customers.\n",
        "\n",
        "> ROOT : An online E-commerce store\n",
        "\n",
        "Too early to analyse. Strategies similar to central zone have to be implemented."
      ],
      "metadata": {
        "id": "20ON5orZZajR"
      }
    },
    {
      "cell_type": "markdown",
      "source": [
        "#### Chart - 7 - Correlation Heatmap"
      ],
      "metadata": {
        "id": "NC_X3p0fY2L0"
      }
    },
    {
      "cell_type": "code",
      "source": [
        "# Correlation Heatmap visualization code\n",
        "\n",
        "# Checking for multi-collinearity\n",
        "correlation = df.corr()\n",
        "\n",
        "plt.figure(figsize=[10, 6])\n",
        "sns.heatmap(correlation, cmap='viridis', annot=True, annot_kws={'fontsize': 10})\n",
        "plt.show()"
      ],
      "metadata": {
        "id": "xyC9zolEZNRQ",
        "colab": {
          "base_uri": "https://localhost:8080/",
          "height": 594
        },
        "outputId": "c875ccbe-ef1b-4c7f-c01e-1ee4882b20d7"
      },
      "execution_count": null,
      "outputs": [
        {
          "output_type": "display_data",
          "data": {
            "text/plain": [
              "<Figure size 1000x600 with 2 Axes>"
            ],
            "image/png": "[encoded data removed]"
          },
          "metadata": {
            "needs_background": "light"
          }
        }
      ]
    },
    {
      "cell_type": "markdown",
      "source": [
        "**KINLDY NOTE :** The intention of this heatmap is to only check for multi-collinearity, and not for the relationship between dependent and independent variables. This is because, our dependent variable is still a categorical column and we need to perform categorical encoding on the same."
      ],
      "metadata": {
        "id": "cX7JSqt9fHUJ"
      }
    },
    {
      "cell_type": "markdown",
      "source": [
        "Hence, the above heatmap shows no multi-collinearity among independent variables."
      ],
      "metadata": {
        "id": "CO6Xbb9ogW6n"
      }
    },
    {
      "cell_type": "markdown",
      "source": [
        "## ***5. Feature Engineering & Data Pre-processing***"
      ],
      "metadata": {
        "id": "yLjJCtPM0KBk"
      }
    },
    {
      "cell_type": "markdown",
      "source": [
        "### Categorical Encoding"
      ],
      "metadata": {
        "id": "89xtkJwZ18nB"
      }
    },
    {
      "cell_type": "markdown",
      "source": [
        "Since our dataset feature are not complex, we will apply simple find and replace encoding on our categorical features namely Customer_category, discount_status and zone_name."
      ],
      "metadata": {
        "id": "zJQNekS0hmKG"
      }
    },
    {
      "cell_type": "markdown",
      "source": [
        "#### Customer Category"
      ],
      "metadata": {
        "id": "ZfK_C9nUinSP"
      }
    },
    {
      "cell_type": "code",
      "source": [
        "df['customer_category'].value_counts()"
      ],
      "metadata": {
        "colab": {
          "base_uri": "https://localhost:8080/"
        },
        "id": "Wy0W7yEckk32",
        "outputId": "7b65d680-8292-4ec8-9386-a1745af11dfb"
      },
      "execution_count": null,
      "outputs": [
        {
          "output_type": "execute_result",
          "data": {
            "text/plain": [
              "Low Value Customers      9863\n",
              "Medium Value Customer    5909\n",
              "Lost Customers           3909\n",
              "High value Customer      2880\n",
              "Top Customers            1000\n",
              "Name: customer_category, dtype: int64"
            ]
          },
          "metadata": {},
          "execution_count": 23
        }
      ]
    },
    {
      "cell_type": "code",
      "source": [
        "# converting to categorical feature\n",
        "\n",
        "cleanup_nums = {\"customer_category\": {\"Lost Customers\": 0, \"Low Value Customers\": 1, \"Medium Value Customer\": 2, \"High value Customer\": 3, \"Top Customers\": 4 }}\n",
        "\n",
        "# Using .replace() to encode\n",
        "df = df.replace(cleanup_nums)"
      ],
      "metadata": {
        "id": "21JmIYMG2hEo"
      },
      "execution_count": null,
      "outputs": []
    },
    {
      "cell_type": "code",
      "source": [
        "df.head(2)"
      ],
      "metadata": {
        "colab": {
          "base_uri": "https://localhost:8080/",
          "height": 297
        },
        "id": "uCHamdwylYyW",
        "outputId": "b7c9bad5-f468-4494-9a76-7d4c22fe2f8a"
      },
      "execution_count": null,
      "outputs": [
        {
          "output_type": "execute_result",
          "data": {
            "text/plain": [
              "     user_id    bill_id  line_item_amount  bill_discount transaction_date  \\\n",
              "0  338305054  798647011         1123.5171            0.0       2023-01-12   \n",
              "1  365365630  797157768         1399.0000            0.0       2023-01-07   \n",
              "\n",
              "                              description         inventory_category  size  \\\n",
              "0     mtr itmtr00047 brooklyn ff olive 30  mens trouser - sportswear  30.0   \n",
              "1  mbl itmbl00004 regular casual black 32      mens belt - jeanswear  32.0   \n",
              "\n",
              "  zone_name  store_name                           year  quantity  \\\n",
              "0     south  south_7154  1970-01-01 00:00:00.000002023         1   \n",
              "1      east   east_7096  1970-01-01 00:00:00.000002023         1   \n",
              "\n",
              "   customer_category discount_status  \n",
              "0                  1  not_discounted  \n",
              "1                  1  not_discounted  "
            ],
            "text/html": [
              "\n",
              "  <div id=\"df-ff2acb04-d610-49d1-a2e9-2fda9f9288ed\">\n",
              "    <div class=\"colab-df-container\">\n",
              "      <div>\n",
              "<style scoped>\n",
              "    .dataframe tbody tr th:only-of-type {\n",
              "        vertical-align: middle;\n",
              "    }\n",
              "\n",
              "    .dataframe tbody tr th {\n",
              "        vertical-align: top;\n",
              "    }\n",
              "\n",
              "    .dataframe thead th {\n",
              "        text-align: right;\n",
              "    }\n",
              "</style>\n",
              "<table border=\"1\" class=\"dataframe\">\n",
              "  <thead>\n",
              "    <tr style=\"text-align: right;\">\n",
              "      <th></th>\n",
              "      <th>user_id</th>\n",
              "      <th>bill_id</th>\n",
              "      <th>line_item_amount</th>\n",
              "      <th>bill_discount</th>\n",
              "      <th>transaction_date</th>\n",
              "      <th>description</th>\n",
              "      <th>inventory_category</th>\n",
              "      <th>size</th>\n",
              "      <th>zone_name</th>\n",
              "      <th>store_name</th>\n",
              "      <th>year</th>\n",
              "      <th>quantity</th>\n",
              "      <th>customer_category</th>\n",
              "      <th>discount_status</th>\n",
              "    </tr>\n",
              "  </thead>\n",
              "  <tbody>\n",
              "    <tr>\n",
              "      <th>0</th>\n",
              "      <td>338305054</td>\n",
              "      <td>798647011</td>\n",
              "      <td>1123.5171</td>\n",
              "      <td>0.0</td>\n",
              "      <td>2023-01-12</td>\n",
              "      <td>mtr itmtr00047 brooklyn ff olive 30</td>\n",
              "      <td>mens trouser - sportswear</td>\n",
              "      <td>30.0</td>\n",
              "      <td>south</td>\n",
              "      <td>south_7154</td>\n",
              "      <td>1970-01-01 00:00:00.000002023</td>\n",
              "      <td>1</td>\n",
              "      <td>1</td>\n",
              "      <td>not_discounted</td>\n",
              "    </tr>\n",
              "    <tr>\n",
              "      <th>1</th>\n",
              "      <td>365365630</td>\n",
              "      <td>797157768</td>\n",
              "      <td>1399.0000</td>\n",
              "      <td>0.0</td>\n",
              "      <td>2023-01-07</td>\n",
              "      <td>mbl itmbl00004 regular casual black 32</td>\n",
              "      <td>mens belt - jeanswear</td>\n",
              "      <td>32.0</td>\n",
              "      <td>east</td>\n",
              "      <td>east_7096</td>\n",
              "      <td>1970-01-01 00:00:00.000002023</td>\n",
              "      <td>1</td>\n",
              "      <td>1</td>\n",
              "      <td>not_discounted</td>\n",
              "    </tr>\n",
              "  </tbody>\n",
              "</table>\n",
              "</div>\n",
              "      <button class=\"colab-df-convert\" onclick=\"convertToInteractive('df-ff2acb04-d610-49d1-a2e9-2fda9f9288ed')\"\n",
              "              title=\"Convert this dataframe to an interactive table.\"\n",
              "              style=\"display:none;\">\n",
              "        \n",
              "  <svg xmlns=\"http://www.w3.org/2000/svg\" height=\"24px\"viewBox=\"0 0 24 24\"\n",
              "       width=\"24px\">\n",
              "    <path d=\"M0 0h24v24H0V0z\" fill=\"none\"/>\n",
              "    <path d=\"M18.56 5.44l.94 2.06.94-2.06 2.06-.94-2.06-.94-.94-2.06-.94 2.06-2.06.94zm-11 1L8.5 8.5l.94-2.06 2.06-.94-2.06-.94L8.5 2.5l-.94 2.06-2.06.94zm10 10l.94 2.06.94-2.06 2.06-.94-2.06-.94-.94-2.06-.94 2.06-2.06.94z\"/><path d=\"M17.41 7.96l-1.37-1.37c-.4-.4-.92-.59-1.43-.59-.52 0-1.04.2-1.43.59L10.3 9.45l-7.72 7.72c-.78.78-.78 2.05 0 2.83L4 21.41c.39.39.9.59 1.41.59.51 0 1.02-.2 1.41-.59l7.78-7.78 2.81-2.81c.8-.78.8-2.07 0-2.86zM5.41 20L4 18.59l7.72-7.72 1.47 1.35L5.41 20z\"/>\n",
              "  </svg>\n",
              "      </button>\n",
              "      \n",
              "  <style>\n",
              "    .colab-df-container {\n",
              "      display:flex;\n",
              "      flex-wrap:wrap;\n",
              "      gap: 12px;\n",
              "    }\n",
              "\n",
              "    .colab-df-convert {\n",
              "      background-color: #E8F0FE;\n",
              "      border: none;\n",
              "      border-radius: 50%;\n",
              "      cursor: pointer;\n",
              "      display: none;\n",
              "      fill: #1967D2;\n",
              "      height: 32px;\n",
              "      padding: 0 0 0 0;\n",
              "      width: 32px;\n",
              "    }\n",
              "\n",
              "    .colab-df-convert:hover {\n",
              "      background-color: #E2EBFA;\n",
              "      box-shadow: 0px 1px 2px rgba(60, 64, 67, 0.3), 0px 1px 3px 1px rgba(60, 64, 67, 0.15);\n",
              "      fill: #174EA6;\n",
              "    }\n",
              "\n",
              "    [theme=dark] .colab-df-convert {\n",
              "      background-color: #3B4455;\n",
              "      fill: #D2E3FC;\n",
              "    }\n",
              "\n",
              "    [theme=dark] .colab-df-convert:hover {\n",
              "      background-color: #434B5C;\n",
              "      box-shadow: 0px 1px 3px 1px rgba(0, 0, 0, 0.15);\n",
              "      filter: drop-shadow(0px 1px 2px rgba(0, 0, 0, 0.3));\n",
              "      fill: #FFFFFF;\n",
              "    }\n",
              "  </style>\n",
              "\n",
              "      <script>\n",
              "        const buttonEl =\n",
              "          document.querySelector('#df-ff2acb04-d610-49d1-a2e9-2fda9f9288ed button.colab-df-convert');\n",
              "        buttonEl.style.display =\n",
              "          google.colab.kernel.accessAllowed ? 'block' : 'none';\n",
              "\n",
              "        async function convertToInteractive(key) {\n",
              "          const element = document.querySelector('#df-ff2acb04-d610-49d1-a2e9-2fda9f9288ed');\n",
              "          const dataTable =\n",
              "            await google.colab.kernel.invokeFunction('convertToInteractive',\n",
              "                                                     [key], {});\n",
              "          if (!dataTable) return;\n",
              "\n",
              "          const docLinkHtml = 'Like what you see? Visit the ' +\n",
              "            '<a target=\"_blank\" href=https://colab.research.google.com/notebooks/data_table.ipynb>data table notebook</a>'\n",
              "            + ' to learn more about interactive tables.';\n",
              "          element.innerHTML = '';\n",
              "          dataTable['output_type'] = 'display_data';\n",
              "          await google.colab.output.renderOutput(dataTable, element);\n",
              "          const docLink = document.createElement('div');\n",
              "          docLink.innerHTML = docLinkHtml;\n",
              "          element.appendChild(docLink);\n",
              "        }\n",
              "      </script>\n",
              "    </div>\n",
              "  </div>\n",
              "  "
            ]
          },
          "metadata": {},
          "execution_count": 25
        }
      ]
    },
    {
      "cell_type": "markdown",
      "source": [
        "#### Discount_Status"
      ],
      "metadata": {
        "id": "u_IxVTNsl7oe"
      }
    },
    {
      "cell_type": "markdown",
      "source": [
        "There are only 2 values in our discount_status feature."
      ],
      "metadata": {
        "id": "BIiND9_8mLRf"
      }
    },
    {
      "cell_type": "code",
      "source": [
        "df['discount_status'].value_counts()"
      ],
      "metadata": {
        "colab": {
          "base_uri": "https://localhost:8080/"
        },
        "id": "rjO7VrifmDh0",
        "outputId": "45226a30-dfd6-48de-b511-88408877975e"
      },
      "execution_count": null,
      "outputs": [
        {
          "output_type": "execute_result",
          "data": {
            "text/plain": [
              "not_discounted    22775\n",
              "discounted          786\n",
              "Name: discount_status, dtype: int64"
            ]
          },
          "metadata": {},
          "execution_count": 26
        }
      ]
    },
    {
      "cell_type": "markdown",
      "source": [
        "Applying simple find and replace encoding."
      ],
      "metadata": {
        "id": "X6aL92fJmRGu"
      }
    },
    {
      "cell_type": "code",
      "source": [
        "# converting to categorical feature\n",
        "cleanup_nums = {\"discount_status\": {\"not_discounted\": 0, \"discounted\": 1 }}\n",
        "\n",
        "# Using .replace() to encode\n",
        "df = df.replace(cleanup_nums)"
      ],
      "metadata": {
        "id": "l7gV4E4ZmDcJ"
      },
      "execution_count": null,
      "outputs": []
    },
    {
      "cell_type": "code",
      "source": [
        "df['discount_status'].value_counts()"
      ],
      "metadata": {
        "colab": {
          "base_uri": "https://localhost:8080/"
        },
        "id": "W8vCKfwHmDWc",
        "outputId": "91e12859-e7b6-49ac-d602-cab38f8b0d16"
      },
      "execution_count": null,
      "outputs": [
        {
          "output_type": "execute_result",
          "data": {
            "text/plain": [
              "0    22775\n",
              "1      786\n",
              "Name: discount_status, dtype: int64"
            ]
          },
          "metadata": {},
          "execution_count": 28
        }
      ]
    },
    {
      "cell_type": "markdown",
      "source": [
        "discount_status feature has been encoded successfully."
      ],
      "metadata": {
        "id": "Dcdh5tV6m06Q"
      }
    },
    {
      "cell_type": "markdown",
      "source": [
        "#### Zone_name"
      ],
      "metadata": {
        "id": "udepG-NmmtU-"
      }
    },
    {
      "cell_type": "code",
      "source": [
        "df['zone_name'].value_counts()"
      ],
      "metadata": {
        "colab": {
          "base_uri": "https://localhost:8080/"
        },
        "id": "z_KrcD-MmDQh",
        "outputId": "7fc3ca82-16a4-4438-c503-7c23fe7e14d5"
      },
      "execution_count": null,
      "outputs": [
        {
          "output_type": "execute_result",
          "data": {
            "text/plain": [
              "south      16727\n",
              "west        2703\n",
              "north       2554\n",
              "east        1109\n",
              "root         373\n",
              "central       95\n",
              "Name: zone_name, dtype: int64"
            ]
          },
          "metadata": {},
          "execution_count": 29
        }
      ]
    },
    {
      "cell_type": "code",
      "source": [
        "# converting to categorical feature\n",
        "cleanup_nums = {\"zone_name\": {\"root\": 0, \"north\": 1, \"south\": 2, \"east\": 3, \"west\": 4, \"central\": 5 }}\n",
        "\n",
        "# Using .replace() to encode\n",
        "df = df.replace(cleanup_nums)"
      ],
      "metadata": {
        "id": "dnpFjBtvmDJt"
      },
      "execution_count": null,
      "outputs": []
    },
    {
      "cell_type": "code",
      "source": [
        "df['zone_name'].value_counts()"
      ],
      "metadata": {
        "colab": {
          "base_uri": "https://localhost:8080/"
        },
        "id": "P-4IY6hEmDEI",
        "outputId": "2448ea25-4283-4be2-8652-ab6a3d687b5c"
      },
      "execution_count": null,
      "outputs": [
        {
          "output_type": "execute_result",
          "data": {
            "text/plain": [
              "2    16727\n",
              "4     2703\n",
              "1     2554\n",
              "3     1109\n",
              "0      373\n",
              "5       95\n",
              "Name: zone_name, dtype: int64"
            ]
          },
          "metadata": {},
          "execution_count": 31
        }
      ]
    },
    {
      "cell_type": "markdown",
      "source": [
        "We have completed encoding all required variables."
      ],
      "metadata": {
        "id": "pIZZEV25nWx_"
      }
    },
    {
      "cell_type": "markdown",
      "source": [
        "### Data Transformation"
      ],
      "metadata": {
        "id": "TNVZ9zx19K6k"
      }
    },
    {
      "cell_type": "markdown",
      "source": [
        "We will drop all the features that we do not require for our Classification Modeling."
      ],
      "metadata": {
        "id": "PngUT0LAoASB"
      }
    },
    {
      "cell_type": "markdown",
      "source": [
        "Before we drop 'transaction_date' feature, we will extract day, month and year from it."
      ],
      "metadata": {
        "id": "j4ZfQQp6Ypdn"
      }
    },
    {
      "cell_type": "code",
      "source": [
        "# Extract day, month, and year from transaction_date\n",
        "df['day'] = pd.to_datetime(df['transaction_date']).dt.day\n",
        "df['month'] = pd.to_datetime(df['transaction_date']).dt.month\n",
        "df['year'] = pd.to_datetime(df['transaction_date']).dt.year\n",
        "\n",
        "# Drop the transaction_date feature\n",
        "df.drop('transaction_date', axis=1, inplace=True)"
      ],
      "metadata": {
        "id": "vQ2gKGvFYy5a"
      },
      "execution_count": null,
      "outputs": []
    },
    {
      "cell_type": "code",
      "source": [
        "# Dropping all the unnecessary columns\n",
        "df.drop(['bill_id', 'description','transaction_date','inventory_category','store_name','year'], axis = 1, inplace = True)"
      ],
      "metadata": {
        "id": "xNp5R4JpoOOJ"
      },
      "execution_count": null,
      "outputs": []
    },
    {
      "cell_type": "code",
      "source": [
        "df.head()"
      ],
      "metadata": {
        "colab": {
          "base_uri": "https://localhost:8080/",
          "height": 206
        },
        "id": "-JuWJW7CoOFM",
        "outputId": "93a2fb20-e21f-41bd-d37e-c3ab3cd1274e"
      },
      "execution_count": null,
      "outputs": [
        {
          "output_type": "execute_result",
          "data": {
            "text/plain": [
              "     user_id  line_item_amount  bill_discount transaction_date  size  \\\n",
              "0  338305054         1123.5171            0.0       2023-01-12  30.0   \n",
              "1  365365630         1399.0000            0.0       2023-01-07  32.0   \n",
              "2  407108598          559.6000            0.0       2023-03-08  32.0   \n",
              "3  543246927          559.6000            0.0       2023-04-04  32.0   \n",
              "4  540422034          599.6000            0.0       2023-02-23  30.0   \n",
              "\n",
              "   zone_name  quantity  customer_category  discount_status  \n",
              "0          2         1                  1                0  \n",
              "1          3         1                  1                0  \n",
              "2          2         1                  2                0  \n",
              "3          2         1                  1                0  \n",
              "4          2         1                  1                0  "
            ],
            "text/html": [
              "\n",
              "  <div id=\"df-92b6ce23-ece8-435d-98cc-ea88fc877b15\">\n",
              "    <div class=\"colab-df-container\">\n",
              "      <div>\n",
              "<style scoped>\n",
              "    .dataframe tbody tr th:only-of-type {\n",
              "        vertical-align: middle;\n",
              "    }\n",
              "\n",
              "    .dataframe tbody tr th {\n",
              "        vertical-align: top;\n",
              "    }\n",
              "\n",
              "    .dataframe thead th {\n",
              "        text-align: right;\n",
              "    }\n",
              "</style>\n",
              "<table border=\"1\" class=\"dataframe\">\n",
              "  <thead>\n",
              "    <tr style=\"text-align: right;\">\n",
              "      <th></th>\n",
              "      <th>user_id</th>\n",
              "      <th>line_item_amount</th>\n",
              "      <th>bill_discount</th>\n",
              "      <th>transaction_date</th>\n",
              "      <th>size</th>\n",
              "      <th>zone_name</th>\n",
              "      <th>quantity</th>\n",
              "      <th>customer_category</th>\n",
              "      <th>discount_status</th>\n",
              "    </tr>\n",
              "  </thead>\n",
              "  <tbody>\n",
              "    <tr>\n",
              "      <th>0</th>\n",
              "      <td>338305054</td>\n",
              "      <td>1123.5171</td>\n",
              "      <td>0.0</td>\n",
              "      <td>2023-01-12</td>\n",
              "      <td>30.0</td>\n",
              "      <td>2</td>\n",
              "      <td>1</td>\n",
              "      <td>1</td>\n",
              "      <td>0</td>\n",
              "    </tr>\n",
              "    <tr>\n",
              "      <th>1</th>\n",
              "      <td>365365630</td>\n",
              "      <td>1399.0000</td>\n",
              "      <td>0.0</td>\n",
              "      <td>2023-01-07</td>\n",
              "      <td>32.0</td>\n",
              "      <td>3</td>\n",
              "      <td>1</td>\n",
              "      <td>1</td>\n",
              "      <td>0</td>\n",
              "    </tr>\n",
              "    <tr>\n",
              "      <th>2</th>\n",
              "      <td>407108598</td>\n",
              "      <td>559.6000</td>\n",
              "      <td>0.0</td>\n",
              "      <td>2023-03-08</td>\n",
              "      <td>32.0</td>\n",
              "      <td>2</td>\n",
              "      <td>1</td>\n",
              "      <td>2</td>\n",
              "      <td>0</td>\n",
              "    </tr>\n",
              "    <tr>\n",
              "      <th>3</th>\n",
              "      <td>543246927</td>\n",
              "      <td>559.6000</td>\n",
              "      <td>0.0</td>\n",
              "      <td>2023-04-04</td>\n",
              "      <td>32.0</td>\n",
              "      <td>2</td>\n",
              "      <td>1</td>\n",
              "      <td>1</td>\n",
              "      <td>0</td>\n",
              "    </tr>\n",
              "    <tr>\n",
              "      <th>4</th>\n",
              "      <td>540422034</td>\n",
              "      <td>599.6000</td>\n",
              "      <td>0.0</td>\n",
              "      <td>2023-02-23</td>\n",
              "      <td>30.0</td>\n",
              "      <td>2</td>\n",
              "      <td>1</td>\n",
              "      <td>1</td>\n",
              "      <td>0</td>\n",
              "    </tr>\n",
              "  </tbody>\n",
              "</table>\n",
              "</div>\n",
              "      <button class=\"colab-df-convert\" onclick=\"convertToInteractive('df-92b6ce23-ece8-435d-98cc-ea88fc877b15')\"\n",
              "              title=\"Convert this dataframe to an interactive table.\"\n",
              "              style=\"display:none;\">\n",
              "        \n",
              "  <svg xmlns=\"http://www.w3.org/2000/svg\" height=\"24px\"viewBox=\"0 0 24 24\"\n",
              "       width=\"24px\">\n",
              "    <path d=\"M0 0h24v24H0V0z\" fill=\"none\"/>\n",
              "    <path d=\"M18.56 5.44l.94 2.06.94-2.06 2.06-.94-2.06-.94-.94-2.06-.94 2.06-2.06.94zm-11 1L8.5 8.5l.94-2.06 2.06-.94-2.06-.94L8.5 2.5l-.94 2.06-2.06.94zm10 10l.94 2.06.94-2.06 2.06-.94-2.06-.94-.94-2.06-.94 2.06-2.06.94z\"/><path d=\"M17.41 7.96l-1.37-1.37c-.4-.4-.92-.59-1.43-.59-.52 0-1.04.2-1.43.59L10.3 9.45l-7.72 7.72c-.78.78-.78 2.05 0 2.83L4 21.41c.39.39.9.59 1.41.59.51 0 1.02-.2 1.41-.59l7.78-7.78 2.81-2.81c.8-.78.8-2.07 0-2.86zM5.41 20L4 18.59l7.72-7.72 1.47 1.35L5.41 20z\"/>\n",
              "  </svg>\n",
              "      </button>\n",
              "      \n",
              "  <style>\n",
              "    .colab-df-container {\n",
              "      display:flex;\n",
              "      flex-wrap:wrap;\n",
              "      gap: 12px;\n",
              "    }\n",
              "\n",
              "    .colab-df-convert {\n",
              "      background-color: #E8F0FE;\n",
              "      border: none;\n",
              "      border-radius: 50%;\n",
              "      cursor: pointer;\n",
              "      display: none;\n",
              "      fill: #1967D2;\n",
              "      height: 32px;\n",
              "      padding: 0 0 0 0;\n",
              "      width: 32px;\n",
              "    }\n",
              "\n",
              "    .colab-df-convert:hover {\n",
              "      background-color: #E2EBFA;\n",
              "      box-shadow: 0px 1px 2px rgba(60, 64, 67, 0.3), 0px 1px 3px 1px rgba(60, 64, 67, 0.15);\n",
              "      fill: #174EA6;\n",
              "    }\n",
              "\n",
              "    [theme=dark] .colab-df-convert {\n",
              "      background-color: #3B4455;\n",
              "      fill: #D2E3FC;\n",
              "    }\n",
              "\n",
              "    [theme=dark] .colab-df-convert:hover {\n",
              "      background-color: #434B5C;\n",
              "      box-shadow: 0px 1px 3px 1px rgba(0, 0, 0, 0.15);\n",
              "      filter: drop-shadow(0px 1px 2px rgba(0, 0, 0, 0.3));\n",
              "      fill: #FFFFFF;\n",
              "    }\n",
              "  </style>\n",
              "\n",
              "      <script>\n",
              "        const buttonEl =\n",
              "          document.querySelector('#df-92b6ce23-ece8-435d-98cc-ea88fc877b15 button.colab-df-convert');\n",
              "        buttonEl.style.display =\n",
              "          google.colab.kernel.accessAllowed ? 'block' : 'none';\n",
              "\n",
              "        async function convertToInteractive(key) {\n",
              "          const element = document.querySelector('#df-92b6ce23-ece8-435d-98cc-ea88fc877b15');\n",
              "          const dataTable =\n",
              "            await google.colab.kernel.invokeFunction('convertToInteractive',\n",
              "                                                     [key], {});\n",
              "          if (!dataTable) return;\n",
              "\n",
              "          const docLinkHtml = 'Like what you see? Visit the ' +\n",
              "            '<a target=\"_blank\" href=https://colab.research.google.com/notebooks/data_table.ipynb>data table notebook</a>'\n",
              "            + ' to learn more about interactive tables.';\n",
              "          element.innerHTML = '';\n",
              "          dataTable['output_type'] = 'display_data';\n",
              "          await google.colab.output.renderOutput(dataTable, element);\n",
              "          const docLink = document.createElement('div');\n",
              "          docLink.innerHTML = docLinkHtml;\n",
              "          element.appendChild(docLink);\n",
              "        }\n",
              "      </script>\n",
              "    </div>\n",
              "  </div>\n",
              "  "
            ]
          },
          "metadata": {},
          "execution_count": 35
        }
      ]
    },
    {
      "cell_type": "markdown",
      "source": [
        "### Data Scaling"
      ],
      "metadata": {
        "id": "rMDnDkt2B6du"
      }
    },
    {
      "cell_type": "markdown",
      "source": [
        "We are using MinMaxScaler from the Scikit-learn library to scale the data in X. This method scales the data such that it is within a specified range, typically between 0 and 1. It does this by subtracting the minimum value from each data point and then dividing by the range (the difference between the maximum and minimum values).\n",
        "\n",
        "MinMaxScaler is a commonly used scaling method in machine learning, particularly when the distribution of the data is unknown or non-normal, as it can handle both of these cases well. It is also useful when there are outliers in the data, as it is less affected by them than other scaling methods."
      ],
      "metadata": {
        "id": "ztfWrJYXpmek"
      }
    },
    {
      "cell_type": "code",
      "source": [
        "# Scaling our data\n",
        "# Defining X and y\n",
        "\n",
        "X = df.drop(['customer_category'], axis = 1)\n",
        "y = df['customer_category']"
      ],
      "metadata": {
        "id": "dL9LWpySC6x_"
      },
      "execution_count": null,
      "outputs": []
    },
    {
      "cell_type": "code",
      "source": [
        "# Scaling values of X\n",
        "scaler = MinMaxScaler()\n",
        "X_scaled = scaler.fit_transform(X)"
      ],
      "metadata": {
        "id": "2yUK5uVOpgh6"
      },
      "execution_count": null,
      "outputs": []
    },
    {
      "cell_type": "markdown",
      "source": [
        "### Data Splitting"
      ],
      "metadata": {
        "id": "BhH2vgX9EjGr"
      }
    },
    {
      "cell_type": "markdown",
      "source": [
        "We are using a data splitting ratio of 80:20 for the training and test sets, respectively, as specified by the test_size parameter set to 0.20. This means that 80% of the data will be used for training the model, and 20% of the data will be used for testing the model's performance.\n",
        "\n",
        "This is a common splitting ratio used in machine learning, where a larger proportion of the data is used for training to ensure the model has enough data to learn from. The smaller proportion of data allocated for testing is used to evaluate the model's performance on unseen data, which helps to assess how well the model is generalizing to new data.\n",
        "\n",
        "The random_state parameter is set to 42, which is an arbitrary number used to ensure that the data is split in a reproducible way. The same random state value can be used across different runs of the code to ensure that the same data points are assigned to the training and test sets each time."
      ],
      "metadata": {
        "id": "6b13vv9fqPh9"
      }
    },
    {
      "cell_type": "code",
      "source": [
        "# Splitting dataset into test and train dataframes\n",
        "X_train, X_test, y_train, y_test = train_test_split(X_scaled, y, test_size = 0.20, random_state = 42)"
      ],
      "metadata": {
        "id": "0CTyd2UwEyNM"
      },
      "execution_count": null,
      "outputs": []
    },
    {
      "cell_type": "code",
      "source": [
        "X_train.shape"
      ],
      "metadata": {
        "colab": {
          "base_uri": "https://localhost:8080/"
        },
        "id": "abu-03obqWla",
        "outputId": "cf23e7e8-ad50-4d73-9985-b4e0c3e669f0"
      },
      "execution_count": null,
      "outputs": [
        {
          "output_type": "execute_result",
          "data": {
            "text/plain": [
              "(18848, 10)"
            ]
          },
          "metadata": {},
          "execution_count": 43
        }
      ]
    },
    {
      "cell_type": "code",
      "source": [
        "X_test.shape"
      ],
      "metadata": {
        "colab": {
          "base_uri": "https://localhost:8080/"
        },
        "id": "-0W0lgiXqWZX",
        "outputId": "6a17c524-ad48-4267-de9b-78faad800dfd"
      },
      "execution_count": null,
      "outputs": [
        {
          "output_type": "execute_result",
          "data": {
            "text/plain": [
              "(4713, 10)"
            ]
          },
          "metadata": {},
          "execution_count": 44
        }
      ]
    },
    {
      "cell_type": "code",
      "source": [
        "y_train.shape"
      ],
      "metadata": {
        "colab": {
          "base_uri": "https://localhost:8080/"
        },
        "id": "Q00wTN8IqVl2",
        "outputId": "c45e513b-5a42-467d-cdbb-92faf6ab42a5"
      },
      "execution_count": null,
      "outputs": [
        {
          "output_type": "execute_result",
          "data": {
            "text/plain": [
              "(18848,)"
            ]
          },
          "metadata": {},
          "execution_count": 45
        }
      ]
    },
    {
      "cell_type": "code",
      "source": [
        "y_test.shape"
      ],
      "metadata": {
        "colab": {
          "base_uri": "https://localhost:8080/"
        },
        "id": "_B9NCj_KqVZ-",
        "outputId": "9e5561d5-ba57-473d-f366-643661cd1f0d"
      },
      "execution_count": null,
      "outputs": [
        {
          "output_type": "execute_result",
          "data": {
            "text/plain": [
              "(4713,)"
            ]
          },
          "metadata": {},
          "execution_count": 46
        }
      ]
    },
    {
      "cell_type": "markdown",
      "source": [
        "## ***6. ML Model Implementation***"
      ],
      "metadata": {
        "id": "VfCC591jGiD4"
      }
    },
    {
      "cell_type": "markdown",
      "source": [
        "### ML Model - 1\n",
        "**Logistic Regression**"
      ],
      "metadata": {
        "id": "OB4l2ZhMeS1U"
      }
    },
    {
      "cell_type": "markdown",
      "source": [
        "We have an algorithm and data for it. Let us build our first model, using logistic regression implementation from Sklearn with default parameters. We will use 80% of the data for training (the training data set is sorted by time), and the remaining 20% for validation."
      ],
      "metadata": {
        "id": "FUMWU6twyMns"
      }
    },
    {
      "cell_type": "code",
      "source": [
        "# ML Model - 1 Implementation\n",
        "# Logistic Regression Model\n",
        "\n",
        "lr = LogisticRegression()\n",
        "lr.fit(X_train, y_train)"
      ],
      "metadata": {
        "id": "7ebyywQieS1U",
        "colab": {
          "base_uri": "https://localhost:8080/",
          "height": 74
        },
        "outputId": "1908d1e4-026a-4bea-95ae-19ecbc814cde"
      },
      "execution_count": null,
      "outputs": [
        {
          "output_type": "execute_result",
          "data": {
            "text/plain": [
              "LogisticRegression()"
            ],
            "text/html": [
              "<style>#sk-container-id-1 {color: black;background-color: white;}#sk-container-id-1 pre{padding: 0;}#sk-container-id-1 div.sk-toggleable {background-color: white;}#sk-container-id-1 label.sk-toggleable__label {cursor: pointer;display: block;width: 100%;margin-bottom: 0;padding: 0.3em;box-sizing: border-box;text-align: center;}#sk-container-id-1 label.sk-toggleable__label-arrow:before {content: \"▸\";float: left;margin-right: 0.25em;color: #696969;}#sk-container-id-1 label.sk-toggleable__label-arrow:hover:before {color: black;}#sk-container-id-1 div.sk-estimator:hover label.sk-toggleable__label-arrow:before {color: black;}#sk-container-id-1 div.sk-toggleable__content {max-height: 0;max-width: 0;overflow: hidden;text-align: left;background-color: #f0f8ff;}#sk-container-id-1 div.sk-toggleable__content pre {margin: 0.2em;color: black;border-radius: 0.25em;background-color: #f0f8ff;}#sk-container-id-1 input.sk-toggleable__control:checked~div.sk-toggleable__content {max-height: 200px;max-width: 100%;overflow: auto;}#sk-container-id-1 input.sk-toggleable__control:checked~label.sk-toggleable__label-arrow:before {content: \"▾\";}#sk-container-id-1 div.sk-estimator input.sk-toggleable__control:checked~label.sk-toggleable__label {background-color: #d4ebff;}#sk-container-id-1 div.sk-label input.sk-toggleable__control:checked~label.sk-toggleable__label {background-color: #d4ebff;}#sk-container-id-1 input.sk-hidden--visually {border: 0;clip: rect(1px 1px 1px 1px);clip: rect(1px, 1px, 1px, 1px);height: 1px;margin: -1px;overflow: hidden;padding: 0;position: absolute;width: 1px;}#sk-container-id-1 div.sk-estimator {font-family: monospace;background-color: #f0f8ff;border: 1px dotted black;border-radius: 0.25em;box-sizing: border-box;margin-bottom: 0.5em;}#sk-container-id-1 div.sk-estimator:hover {background-color: #d4ebff;}#sk-container-id-1 div.sk-parallel-item::after {content: \"\";width: 100%;border-bottom: 1px solid gray;flex-grow: 1;}#sk-container-id-1 div.sk-label:hover label.sk-toggleable__label {background-color: #d4ebff;}#sk-container-id-1 div.sk-serial::before {content: \"\";position: absolute;border-left: 1px solid gray;box-sizing: border-box;top: 0;bottom: 0;left: 50%;z-index: 0;}#sk-container-id-1 div.sk-serial {display: flex;flex-direction: column;align-items: center;background-color: white;padding-right: 0.2em;padding-left: 0.2em;position: relative;}#sk-container-id-1 div.sk-item {position: relative;z-index: 1;}#sk-container-id-1 div.sk-parallel {display: flex;align-items: stretch;justify-content: center;background-color: white;position: relative;}#sk-container-id-1 div.sk-item::before, #sk-container-id-1 div.sk-parallel-item::before {content: \"\";position: absolute;border-left: 1px solid gray;box-sizing: border-box;top: 0;bottom: 0;left: 50%;z-index: -1;}#sk-container-id-1 div.sk-parallel-item {display: flex;flex-direction: column;z-index: 1;position: relative;background-color: white;}#sk-container-id-1 div.sk-parallel-item:first-child::after {align-self: flex-end;width: 50%;}#sk-container-id-1 div.sk-parallel-item:last-child::after {align-self: flex-start;width: 50%;}#sk-container-id-1 div.sk-parallel-item:only-child::after {width: 0;}#sk-container-id-1 div.sk-dashed-wrapped {border: 1px dashed gray;margin: 0 0.4em 0.5em 0.4em;box-sizing: border-box;padding-bottom: 0.4em;background-color: white;}#sk-container-id-1 div.sk-label label {font-family: monospace;font-weight: bold;display: inline-block;line-height: 1.2em;}#sk-container-id-1 div.sk-label-container {text-align: center;}#sk-container-id-1 div.sk-container {/* jupyter's `normalize.less` sets `[hidden] { display: none; }` but bootstrap.min.css set `[hidden] { display: none !important; }` so we also need the `!important` here to be able to override the default hidden behavior on the sphinx rendered scikit-learn.org. See: https://github.com/scikit-learn/scikit-learn/issues/21755 */display: inline-block !important;position: relative;}#sk-container-id-1 div.sk-text-repr-fallback {display: none;}</style><div id=\"sk-container-id-1\" class=\"sk-top-container\"><div class=\"sk-text-repr-fallback\"><pre>LogisticRegression()</pre><b>In a Jupyter environment, please rerun this cell to show the HTML representation or trust the notebook. <br />On GitHub, the HTML representation is unable to render, please try loading this page with nbviewer.org.</b></div><div class=\"sk-container\" hidden><div class=\"sk-item\"><div class=\"sk-estimator sk-toggleable\"><input class=\"sk-toggleable__control sk-hidden--visually\" id=\"sk-estimator-id-1\" type=\"checkbox\" checked><label for=\"sk-estimator-id-1\" class=\"sk-toggleable__label sk-toggleable__label-arrow\">LogisticRegression</label><div class=\"sk-toggleable__content\"><pre>LogisticRegression()</pre></div></div></div></div></div>"
            ]
          },
          "metadata": {},
          "execution_count": 47
        }
      ]
    },
    {
      "cell_type": "markdown",
      "source": [
        "Using the LogisticRegression class from sklearn to build a model using the training set and then use the testing set to obtain the predictions for all the items in the testing set."
      ],
      "metadata": {
        "id": "rwJ86MISy34k"
      }
    },
    {
      "cell_type": "code",
      "source": [
        "# Making Prediction\n",
        "y_pred_test = lr.predict(X_test)\n",
        "y_pred_train = lr.predict(X_train)"
      ],
      "metadata": {
        "id": "UnRgASDyrlCX"
      },
      "execution_count": null,
      "outputs": []
    },
    {
      "cell_type": "markdown",
      "source": [
        "#### 1.Evaluation metric Score Chart."
      ],
      "metadata": {
        "id": "ArJBuiUVfxKd"
      }
    },
    {
      "cell_type": "markdown",
      "source": [
        "We can get the accuracy using either the score() function of the model that we have just built, or use the accuracy_score() function from the metrics module.\n",
        "\n",
        "But we will utilize classification_report() function to understand the model performance with the help of precision, recall and f1 scores along with the accuracy and weighted averages."
      ],
      "metadata": {
        "id": "jTx53pN3zEfs"
      }
    },
    {
      "cell_type": "code",
      "source": [
        "# Evaluation Metrics for Train data\n",
        "\n",
        "# Classification Report\n",
        "print('Classification report for Logistic Regression (Train set) = \\n')\n",
        "print(classification_report(y_pred_train, y_train))"
      ],
      "metadata": {
        "colab": {
          "base_uri": "https://localhost:8080/"
        },
        "id": "jLM9SUUtsLoD",
        "outputId": "8999235f-e7d9-4a1c-f6c0-df3f2a935cd4"
      },
      "execution_count": null,
      "outputs": [
        {
          "output_type": "stream",
          "name": "stdout",
          "text": [
            "Classification report for Logistic Regression (Train set) = \n",
            "\n",
            "              precision    recall  f1-score   support\n",
            "\n",
            "           0       0.20      0.59      0.30      1062\n",
            "           1       0.92      0.55      0.69     13302\n",
            "           2       0.56      0.61      0.58      4345\n",
            "           3       0.03      0.52      0.06       129\n",
            "           4       0.01      1.00      0.02        10\n",
            "\n",
            "    accuracy                           0.56     18848\n",
            "   macro avg       0.34      0.65      0.33     18848\n",
            "weighted avg       0.79      0.56      0.63     18848\n",
            "\n"
          ]
        }
      ]
    },
    {
      "cell_type": "code",
      "source": [
        "# Evaluation Metrics for test data\n",
        "\n",
        "# Classification Report\n",
        "print('Classification report for Logistic Regression (Test set)= \\n')\n",
        "print(classification_report(y_pred_test, y_test))"
      ],
      "metadata": {
        "colab": {
          "base_uri": "https://localhost:8080/"
        },
        "id": "_WtstcaNsLZN",
        "outputId": "e14d04e6-0f03-433a-cd78-fd51d6959ad5"
      },
      "execution_count": null,
      "outputs": [
        {
          "output_type": "stream",
          "name": "stdout",
          "text": [
            "Classification report for Logistic Regression (Test set)= \n",
            "\n",
            "              precision    recall  f1-score   support\n",
            "\n",
            "           0       0.20      0.57      0.30       281\n",
            "           1       0.92      0.54      0.68      3305\n",
            "           2       0.54      0.59      0.56      1090\n",
            "           3       0.03      0.53      0.05        32\n",
            "           4       0.03      1.00      0.05         5\n",
            "\n",
            "    accuracy                           0.55      4713\n",
            "   macro avg       0.34      0.65      0.33      4713\n",
            "weighted avg       0.78      0.55      0.63      4713\n",
            "\n"
          ]
        }
      ]
    },
    {
      "cell_type": "code",
      "source": [
        "# Generate the confusion matrix\n",
        "cf_matrix = confusion_matrix(y_test, y_pred_test)\n",
        "print(cf_matrix)"
      ],
      "metadata": {
        "colab": {
          "base_uri": "https://localhost:8080/"
        },
        "id": "WImbx4M7rve8",
        "outputId": "f90700dc-d75b-43e6-9429-7704ec3ec583"
      },
      "execution_count": null,
      "outputs": [
        {
          "output_type": "stream",
          "name": "stdout",
          "text": [
            "[[ 160  634    0    0    0]\n",
            " [  63 1790   97    1    0]\n",
            " [  32  503  642   10    0]\n",
            " [  25  311  237   17    0]\n",
            " [   1   67  114    4    5]]\n"
          ]
        }
      ]
    },
    {
      "cell_type": "markdown",
      "source": [
        "#### 2. Cross- Validation & Hyperparameter Tuning"
      ],
      "metadata": {
        "id": "4qY1EAkEfxKe"
      }
    },
    {
      "cell_type": "code",
      "source": [
        "# Cross validation scores\n",
        "\n",
        "lr = LogisticRegression()\n",
        "scores = cross_val_score(lr, X_scaled, y, cv=5)\n",
        "\n",
        "print(\"Cross-validation scores:\", scores)\n",
        "print(\"Average cross-validation score:\", np.mean(scores))"
      ],
      "metadata": {
        "id": "Dy61ujd6fxKe",
        "colab": {
          "base_uri": "https://localhost:8080/"
        },
        "outputId": "c2f80bb4-809f-41f8-85b6-cf3838f21e70"
      },
      "execution_count": null,
      "outputs": [
        {
          "output_type": "stream",
          "name": "stdout",
          "text": [
            "Cross-validation scores: [0.50286442 0.50573005 0.61820883 0.51443124 0.51209677]\n",
            "Average cross-validation score: 0.5306662621214955\n"
          ]
        }
      ]
    },
    {
      "cell_type": "markdown",
      "source": [
        "The testing set is used to evaluate the performance of the model that we have trained using the training set. While this is a good way to evaluate the model, it might not give us a true indication of the performance of the model. \n",
        "\n",
        "GridSearchCV is a function that is in sklearn's model_selection package. It allows us to specify the different values for each hyperparameter and try out all the possible combinations when fitting our model. It does the training and testing using cross validation of our dataset.\n",
        "\n",
        "The end result of GridSearchCV is a set of hyperparameters that best fit our data according to the scoring metric that you want your model to optimize on."
      ],
      "metadata": {
        "id": "IKDLxaaTzh9M"
      }
    },
    {
      "cell_type": "markdown",
      "source": [
        "GridSearchCV is a commonly used technique for hyperparameter tuning that involves searching over a predefined grid of hyperparameters and selecting the combination that gives the best performance on a validation set.\n",
        "\n",
        "In this case, the grid of hyperparameters included different values of C, which controls the regularization strength of the logistic regression model. The reason for using GridSearchCV is that it exhaustively searches over the entire grid of hyperparameters, which helps to find the optimal combination of hyperparameters that gives the best performance on the validation set.\n",
        "\n",
        "Overall, GridSearchCV is a simple yet effective technique for hyperparameter tuning that can help to improve the performance of machine learning models"
      ],
      "metadata": {
        "id": "1J47Q7cts3Vw"
      }
    },
    {
      "cell_type": "code",
      "source": [
        "# Use GridSearchCV to find the best result\n",
        "lr = LogisticRegression()\n",
        "\n",
        "param_grid = {'C': [0.001, 0.01, 0.1, 1, 10, 100]}\n",
        "grid = GridSearchCV(lr, param_grid, cv=5)\n",
        "grid.fit(X_train, y_train)\n",
        "\n",
        "\n",
        "# Recheck the best cross-validation sccore\n",
        "\n",
        "print(\"Best cross-validation score:\", grid.best_score_)\n",
        "print(\"Best parameters:\", grid.best_params_)\n",
        "print(\"Test set score:\", grid.score(X_test, y_test))"
      ],
      "metadata": {
        "colab": {
          "base_uri": "https://localhost:8080/"
        },
        "id": "G4WRq7VusieZ",
        "outputId": "1ee65554-0ce8-46a8-c45e-8141a246509d"
      },
      "execution_count": null,
      "outputs": [
        {
          "output_type": "stream",
          "name": "stdout",
          "text": [
            "Best cross-validation score: 0.645002290780646\n",
            "Best parameters: {'C': 100}\n",
            "Test set score: 0.6316571186081053\n"
          ]
        }
      ]
    },
    {
      "cell_type": "code",
      "source": [
        "# predict on test data\n",
        "y_pred = grid.predict(X_test)"
      ],
      "metadata": {
        "id": "STa4dXxpsiNz"
      },
      "execution_count": null,
      "outputs": []
    },
    {
      "cell_type": "code",
      "source": [
        "# print classification report for test data\n",
        "print(\"Classification report for test data: \\n\")\n",
        "print(classification_report(y_test, y_pred))"
      ],
      "metadata": {
        "colab": {
          "base_uri": "https://localhost:8080/"
        },
        "id": "-XNx-7Atsh9u",
        "outputId": "557ebdf5-5740-4d06-e8e7-470154f3c6ca"
      },
      "execution_count": null,
      "outputs": [
        {
          "output_type": "stream",
          "name": "stdout",
          "text": [
            "Classification report for test data: \n",
            "\n",
            "              precision    recall  f1-score   support\n",
            "\n",
            "           0       0.67      0.71      0.69       794\n",
            "           1       0.67      0.83      0.74      1951\n",
            "           2       0.56      0.59      0.58      1187\n",
            "           3       0.44      0.14      0.22       590\n",
            "           4       0.40      0.01      0.02       191\n",
            "\n",
            "    accuracy                           0.63      4713\n",
            "   macro avg       0.55      0.46      0.45      4713\n",
            "weighted avg       0.60      0.63      0.60      4713\n",
            "\n"
          ]
        }
      ]
    },
    {
      "cell_type": "markdown",
      "source": [
        "Our Logistic Regression model is clearly an underfit model since it fails to capture the trends in our dataset and has low precision, recall and f1 scores for both train and test datasets."
      ],
      "metadata": {
        "id": "ZIJiI3dcs8v-"
      }
    },
    {
      "cell_type": "markdown",
      "source": [
        "### ML Model - 2\n",
        "**Random Forest Classifier**"
      ],
      "metadata": {
        "id": "dJ2tPlVmpsJ0"
      }
    },
    {
      "cell_type": "markdown",
      "source": [
        "Creating an instance of the Random Forest Classifier model and setting the parameters."
      ],
      "metadata": {
        "id": "LzC3HdrA0m8j"
      }
    },
    {
      "cell_type": "code",
      "source": [
        "# Random forest classifier \n",
        "# taking 300 trees\n",
        "clsr = RandomForestClassifier(n_estimators=300)\n",
        "clsr.fit(X_train, y_train)"
      ],
      "metadata": {
        "colab": {
          "base_uri": "https://localhost:8080/",
          "height": 74
        },
        "id": "lN9LlesZtby1",
        "outputId": "3a43a92a-ae32-44b5-c7ef-3ff4471f4100"
      },
      "execution_count": null,
      "outputs": [
        {
          "output_type": "execute_result",
          "data": {
            "text/plain": [
              "RandomForestClassifier(n_estimators=300)"
            ],
            "text/html": [
              "<style>#sk-container-id-2 {color: black;background-color: white;}#sk-container-id-2 pre{padding: 0;}#sk-container-id-2 div.sk-toggleable {background-color: white;}#sk-container-id-2 label.sk-toggleable__label {cursor: pointer;display: block;width: 100%;margin-bottom: 0;padding: 0.3em;box-sizing: border-box;text-align: center;}#sk-container-id-2 label.sk-toggleable__label-arrow:before {content: \"▸\";float: left;margin-right: 0.25em;color: #696969;}#sk-container-id-2 label.sk-toggleable__label-arrow:hover:before {color: black;}#sk-container-id-2 div.sk-estimator:hover label.sk-toggleable__label-arrow:before {color: black;}#sk-container-id-2 div.sk-toggleable__content {max-height: 0;max-width: 0;overflow: hidden;text-align: left;background-color: #f0f8ff;}#sk-container-id-2 div.sk-toggleable__content pre {margin: 0.2em;color: black;border-radius: 0.25em;background-color: #f0f8ff;}#sk-container-id-2 input.sk-toggleable__control:checked~div.sk-toggleable__content {max-height: 200px;max-width: 100%;overflow: auto;}#sk-container-id-2 input.sk-toggleable__control:checked~label.sk-toggleable__label-arrow:before {content: \"▾\";}#sk-container-id-2 div.sk-estimator input.sk-toggleable__control:checked~label.sk-toggleable__label {background-color: #d4ebff;}#sk-container-id-2 div.sk-label input.sk-toggleable__control:checked~label.sk-toggleable__label {background-color: #d4ebff;}#sk-container-id-2 input.sk-hidden--visually {border: 0;clip: rect(1px 1px 1px 1px);clip: rect(1px, 1px, 1px, 1px);height: 1px;margin: -1px;overflow: hidden;padding: 0;position: absolute;width: 1px;}#sk-container-id-2 div.sk-estimator {font-family: monospace;background-color: #f0f8ff;border: 1px dotted black;border-radius: 0.25em;box-sizing: border-box;margin-bottom: 0.5em;}#sk-container-id-2 div.sk-estimator:hover {background-color: #d4ebff;}#sk-container-id-2 div.sk-parallel-item::after {content: \"\";width: 100%;border-bottom: 1px solid gray;flex-grow: 1;}#sk-container-id-2 div.sk-label:hover label.sk-toggleable__label {background-color: #d4ebff;}#sk-container-id-2 div.sk-serial::before {content: \"\";position: absolute;border-left: 1px solid gray;box-sizing: border-box;top: 0;bottom: 0;left: 50%;z-index: 0;}#sk-container-id-2 div.sk-serial {display: flex;flex-direction: column;align-items: center;background-color: white;padding-right: 0.2em;padding-left: 0.2em;position: relative;}#sk-container-id-2 div.sk-item {position: relative;z-index: 1;}#sk-container-id-2 div.sk-parallel {display: flex;align-items: stretch;justify-content: center;background-color: white;position: relative;}#sk-container-id-2 div.sk-item::before, #sk-container-id-2 div.sk-parallel-item::before {content: \"\";position: absolute;border-left: 1px solid gray;box-sizing: border-box;top: 0;bottom: 0;left: 50%;z-index: -1;}#sk-container-id-2 div.sk-parallel-item {display: flex;flex-direction: column;z-index: 1;position: relative;background-color: white;}#sk-container-id-2 div.sk-parallel-item:first-child::after {align-self: flex-end;width: 50%;}#sk-container-id-2 div.sk-parallel-item:last-child::after {align-self: flex-start;width: 50%;}#sk-container-id-2 div.sk-parallel-item:only-child::after {width: 0;}#sk-container-id-2 div.sk-dashed-wrapped {border: 1px dashed gray;margin: 0 0.4em 0.5em 0.4em;box-sizing: border-box;padding-bottom: 0.4em;background-color: white;}#sk-container-id-2 div.sk-label label {font-family: monospace;font-weight: bold;display: inline-block;line-height: 1.2em;}#sk-container-id-2 div.sk-label-container {text-align: center;}#sk-container-id-2 div.sk-container {/* jupyter's `normalize.less` sets `[hidden] { display: none; }` but bootstrap.min.css set `[hidden] { display: none !important; }` so we also need the `!important` here to be able to override the default hidden behavior on the sphinx rendered scikit-learn.org. See: https://github.com/scikit-learn/scikit-learn/issues/21755 */display: inline-block !important;position: relative;}#sk-container-id-2 div.sk-text-repr-fallback {display: none;}</style><div id=\"sk-container-id-2\" class=\"sk-top-container\"><div class=\"sk-text-repr-fallback\"><pre>RandomForestClassifier(n_estimators=300)</pre><b>In a Jupyter environment, please rerun this cell to show the HTML representation or trust the notebook. <br />On GitHub, the HTML representation is unable to render, please try loading this page with nbviewer.org.</b></div><div class=\"sk-container\" hidden><div class=\"sk-item\"><div class=\"sk-estimator sk-toggleable\"><input class=\"sk-toggleable__control sk-hidden--visually\" id=\"sk-estimator-id-2\" type=\"checkbox\" checked><label for=\"sk-estimator-id-2\" class=\"sk-toggleable__label sk-toggleable__label-arrow\">RandomForestClassifier</label><div class=\"sk-toggleable__content\"><pre>RandomForestClassifier(n_estimators=300)</pre></div></div></div></div></div>"
            ]
          },
          "metadata": {},
          "execution_count": 56
        }
      ]
    },
    {
      "cell_type": "markdown",
      "source": [
        "Now, let us make predictions on the train set followed by the test set."
      ],
      "metadata": {
        "id": "dHpIHC880uZv"
      }
    },
    {
      "cell_type": "code",
      "source": [
        "# Predicting on train dataset\n",
        "y_pred_train = clsr.predict(X_train)\n",
        "train_score = accuracy_score(y_train, y_pred_train)\n",
        "train_score"
      ],
      "metadata": {
        "colab": {
          "base_uri": "https://localhost:8080/"
        },
        "id": "udHYUaZXthyT",
        "outputId": "d3368d52-fd11-4134-d79a-bea618afae5c"
      },
      "execution_count": null,
      "outputs": [
        {
          "output_type": "execute_result",
          "data": {
            "text/plain": [
              "0.9996816638370118"
            ]
          },
          "metadata": {},
          "execution_count": 57
        }
      ]
    },
    {
      "cell_type": "code",
      "source": [
        "# Predicting on test dataset\n",
        "y_pred = clsr.predict(X_test)\n",
        "test_score= accuracy_score(y_test, y_pred)\n",
        "test_score"
      ],
      "metadata": {
        "colab": {
          "base_uri": "https://localhost:8080/"
        },
        "id": "1VQsJnNUthhG",
        "outputId": "b92dbe70-97a6-4642-d281-7fee6eb51684"
      },
      "execution_count": null,
      "outputs": [
        {
          "output_type": "execute_result",
          "data": {
            "text/plain": [
              "0.7201357946106514"
            ]
          },
          "metadata": {},
          "execution_count": 58
        }
      ]
    },
    {
      "cell_type": "markdown",
      "source": [
        "Sklearn RandomForestClassifier can also be used for determining feature importance. It collects the feature importance values so that the same can be accessed via the feature_importances_ attribute after fitting the RandomForestClassifier model. "
      ],
      "metadata": {
        "id": "1IFb8L8it9vp"
      }
    },
    {
      "cell_type": "code",
      "source": [
        "# Most important features that determine Y\n",
        "feature_importance = pd.DataFrame({'Feature':X.columns,\n",
        "                                   'Score':clsr.feature_importances_}).sort_values(by='Score', ascending=False).reset_index(drop=True)\n",
        "feature_importance.head()"
      ],
      "metadata": {
        "colab": {
          "base_uri": "https://localhost:8080/",
          "height": 206
        },
        "id": "RYeSYeW6thRF",
        "outputId": "f92062a0-f172-4ec9-d479-ff13979bc630"
      },
      "execution_count": null,
      "outputs": [
        {
          "output_type": "execute_result",
          "data": {
            "text/plain": [
              "            Feature     Score\n",
              "0  line_item_amount  0.411235\n",
              "1           user_id  0.278926\n",
              "2               day  0.127850\n",
              "3             month  0.071708\n",
              "4          quantity  0.058676"
            ],
            "text/html": [
              "\n",
              "  <div id=\"df-d9ef972b-d304-4888-be80-0dc97791a9bb\">\n",
              "    <div class=\"colab-df-container\">\n",
              "      <div>\n",
              "<style scoped>\n",
              "    .dataframe tbody tr th:only-of-type {\n",
              "        vertical-align: middle;\n",
              "    }\n",
              "\n",
              "    .dataframe tbody tr th {\n",
              "        vertical-align: top;\n",
              "    }\n",
              "\n",
              "    .dataframe thead th {\n",
              "        text-align: right;\n",
              "    }\n",
              "</style>\n",
              "<table border=\"1\" class=\"dataframe\">\n",
              "  <thead>\n",
              "    <tr style=\"text-align: right;\">\n",
              "      <th></th>\n",
              "      <th>Feature</th>\n",
              "      <th>Score</th>\n",
              "    </tr>\n",
              "  </thead>\n",
              "  <tbody>\n",
              "    <tr>\n",
              "      <th>0</th>\n",
              "      <td>line_item_amount</td>\n",
              "      <td>0.411235</td>\n",
              "    </tr>\n",
              "    <tr>\n",
              "      <th>1</th>\n",
              "      <td>user_id</td>\n",
              "      <td>0.278926</td>\n",
              "    </tr>\n",
              "    <tr>\n",
              "      <th>2</th>\n",
              "      <td>day</td>\n",
              "      <td>0.127850</td>\n",
              "    </tr>\n",
              "    <tr>\n",
              "      <th>3</th>\n",
              "      <td>month</td>\n",
              "      <td>0.071708</td>\n",
              "    </tr>\n",
              "    <tr>\n",
              "      <th>4</th>\n",
              "      <td>quantity</td>\n",
              "      <td>0.058676</td>\n",
              "    </tr>\n",
              "  </tbody>\n",
              "</table>\n",
              "</div>\n",
              "      <button class=\"colab-df-convert\" onclick=\"convertToInteractive('df-d9ef972b-d304-4888-be80-0dc97791a9bb')\"\n",
              "              title=\"Convert this dataframe to an interactive table.\"\n",
              "              style=\"display:none;\">\n",
              "        \n",
              "  <svg xmlns=\"http://www.w3.org/2000/svg\" height=\"24px\"viewBox=\"0 0 24 24\"\n",
              "       width=\"24px\">\n",
              "    <path d=\"M0 0h24v24H0V0z\" fill=\"none\"/>\n",
              "    <path d=\"M18.56 5.44l.94 2.06.94-2.06 2.06-.94-2.06-.94-.94-2.06-.94 2.06-2.06.94zm-11 1L8.5 8.5l.94-2.06 2.06-.94-2.06-.94L8.5 2.5l-.94 2.06-2.06.94zm10 10l.94 2.06.94-2.06 2.06-.94-2.06-.94-.94-2.06-.94 2.06-2.06.94z\"/><path d=\"M17.41 7.96l-1.37-1.37c-.4-.4-.92-.59-1.43-.59-.52 0-1.04.2-1.43.59L10.3 9.45l-7.72 7.72c-.78.78-.78 2.05 0 2.83L4 21.41c.39.39.9.59 1.41.59.51 0 1.02-.2 1.41-.59l7.78-7.78 2.81-2.81c.8-.78.8-2.07 0-2.86zM5.41 20L4 18.59l7.72-7.72 1.47 1.35L5.41 20z\"/>\n",
              "  </svg>\n",
              "      </button>\n",
              "      \n",
              "  <style>\n",
              "    .colab-df-container {\n",
              "      display:flex;\n",
              "      flex-wrap:wrap;\n",
              "      gap: 12px;\n",
              "    }\n",
              "\n",
              "    .colab-df-convert {\n",
              "      background-color: #E8F0FE;\n",
              "      border: none;\n",
              "      border-radius: 50%;\n",
              "      cursor: pointer;\n",
              "      display: none;\n",
              "      fill: #1967D2;\n",
              "      height: 32px;\n",
              "      padding: 0 0 0 0;\n",
              "      width: 32px;\n",
              "    }\n",
              "\n",
              "    .colab-df-convert:hover {\n",
              "      background-color: #E2EBFA;\n",
              "      box-shadow: 0px 1px 2px rgba(60, 64, 67, 0.3), 0px 1px 3px 1px rgba(60, 64, 67, 0.15);\n",
              "      fill: #174EA6;\n",
              "    }\n",
              "\n",
              "    [theme=dark] .colab-df-convert {\n",
              "      background-color: #3B4455;\n",
              "      fill: #D2E3FC;\n",
              "    }\n",
              "\n",
              "    [theme=dark] .colab-df-convert:hover {\n",
              "      background-color: #434B5C;\n",
              "      box-shadow: 0px 1px 3px 1px rgba(0, 0, 0, 0.15);\n",
              "      filter: drop-shadow(0px 1px 2px rgba(0, 0, 0, 0.3));\n",
              "      fill: #FFFFFF;\n",
              "    }\n",
              "  </style>\n",
              "\n",
              "      <script>\n",
              "        const buttonEl =\n",
              "          document.querySelector('#df-d9ef972b-d304-4888-be80-0dc97791a9bb button.colab-df-convert');\n",
              "        buttonEl.style.display =\n",
              "          google.colab.kernel.accessAllowed ? 'block' : 'none';\n",
              "\n",
              "        async function convertToInteractive(key) {\n",
              "          const element = document.querySelector('#df-d9ef972b-d304-4888-be80-0dc97791a9bb');\n",
              "          const dataTable =\n",
              "            await google.colab.kernel.invokeFunction('convertToInteractive',\n",
              "                                                     [key], {});\n",
              "          if (!dataTable) return;\n",
              "\n",
              "          const docLinkHtml = 'Like what you see? Visit the ' +\n",
              "            '<a target=\"_blank\" href=https://colab.research.google.com/notebooks/data_table.ipynb>data table notebook</a>'\n",
              "            + ' to learn more about interactive tables.';\n",
              "          element.innerHTML = '';\n",
              "          dataTable['output_type'] = 'display_data';\n",
              "          await google.colab.output.renderOutput(dataTable, element);\n",
              "          const docLink = document.createElement('div');\n",
              "          docLink.innerHTML = docLinkHtml;\n",
              "          element.appendChild(docLink);\n",
              "        }\n",
              "      </script>\n",
              "    </div>\n",
              "  </div>\n",
              "  "
            ]
          },
          "metadata": {},
          "execution_count": 59
        }
      ]
    },
    {
      "cell_type": "markdown",
      "source": [
        "#### 1. Evaluation metric Score Chart."
      ],
      "metadata": {
        "id": "JWYfwnehpsJ1"
      }
    },
    {
      "cell_type": "markdown",
      "source": [
        "Let us evaluate the performance of the model using metrics like accuracy, precision, recall, F1 score, and confusion matrix."
      ],
      "metadata": {
        "id": "HwM84gv_06x8"
      }
    },
    {
      "cell_type": "code",
      "source": [
        "# Generating the confusion matrix\n",
        "cf_matrix = confusion_matrix(y_test, y_pred)\n",
        "print(cf_matrix)"
      ],
      "metadata": {
        "id": "yEl-hgQWpsJ1",
        "colab": {
          "base_uri": "https://localhost:8080/"
        },
        "outputId": "fe4eb785-9068-4106-9d5e-1d42c8f19bc7"
      },
      "execution_count": null,
      "outputs": [
        {
          "output_type": "stream",
          "name": "stdout",
          "text": [
            "[[ 724   25   31   11    3]\n",
            " [  57 1741   78   64   11]\n",
            " [  47  309  694  104   33]\n",
            " [  45  172  190  166   17]\n",
            " [   6   27   78   11   69]]\n"
          ]
        }
      ]
    },
    {
      "cell_type": "code",
      "source": [
        "# Evaluation Metrics for Train data\n",
        "# Classification Report\n",
        "print('Classification report for Random Forest (Train set) = \\n')\n",
        "print(classification_report(y_pred_train, y_train))"
      ],
      "metadata": {
        "colab": {
          "base_uri": "https://localhost:8080/"
        },
        "id": "m5eyEc4tuauW",
        "outputId": "ee40fa44-a17e-489a-95a7-60cbd0d55933"
      },
      "execution_count": null,
      "outputs": [
        {
          "output_type": "stream",
          "name": "stdout",
          "text": [
            "Classification report for Random Forest (Train set) = \n",
            "\n",
            "              precision    recall  f1-score   support\n",
            "\n",
            "           0       1.00      1.00      1.00      3116\n",
            "           1       1.00      1.00      1.00      7916\n",
            "           2       1.00      1.00      1.00      4721\n",
            "           3       1.00      1.00      1.00      2287\n",
            "           4       1.00      1.00      1.00       808\n",
            "\n",
            "    accuracy                           1.00     18848\n",
            "   macro avg       1.00      1.00      1.00     18848\n",
            "weighted avg       1.00      1.00      1.00     18848\n",
            "\n"
          ]
        }
      ]
    },
    {
      "cell_type": "code",
      "source": [
        "# Evaluation Metrics for test data\n",
        "# Classification Report\n",
        "print('Classification report for Random Forest (Test set)= \\n')\n",
        "print(classification_report(y_pred_test, y_test))"
      ],
      "metadata": {
        "colab": {
          "base_uri": "https://localhost:8080/"
        },
        "id": "OyE14YqPuadx",
        "outputId": "99e840f2-b6ed-4bb6-d4df-37b9efb04d3f"
      },
      "execution_count": null,
      "outputs": [
        {
          "output_type": "stream",
          "name": "stdout",
          "text": [
            "Classification report for Random Forest (Test set)= \n",
            "\n",
            "              precision    recall  f1-score   support\n",
            "\n",
            "           0       0.20      0.57      0.30       281\n",
            "           1       0.92      0.54      0.68      3305\n",
            "           2       0.54      0.59      0.56      1090\n",
            "           3       0.03      0.53      0.05        32\n",
            "           4       0.03      1.00      0.05         5\n",
            "\n",
            "    accuracy                           0.55      4713\n",
            "   macro avg       0.34      0.65      0.33      4713\n",
            "weighted avg       0.78      0.55      0.63      4713\n",
            "\n"
          ]
        }
      ]
    },
    {
      "cell_type": "markdown",
      "source": [
        "This is a clear case of an overfit model when our ML classifier model perform really well on the train set but fails to predict accurately for the test set."
      ],
      "metadata": {
        "id": "4ltahSYOZzBe"
      }
    },
    {
      "cell_type": "markdown",
      "source": [
        "#### 2. Cross- Validation & Hyperparameter Tuning"
      ],
      "metadata": {
        "id": "-jK_YjpMpsJ2"
      }
    },
    {
      "cell_type": "markdown",
      "source": [
        "Now let's see if we can possibly improve our model's fit. I will enter a wide range of values for which the GridSearch will exhaustively search over to come up with the best accuracy score."
      ],
      "metadata": {
        "id": "TSU3RmVx2AZH"
      }
    },
    {
      "cell_type": "code",
      "source": [
        "# Defining the parameter options\n",
        "params = {'n_estimators':[10,50,100,200],\n",
        "          'max_depth':[10,20,30,40],\n",
        "           'min_samples_split':[2,4,6],\n",
        "          'max_features':['sqrt',4,'log2','auto'],\n",
        "          'max_leaf_nodes':[10, 20, 40]\n",
        "          }\n",
        "\n",
        "# Apply random Forest Classifier Model\n",
        "\n",
        "rf = RandomForestClassifier()\n",
        "rf_cv = GridSearchCV(rf, params, scoring='accuracy', cv=3)\n",
        "rf_cv.fit(X, y)"
      ],
      "metadata": {
        "id": "Dn0EOfS6psJ2",
        "colab": {
          "base_uri": "https://localhost:8080/",
          "height": 116
        },
        "outputId": "983247f7-2a21-49ba-c410-c8b6739e51e9"
      },
      "execution_count": null,
      "outputs": [
        {
          "output_type": "execute_result",
          "data": {
            "text/plain": [
              "GridSearchCV(cv=3, estimator=RandomForestClassifier(),\n",
              "             param_grid={'max_depth': [10, 20, 30, 40],\n",
              "                         'max_features': ['sqrt', 4, 'log2', 'auto'],\n",
              "                         'max_leaf_nodes': [10, 20, 40],\n",
              "                         'min_samples_split': [2, 4, 6],\n",
              "                         'n_estimators': [10, 50, 100, 200]},\n",
              "             scoring='accuracy')"
            ],
            "text/html": [
              "<style>#sk-container-id-3 {color: black;background-color: white;}#sk-container-id-3 pre{padding: 0;}#sk-container-id-3 div.sk-toggleable {background-color: white;}#sk-container-id-3 label.sk-toggleable__label {cursor: pointer;display: block;width: 100%;margin-bottom: 0;padding: 0.3em;box-sizing: border-box;text-align: center;}#sk-container-id-3 label.sk-toggleable__label-arrow:before {content: \"▸\";float: left;margin-right: 0.25em;color: #696969;}#sk-container-id-3 label.sk-toggleable__label-arrow:hover:before {color: black;}#sk-container-id-3 div.sk-estimator:hover label.sk-toggleable__label-arrow:before {color: black;}#sk-container-id-3 div.sk-toggleable__content {max-height: 0;max-width: 0;overflow: hidden;text-align: left;background-color: #f0f8ff;}#sk-container-id-3 div.sk-toggleable__content pre {margin: 0.2em;color: black;border-radius: 0.25em;background-color: #f0f8ff;}#sk-container-id-3 input.sk-toggleable__control:checked~div.sk-toggleable__content {max-height: 200px;max-width: 100%;overflow: auto;}#sk-container-id-3 input.sk-toggleable__control:checked~label.sk-toggleable__label-arrow:before {content: \"▾\";}#sk-container-id-3 div.sk-estimator input.sk-toggleable__control:checked~label.sk-toggleable__label {background-color: #d4ebff;}#sk-container-id-3 div.sk-label input.sk-toggleable__control:checked~label.sk-toggleable__label {background-color: #d4ebff;}#sk-container-id-3 input.sk-hidden--visually {border: 0;clip: rect(1px 1px 1px 1px);clip: rect(1px, 1px, 1px, 1px);height: 1px;margin: -1px;overflow: hidden;padding: 0;position: absolute;width: 1px;}#sk-container-id-3 div.sk-estimator {font-family: monospace;background-color: #f0f8ff;border: 1px dotted black;border-radius: 0.25em;box-sizing: border-box;margin-bottom: 0.5em;}#sk-container-id-3 div.sk-estimator:hover {background-color: #d4ebff;}#sk-container-id-3 div.sk-parallel-item::after {content: \"\";width: 100%;border-bottom: 1px solid gray;flex-grow: 1;}#sk-container-id-3 div.sk-label:hover label.sk-toggleable__label {background-color: #d4ebff;}#sk-container-id-3 div.sk-serial::before {content: \"\";position: absolute;border-left: 1px solid gray;box-sizing: border-box;top: 0;bottom: 0;left: 50%;z-index: 0;}#sk-container-id-3 div.sk-serial {display: flex;flex-direction: column;align-items: center;background-color: white;padding-right: 0.2em;padding-left: 0.2em;position: relative;}#sk-container-id-3 div.sk-item {position: relative;z-index: 1;}#sk-container-id-3 div.sk-parallel {display: flex;align-items: stretch;justify-content: center;background-color: white;position: relative;}#sk-container-id-3 div.sk-item::before, #sk-container-id-3 div.sk-parallel-item::before {content: \"\";position: absolute;border-left: 1px solid gray;box-sizing: border-box;top: 0;bottom: 0;left: 50%;z-index: -1;}#sk-container-id-3 div.sk-parallel-item {display: flex;flex-direction: column;z-index: 1;position: relative;background-color: white;}#sk-container-id-3 div.sk-parallel-item:first-child::after {align-self: flex-end;width: 50%;}#sk-container-id-3 div.sk-parallel-item:last-child::after {align-self: flex-start;width: 50%;}#sk-container-id-3 div.sk-parallel-item:only-child::after {width: 0;}#sk-container-id-3 div.sk-dashed-wrapped {border: 1px dashed gray;margin: 0 0.4em 0.5em 0.4em;box-sizing: border-box;padding-bottom: 0.4em;background-color: white;}#sk-container-id-3 div.sk-label label {font-family: monospace;font-weight: bold;display: inline-block;line-height: 1.2em;}#sk-container-id-3 div.sk-label-container {text-align: center;}#sk-container-id-3 div.sk-container {/* jupyter's `normalize.less` sets `[hidden] { display: none; }` but bootstrap.min.css set `[hidden] { display: none !important; }` so we also need the `!important` here to be able to override the default hidden behavior on the sphinx rendered scikit-learn.org. See: https://github.com/scikit-learn/scikit-learn/issues/21755 */display: inline-block !important;position: relative;}#sk-container-id-3 div.sk-text-repr-fallback {display: none;}</style><div id=\"sk-container-id-3\" class=\"sk-top-container\"><div class=\"sk-text-repr-fallback\"><pre>GridSearchCV(cv=3, estimator=RandomForestClassifier(),\n",
              "             param_grid={&#x27;max_depth&#x27;: [10, 20, 30, 40],\n",
              "                         &#x27;max_features&#x27;: [&#x27;sqrt&#x27;, 4, &#x27;log2&#x27;, &#x27;auto&#x27;],\n",
              "                         &#x27;max_leaf_nodes&#x27;: [10, 20, 40],\n",
              "                         &#x27;min_samples_split&#x27;: [2, 4, 6],\n",
              "                         &#x27;n_estimators&#x27;: [10, 50, 100, 200]},\n",
              "             scoring=&#x27;accuracy&#x27;)</pre><b>In a Jupyter environment, please rerun this cell to show the HTML representation or trust the notebook. <br />On GitHub, the HTML representation is unable to render, please try loading this page with nbviewer.org.</b></div><div class=\"sk-container\" hidden><div class=\"sk-item sk-dashed-wrapped\"><div class=\"sk-label-container\"><div class=\"sk-label sk-toggleable\"><input class=\"sk-toggleable__control sk-hidden--visually\" id=\"sk-estimator-id-3\" type=\"checkbox\" ><label for=\"sk-estimator-id-3\" class=\"sk-toggleable__label sk-toggleable__label-arrow\">GridSearchCV</label><div class=\"sk-toggleable__content\"><pre>GridSearchCV(cv=3, estimator=RandomForestClassifier(),\n",
              "             param_grid={&#x27;max_depth&#x27;: [10, 20, 30, 40],\n",
              "                         &#x27;max_features&#x27;: [&#x27;sqrt&#x27;, 4, &#x27;log2&#x27;, &#x27;auto&#x27;],\n",
              "                         &#x27;max_leaf_nodes&#x27;: [10, 20, 40],\n",
              "                         &#x27;min_samples_split&#x27;: [2, 4, 6],\n",
              "                         &#x27;n_estimators&#x27;: [10, 50, 100, 200]},\n",
              "             scoring=&#x27;accuracy&#x27;)</pre></div></div></div><div class=\"sk-parallel\"><div class=\"sk-parallel-item\"><div class=\"sk-item\"><div class=\"sk-label-container\"><div class=\"sk-label sk-toggleable\"><input class=\"sk-toggleable__control sk-hidden--visually\" id=\"sk-estimator-id-4\" type=\"checkbox\" ><label for=\"sk-estimator-id-4\" class=\"sk-toggleable__label sk-toggleable__label-arrow\">estimator: RandomForestClassifier</label><div class=\"sk-toggleable__content\"><pre>RandomForestClassifier()</pre></div></div></div><div class=\"sk-serial\"><div class=\"sk-item\"><div class=\"sk-estimator sk-toggleable\"><input class=\"sk-toggleable__control sk-hidden--visually\" id=\"sk-estimator-id-5\" type=\"checkbox\" ><label for=\"sk-estimator-id-5\" class=\"sk-toggleable__label sk-toggleable__label-arrow\">RandomForestClassifier</label><div class=\"sk-toggleable__content\"><pre>RandomForestClassifier()</pre></div></div></div></div></div></div></div></div></div></div>"
            ]
          },
          "metadata": {},
          "execution_count": 63
        }
      ]
    },
    {
      "cell_type": "code",
      "source": [
        "# Best parameters among the defined list are\n",
        "rf_cv.best_params_"
      ],
      "metadata": {
        "colab": {
          "base_uri": "https://localhost:8080/"
        },
        "id": "m3tiPQe4uq5G",
        "outputId": "55674fe2-0fe6-483e-966e-24234f27da1f"
      },
      "execution_count": null,
      "outputs": [
        {
          "output_type": "execute_result",
          "data": {
            "text/plain": [
              "{'max_depth': 30,\n",
              " 'max_features': 4,\n",
              " 'max_leaf_nodes': 40,\n",
              " 'min_samples_split': 2,\n",
              " 'n_estimators': 50}"
            ]
          },
          "metadata": {},
          "execution_count": 64
        }
      ]
    },
    {
      "cell_type": "code",
      "source": [
        "# Best estimators according to GridsearchCV are\n",
        "rf_cv.best_estimator_"
      ],
      "metadata": {
        "colab": {
          "base_uri": "https://localhost:8080/",
          "height": 91
        },
        "id": "8ngwvQBruqnU",
        "outputId": "e3cc92b5-2d61-441b-88b4-96fdde793525"
      },
      "execution_count": null,
      "outputs": [
        {
          "output_type": "execute_result",
          "data": {
            "text/plain": [
              "RandomForestClassifier(max_depth=30, max_features=4, max_leaf_nodes=40,\n",
              "                       n_estimators=50)"
            ],
            "text/html": [
              "<style>#sk-container-id-4 {color: black;background-color: white;}#sk-container-id-4 pre{padding: 0;}#sk-container-id-4 div.sk-toggleable {background-color: white;}#sk-container-id-4 label.sk-toggleable__label {cursor: pointer;display: block;width: 100%;margin-bottom: 0;padding: 0.3em;box-sizing: border-box;text-align: center;}#sk-container-id-4 label.sk-toggleable__label-arrow:before {content: \"▸\";float: left;margin-right: 0.25em;color: #696969;}#sk-container-id-4 label.sk-toggleable__label-arrow:hover:before {color: black;}#sk-container-id-4 div.sk-estimator:hover label.sk-toggleable__label-arrow:before {color: black;}#sk-container-id-4 div.sk-toggleable__content {max-height: 0;max-width: 0;overflow: hidden;text-align: left;background-color: #f0f8ff;}#sk-container-id-4 div.sk-toggleable__content pre {margin: 0.2em;color: black;border-radius: 0.25em;background-color: #f0f8ff;}#sk-container-id-4 input.sk-toggleable__control:checked~div.sk-toggleable__content {max-height: 200px;max-width: 100%;overflow: auto;}#sk-container-id-4 input.sk-toggleable__control:checked~label.sk-toggleable__label-arrow:before {content: \"▾\";}#sk-container-id-4 div.sk-estimator input.sk-toggleable__control:checked~label.sk-toggleable__label {background-color: #d4ebff;}#sk-container-id-4 div.sk-label input.sk-toggleable__control:checked~label.sk-toggleable__label {background-color: #d4ebff;}#sk-container-id-4 input.sk-hidden--visually {border: 0;clip: rect(1px 1px 1px 1px);clip: rect(1px, 1px, 1px, 1px);height: 1px;margin: -1px;overflow: hidden;padding: 0;position: absolute;width: 1px;}#sk-container-id-4 div.sk-estimator {font-family: monospace;background-color: #f0f8ff;border: 1px dotted black;border-radius: 0.25em;box-sizing: border-box;margin-bottom: 0.5em;}#sk-container-id-4 div.sk-estimator:hover {background-color: #d4ebff;}#sk-container-id-4 div.sk-parallel-item::after {content: \"\";width: 100%;border-bottom: 1px solid gray;flex-grow: 1;}#sk-container-id-4 div.sk-label:hover label.sk-toggleable__label {background-color: #d4ebff;}#sk-container-id-4 div.sk-serial::before {content: \"\";position: absolute;border-left: 1px solid gray;box-sizing: border-box;top: 0;bottom: 0;left: 50%;z-index: 0;}#sk-container-id-4 div.sk-serial {display: flex;flex-direction: column;align-items: center;background-color: white;padding-right: 0.2em;padding-left: 0.2em;position: relative;}#sk-container-id-4 div.sk-item {position: relative;z-index: 1;}#sk-container-id-4 div.sk-parallel {display: flex;align-items: stretch;justify-content: center;background-color: white;position: relative;}#sk-container-id-4 div.sk-item::before, #sk-container-id-4 div.sk-parallel-item::before {content: \"\";position: absolute;border-left: 1px solid gray;box-sizing: border-box;top: 0;bottom: 0;left: 50%;z-index: -1;}#sk-container-id-4 div.sk-parallel-item {display: flex;flex-direction: column;z-index: 1;position: relative;background-color: white;}#sk-container-id-4 div.sk-parallel-item:first-child::after {align-self: flex-end;width: 50%;}#sk-container-id-4 div.sk-parallel-item:last-child::after {align-self: flex-start;width: 50%;}#sk-container-id-4 div.sk-parallel-item:only-child::after {width: 0;}#sk-container-id-4 div.sk-dashed-wrapped {border: 1px dashed gray;margin: 0 0.4em 0.5em 0.4em;box-sizing: border-box;padding-bottom: 0.4em;background-color: white;}#sk-container-id-4 div.sk-label label {font-family: monospace;font-weight: bold;display: inline-block;line-height: 1.2em;}#sk-container-id-4 div.sk-label-container {text-align: center;}#sk-container-id-4 div.sk-container {/* jupyter's `normalize.less` sets `[hidden] { display: none; }` but bootstrap.min.css set `[hidden] { display: none !important; }` so we also need the `!important` here to be able to override the default hidden behavior on the sphinx rendered scikit-learn.org. See: https://github.com/scikit-learn/scikit-learn/issues/21755 */display: inline-block !important;position: relative;}#sk-container-id-4 div.sk-text-repr-fallback {display: none;}</style><div id=\"sk-container-id-4\" class=\"sk-top-container\"><div class=\"sk-text-repr-fallback\"><pre>RandomForestClassifier(max_depth=30, max_features=4, max_leaf_nodes=40,\n",
              "                       n_estimators=50)</pre><b>In a Jupyter environment, please rerun this cell to show the HTML representation or trust the notebook. <br />On GitHub, the HTML representation is unable to render, please try loading this page with nbviewer.org.</b></div><div class=\"sk-container\" hidden><div class=\"sk-item\"><div class=\"sk-estimator sk-toggleable\"><input class=\"sk-toggleable__control sk-hidden--visually\" id=\"sk-estimator-id-6\" type=\"checkbox\" checked><label for=\"sk-estimator-id-6\" class=\"sk-toggleable__label sk-toggleable__label-arrow\">RandomForestClassifier</label><div class=\"sk-toggleable__content\"><pre>RandomForestClassifier(max_depth=30, max_features=4, max_leaf_nodes=40,\n",
              "                       n_estimators=50)</pre></div></div></div></div></div>"
            ]
          },
          "metadata": {},
          "execution_count": 65
        }
      ]
    },
    {
      "cell_type": "code",
      "source": [
        "# Best Accuracy Score\n",
        "rf_cv.best_score_"
      ],
      "metadata": {
        "colab": {
          "base_uri": "https://localhost:8080/"
        },
        "id": "zKsAoL8kuqV8",
        "outputId": "142f9f77-4d51-45a5-a00b-ca80d3a6fd0b"
      },
      "execution_count": null,
      "outputs": [
        {
          "output_type": "execute_result",
          "data": {
            "text/plain": [
              "0.7107504845124789"
            ]
          },
          "metadata": {},
          "execution_count": 66
        }
      ]
    },
    {
      "cell_type": "markdown",
      "source": [
        "Now we have a best value within our very narrow range. So let's plug these values from our GridSearch back into our model with 50 estimators and calculate some summary stats, using the same random_state as our baseline."
      ],
      "metadata": {
        "id": "5TNZRRA92SP2"
      }
    },
    {
      "cell_type": "code",
      "source": [
        "# Applying the best parameters to random forest\n",
        "rf_cv = RandomForestClassifier(bootstrap=True, ccp_alpha=0.0, class_weight=None,\n",
        "                       criterion='gini', max_depth=30, max_features=4,\n",
        "                       max_leaf_nodes=40, max_samples=None,\n",
        "                       min_impurity_decrease=0.0,\n",
        "                       min_samples_leaf=1, min_samples_split=4,\n",
        "                       min_weight_fraction_leaf=0.0, n_estimators=10,\n",
        "                       n_jobs=None, oob_score=False, random_state=None,\n",
        "                       verbose=0, warm_start=False)\n",
        "rf_cv.fit(X_train, y_train)"
      ],
      "metadata": {
        "colab": {
          "base_uri": "https://localhost:8080/",
          "height": 91
        },
        "id": "toJRC4FZuqEm",
        "outputId": "a0c786c6-1dd4-4699-9289-12aacfc44bb6"
      },
      "execution_count": null,
      "outputs": [
        {
          "output_type": "execute_result",
          "data": {
            "text/plain": [
              "RandomForestClassifier(max_depth=30, max_features=4, max_leaf_nodes=40,\n",
              "                       min_samples_split=4, n_estimators=10)"
            ],
            "text/html": [
              "<style>#sk-container-id-5 {color: black;background-color: white;}#sk-container-id-5 pre{padding: 0;}#sk-container-id-5 div.sk-toggleable {background-color: white;}#sk-container-id-5 label.sk-toggleable__label {cursor: pointer;display: block;width: 100%;margin-bottom: 0;padding: 0.3em;box-sizing: border-box;text-align: center;}#sk-container-id-5 label.sk-toggleable__label-arrow:before {content: \"▸\";float: left;margin-right: 0.25em;color: #696969;}#sk-container-id-5 label.sk-toggleable__label-arrow:hover:before {color: black;}#sk-container-id-5 div.sk-estimator:hover label.sk-toggleable__label-arrow:before {color: black;}#sk-container-id-5 div.sk-toggleable__content {max-height: 0;max-width: 0;overflow: hidden;text-align: left;background-color: #f0f8ff;}#sk-container-id-5 div.sk-toggleable__content pre {margin: 0.2em;color: black;border-radius: 0.25em;background-color: #f0f8ff;}#sk-container-id-5 input.sk-toggleable__control:checked~div.sk-toggleable__content {max-height: 200px;max-width: 100%;overflow: auto;}#sk-container-id-5 input.sk-toggleable__control:checked~label.sk-toggleable__label-arrow:before {content: \"▾\";}#sk-container-id-5 div.sk-estimator input.sk-toggleable__control:checked~label.sk-toggleable__label {background-color: #d4ebff;}#sk-container-id-5 div.sk-label input.sk-toggleable__control:checked~label.sk-toggleable__label {background-color: #d4ebff;}#sk-container-id-5 input.sk-hidden--visually {border: 0;clip: rect(1px 1px 1px 1px);clip: rect(1px, 1px, 1px, 1px);height: 1px;margin: -1px;overflow: hidden;padding: 0;position: absolute;width: 1px;}#sk-container-id-5 div.sk-estimator {font-family: monospace;background-color: #f0f8ff;border: 1px dotted black;border-radius: 0.25em;box-sizing: border-box;margin-bottom: 0.5em;}#sk-container-id-5 div.sk-estimator:hover {background-color: #d4ebff;}#sk-container-id-5 div.sk-parallel-item::after {content: \"\";width: 100%;border-bottom: 1px solid gray;flex-grow: 1;}#sk-container-id-5 div.sk-label:hover label.sk-toggleable__label {background-color: #d4ebff;}#sk-container-id-5 div.sk-serial::before {content: \"\";position: absolute;border-left: 1px solid gray;box-sizing: border-box;top: 0;bottom: 0;left: 50%;z-index: 0;}#sk-container-id-5 div.sk-serial {display: flex;flex-direction: column;align-items: center;background-color: white;padding-right: 0.2em;padding-left: 0.2em;position: relative;}#sk-container-id-5 div.sk-item {position: relative;z-index: 1;}#sk-container-id-5 div.sk-parallel {display: flex;align-items: stretch;justify-content: center;background-color: white;position: relative;}#sk-container-id-5 div.sk-item::before, #sk-container-id-5 div.sk-parallel-item::before {content: \"\";position: absolute;border-left: 1px solid gray;box-sizing: border-box;top: 0;bottom: 0;left: 50%;z-index: -1;}#sk-container-id-5 div.sk-parallel-item {display: flex;flex-direction: column;z-index: 1;position: relative;background-color: white;}#sk-container-id-5 div.sk-parallel-item:first-child::after {align-self: flex-end;width: 50%;}#sk-container-id-5 div.sk-parallel-item:last-child::after {align-self: flex-start;width: 50%;}#sk-container-id-5 div.sk-parallel-item:only-child::after {width: 0;}#sk-container-id-5 div.sk-dashed-wrapped {border: 1px dashed gray;margin: 0 0.4em 0.5em 0.4em;box-sizing: border-box;padding-bottom: 0.4em;background-color: white;}#sk-container-id-5 div.sk-label label {font-family: monospace;font-weight: bold;display: inline-block;line-height: 1.2em;}#sk-container-id-5 div.sk-label-container {text-align: center;}#sk-container-id-5 div.sk-container {/* jupyter's `normalize.less` sets `[hidden] { display: none; }` but bootstrap.min.css set `[hidden] { display: none !important; }` so we also need the `!important` here to be able to override the default hidden behavior on the sphinx rendered scikit-learn.org. See: https://github.com/scikit-learn/scikit-learn/issues/21755 */display: inline-block !important;position: relative;}#sk-container-id-5 div.sk-text-repr-fallback {display: none;}</style><div id=\"sk-container-id-5\" class=\"sk-top-container\"><div class=\"sk-text-repr-fallback\"><pre>RandomForestClassifier(max_depth=30, max_features=4, max_leaf_nodes=40,\n",
              "                       min_samples_split=4, n_estimators=10)</pre><b>In a Jupyter environment, please rerun this cell to show the HTML representation or trust the notebook. <br />On GitHub, the HTML representation is unable to render, please try loading this page with nbviewer.org.</b></div><div class=\"sk-container\" hidden><div class=\"sk-item\"><div class=\"sk-estimator sk-toggleable\"><input class=\"sk-toggleable__control sk-hidden--visually\" id=\"sk-estimator-id-7\" type=\"checkbox\" checked><label for=\"sk-estimator-id-7\" class=\"sk-toggleable__label sk-toggleable__label-arrow\">RandomForestClassifier</label><div class=\"sk-toggleable__content\"><pre>RandomForestClassifier(max_depth=30, max_features=4, max_leaf_nodes=40,\n",
              "                       min_samples_split=4, n_estimators=10)</pre></div></div></div></div></div>"
            ]
          },
          "metadata": {},
          "execution_count": 67
        }
      ]
    },
    {
      "cell_type": "code",
      "source": [
        "# Accuracy score for y on train data\n",
        "y_pred = rf_cv.predict(X_train)\n",
        "accuracy_score(y_train, y_pred)"
      ],
      "metadata": {
        "colab": {
          "base_uri": "https://localhost:8080/"
        },
        "id": "MiZDedOJvuxU",
        "outputId": "26880876-4c2a-42c8-c853-b9f9991abf5c"
      },
      "execution_count": null,
      "outputs": [
        {
          "output_type": "execute_result",
          "data": {
            "text/plain": [
              "0.7261778438030561"
            ]
          },
          "metadata": {},
          "execution_count": 68
        }
      ]
    },
    {
      "cell_type": "code",
      "source": [
        "# Classification report for Random forest train data\n",
        "print('Classification report for Random Forest (Train set)= \\n')\n",
        "\n",
        "print(classification_report(y_train, y_pred))"
      ],
      "metadata": {
        "colab": {
          "base_uri": "https://localhost:8080/"
        },
        "id": "gL7peA1pvue3",
        "outputId": "420a9d8f-a013-4783-ba38-1f2340df080a"
      },
      "execution_count": null,
      "outputs": [
        {
          "output_type": "stream",
          "name": "stdout",
          "text": [
            "Classification report for Random Forest (Train set)= \n",
            "\n",
            "              precision    recall  f1-score   support\n",
            "\n",
            "           0       0.79      0.99      0.88      3115\n",
            "           1       0.73      0.95      0.83      7912\n",
            "           2       0.67      0.58      0.62      4722\n",
            "           3       0.59      0.11      0.18      2290\n",
            "           4       0.65      0.14      0.23       809\n",
            "\n",
            "    accuracy                           0.73     18848\n",
            "   macro avg       0.69      0.55      0.55     18848\n",
            "weighted avg       0.71      0.73      0.68     18848\n",
            "\n"
          ]
        }
      ]
    },
    {
      "cell_type": "code",
      "source": [
        "# Accuracy score for test set\n",
        "y_pred_test = rf_cv.predict(X_test)\n",
        "accuracy_score(y_test, y_pred_test)"
      ],
      "metadata": {
        "colab": {
          "base_uri": "https://localhost:8080/"
        },
        "id": "4AbxBKVZwCR_",
        "outputId": "6475c2c5-169a-47cf-da03-f340973df3a9"
      },
      "execution_count": null,
      "outputs": [
        {
          "output_type": "execute_result",
          "data": {
            "text/plain": [
              "0.709102482495226"
            ]
          },
          "metadata": {},
          "execution_count": 70
        }
      ]
    },
    {
      "cell_type": "code",
      "source": [
        "# Classification Report for test data\n",
        "print('Classification report for Random Forest (Test set)= \\n')\n",
        "print(classification_report(y_test, y_pred_test))"
      ],
      "metadata": {
        "colab": {
          "base_uri": "https://localhost:8080/"
        },
        "id": "9irfumxbvuL3",
        "outputId": "c0af6215-c7a7-4f2c-915c-d1b9e3ce243c"
      },
      "execution_count": null,
      "outputs": [
        {
          "output_type": "stream",
          "name": "stdout",
          "text": [
            "Classification report for Random Forest (Test set)= \n",
            "\n",
            "              precision    recall  f1-score   support\n",
            "\n",
            "           0       0.79      0.99      0.88       794\n",
            "           1       0.72      0.94      0.81      1951\n",
            "           2       0.63      0.54      0.58      1187\n",
            "           3       0.50      0.09      0.15       590\n",
            "           4       0.57      0.14      0.23       191\n",
            "\n",
            "    accuracy                           0.71      4713\n",
            "   macro avg       0.64      0.54      0.53      4713\n",
            "weighted avg       0.68      0.71      0.66      4713\n",
            "\n"
          ]
        }
      ]
    },
    {
      "cell_type": "markdown",
      "source": [
        "Slight improvement! GridSearch doesn't always make leaps and bounds but any percentage of improvement is worth it."
      ],
      "metadata": {
        "id": "f9U3hFHO2mAO"
      }
    },
    {
      "cell_type": "code",
      "source": [
        "#Generate the confusion matrix\n",
        "cf_matrix = confusion_matrix(y_test, y_pred_test)\n",
        "\n",
        "print(cf_matrix)"
      ],
      "metadata": {
        "colab": {
          "base_uri": "https://localhost:8080/"
        },
        "id": "XpMzjXsIvttD",
        "outputId": "cfed8398-d037-442e-bcd4-a72e74eebdb0"
      },
      "execution_count": null,
      "outputs": [
        {
          "output_type": "stream",
          "name": "stdout",
          "text": [
            "[[ 790    4    0    0    0]\n",
            " [  77 1830   38    5    1]\n",
            " [  59  434  644   37   13]\n",
            " [  57  237  239   51    6]\n",
            " [  11   43  101    9   27]]\n"
          ]
        }
      ]
    },
    {
      "cell_type": "code",
      "source": [
        "# Most important features that determine Y\n",
        "feature_importance = pd.DataFrame({'Feature':X.columns,\n",
        "                                   'Score':rf_cv.feature_importances_}).sort_values(by='Score', ascending=False).reset_index(drop=True)\n",
        "feature_importance.head()"
      ],
      "metadata": {
        "colab": {
          "base_uri": "https://localhost:8080/",
          "height": 206
        },
        "id": "PKaQQAnvvtaa",
        "outputId": "17e527b3-bb81-49d6-b38f-e8e49880aae0"
      },
      "execution_count": null,
      "outputs": [
        {
          "output_type": "execute_result",
          "data": {
            "text/plain": [
              "            Feature     Score\n",
              "0  line_item_amount  0.650596\n",
              "1             month  0.158913\n",
              "2          quantity  0.122463\n",
              "3           user_id  0.036037\n",
              "4               day  0.020351"
            ],
            "text/html": [
              "\n",
              "  <div id=\"df-a7fedd7e-653f-4774-8422-36ffb9c033e9\">\n",
              "    <div class=\"colab-df-container\">\n",
              "      <div>\n",
              "<style scoped>\n",
              "    .dataframe tbody tr th:only-of-type {\n",
              "        vertical-align: middle;\n",
              "    }\n",
              "\n",
              "    .dataframe tbody tr th {\n",
              "        vertical-align: top;\n",
              "    }\n",
              "\n",
              "    .dataframe thead th {\n",
              "        text-align: right;\n",
              "    }\n",
              "</style>\n",
              "<table border=\"1\" class=\"dataframe\">\n",
              "  <thead>\n",
              "    <tr style=\"text-align: right;\">\n",
              "      <th></th>\n",
              "      <th>Feature</th>\n",
              "      <th>Score</th>\n",
              "    </tr>\n",
              "  </thead>\n",
              "  <tbody>\n",
              "    <tr>\n",
              "      <th>0</th>\n",
              "      <td>line_item_amount</td>\n",
              "      <td>0.650596</td>\n",
              "    </tr>\n",
              "    <tr>\n",
              "      <th>1</th>\n",
              "      <td>month</td>\n",
              "      <td>0.158913</td>\n",
              "    </tr>\n",
              "    <tr>\n",
              "      <th>2</th>\n",
              "      <td>quantity</td>\n",
              "      <td>0.122463</td>\n",
              "    </tr>\n",
              "    <tr>\n",
              "      <th>3</th>\n",
              "      <td>user_id</td>\n",
              "      <td>0.036037</td>\n",
              "    </tr>\n",
              "    <tr>\n",
              "      <th>4</th>\n",
              "      <td>day</td>\n",
              "      <td>0.020351</td>\n",
              "    </tr>\n",
              "  </tbody>\n",
              "</table>\n",
              "</div>\n",
              "      <button class=\"colab-df-convert\" onclick=\"convertToInteractive('df-a7fedd7e-653f-4774-8422-36ffb9c033e9')\"\n",
              "              title=\"Convert this dataframe to an interactive table.\"\n",
              "              style=\"display:none;\">\n",
              "        \n",
              "  <svg xmlns=\"http://www.w3.org/2000/svg\" height=\"24px\"viewBox=\"0 0 24 24\"\n",
              "       width=\"24px\">\n",
              "    <path d=\"M0 0h24v24H0V0z\" fill=\"none\"/>\n",
              "    <path d=\"M18.56 5.44l.94 2.06.94-2.06 2.06-.94-2.06-.94-.94-2.06-.94 2.06-2.06.94zm-11 1L8.5 8.5l.94-2.06 2.06-.94-2.06-.94L8.5 2.5l-.94 2.06-2.06.94zm10 10l.94 2.06.94-2.06 2.06-.94-2.06-.94-.94-2.06-.94 2.06-2.06.94z\"/><path d=\"M17.41 7.96l-1.37-1.37c-.4-.4-.92-.59-1.43-.59-.52 0-1.04.2-1.43.59L10.3 9.45l-7.72 7.72c-.78.78-.78 2.05 0 2.83L4 21.41c.39.39.9.59 1.41.59.51 0 1.02-.2 1.41-.59l7.78-7.78 2.81-2.81c.8-.78.8-2.07 0-2.86zM5.41 20L4 18.59l7.72-7.72 1.47 1.35L5.41 20z\"/>\n",
              "  </svg>\n",
              "      </button>\n",
              "      \n",
              "  <style>\n",
              "    .colab-df-container {\n",
              "      display:flex;\n",
              "      flex-wrap:wrap;\n",
              "      gap: 12px;\n",
              "    }\n",
              "\n",
              "    .colab-df-convert {\n",
              "      background-color: #E8F0FE;\n",
              "      border: none;\n",
              "      border-radius: 50%;\n",
              "      cursor: pointer;\n",
              "      display: none;\n",
              "      fill: #1967D2;\n",
              "      height: 32px;\n",
              "      padding: 0 0 0 0;\n",
              "      width: 32px;\n",
              "    }\n",
              "\n",
              "    .colab-df-convert:hover {\n",
              "      background-color: #E2EBFA;\n",
              "      box-shadow: 0px 1px 2px rgba(60, 64, 67, 0.3), 0px 1px 3px 1px rgba(60, 64, 67, 0.15);\n",
              "      fill: #174EA6;\n",
              "    }\n",
              "\n",
              "    [theme=dark] .colab-df-convert {\n",
              "      background-color: #3B4455;\n",
              "      fill: #D2E3FC;\n",
              "    }\n",
              "\n",
              "    [theme=dark] .colab-df-convert:hover {\n",
              "      background-color: #434B5C;\n",
              "      box-shadow: 0px 1px 3px 1px rgba(0, 0, 0, 0.15);\n",
              "      filter: drop-shadow(0px 1px 2px rgba(0, 0, 0, 0.3));\n",
              "      fill: #FFFFFF;\n",
              "    }\n",
              "  </style>\n",
              "\n",
              "      <script>\n",
              "        const buttonEl =\n",
              "          document.querySelector('#df-a7fedd7e-653f-4774-8422-36ffb9c033e9 button.colab-df-convert');\n",
              "        buttonEl.style.display =\n",
              "          google.colab.kernel.accessAllowed ? 'block' : 'none';\n",
              "\n",
              "        async function convertToInteractive(key) {\n",
              "          const element = document.querySelector('#df-a7fedd7e-653f-4774-8422-36ffb9c033e9');\n",
              "          const dataTable =\n",
              "            await google.colab.kernel.invokeFunction('convertToInteractive',\n",
              "                                                     [key], {});\n",
              "          if (!dataTable) return;\n",
              "\n",
              "          const docLinkHtml = 'Like what you see? Visit the ' +\n",
              "            '<a target=\"_blank\" href=https://colab.research.google.com/notebooks/data_table.ipynb>data table notebook</a>'\n",
              "            + ' to learn more about interactive tables.';\n",
              "          element.innerHTML = '';\n",
              "          dataTable['output_type'] = 'display_data';\n",
              "          await google.colab.output.renderOutput(dataTable, element);\n",
              "          const docLink = document.createElement('div');\n",
              "          docLink.innerHTML = docLinkHtml;\n",
              "          element.appendChild(docLink);\n",
              "        }\n",
              "      </script>\n",
              "    </div>\n",
              "  </div>\n",
              "  "
            ]
          },
          "metadata": {},
          "execution_count": 73
        }
      ]
    },
    {
      "cell_type": "markdown",
      "source": [
        "Our Random Forest model is displaying a decent performance on our train and test dataset after using GridSearchCV. It has an accuracy score of 73% on the train set and 71% on the test set."
      ],
      "metadata": {
        "id": "GXcu6JVKzUX5"
      }
    },
    {
      "cell_type": "markdown",
      "source": [
        "### ML Model - 3\n",
        "**XGB Classifier**"
      ],
      "metadata": {
        "id": "Fze-IPXLpx6K"
      }
    },
    {
      "cell_type": "markdown",
      "source": [
        "XGBoost(Extreme Gradient Boosting) is a decision-tree based Ensemble Machine Learning technique which uses a Gradient Boosting framework. Here, we create decision trees in such a way that the newly created tree depends upon the information obtained from previous tree, meaning that the trees are sequential and dependent upon each other."
      ],
      "metadata": {
        "id": "dMO9_UL03RMz"
      }
    },
    {
      "cell_type": "code",
      "source": [
        "# XG Boost Classifier Model\n",
        "\n",
        "# Applying the model\n",
        "xgb = XGBClassifier(max_depth = 5, learning_rate = 0.1)\n",
        "xgb.fit(X_train, y_train)\n",
        "XGBClassifier(max_depth=5, objective='multi:softprob')"
      ],
      "metadata": {
        "id": "FFrSXAtrpx6M",
        "colab": {
          "base_uri": "https://localhost:8080/",
          "height": 248
        },
        "outputId": "4db2571b-75be-4e7a-b5ab-62099a72cbdf"
      },
      "execution_count": null,
      "outputs": [
        {
          "output_type": "execute_result",
          "data": {
            "text/plain": [
              "XGBClassifier(base_score=None, booster=None, callbacks=None,\n",
              "              colsample_bylevel=None, colsample_bynode=None,\n",
              "              colsample_bytree=None, early_stopping_rounds=None,\n",
              "              enable_categorical=False, eval_metric=None, feature_types=None,\n",
              "              gamma=None, gpu_id=None, grow_policy=None, importance_type=None,\n",
              "              interaction_constraints=None, learning_rate=None, max_bin=None,\n",
              "              max_cat_threshold=None, max_cat_to_onehot=None,\n",
              "              max_delta_step=None, max_depth=5, max_leaves=None,\n",
              "              min_child_weight=None, missing=nan, monotone_constraints=None,\n",
              "              n_estimators=100, n_jobs=None, num_parallel_tree=None,\n",
              "              objective='multi:softprob', predictor=None, ...)"
            ],
            "text/html": [
              "<style>#sk-container-id-6 {color: black;background-color: white;}#sk-container-id-6 pre{padding: 0;}#sk-container-id-6 div.sk-toggleable {background-color: white;}#sk-container-id-6 label.sk-toggleable__label {cursor: pointer;display: block;width: 100%;margin-bottom: 0;padding: 0.3em;box-sizing: border-box;text-align: center;}#sk-container-id-6 label.sk-toggleable__label-arrow:before {content: \"▸\";float: left;margin-right: 0.25em;color: #696969;}#sk-container-id-6 label.sk-toggleable__label-arrow:hover:before {color: black;}#sk-container-id-6 div.sk-estimator:hover label.sk-toggleable__label-arrow:before {color: black;}#sk-container-id-6 div.sk-toggleable__content {max-height: 0;max-width: 0;overflow: hidden;text-align: left;background-color: #f0f8ff;}#sk-container-id-6 div.sk-toggleable__content pre {margin: 0.2em;color: black;border-radius: 0.25em;background-color: #f0f8ff;}#sk-container-id-6 input.sk-toggleable__control:checked~div.sk-toggleable__content {max-height: 200px;max-width: 100%;overflow: auto;}#sk-container-id-6 input.sk-toggleable__control:checked~label.sk-toggleable__label-arrow:before {content: \"▾\";}#sk-container-id-6 div.sk-estimator input.sk-toggleable__control:checked~label.sk-toggleable__label {background-color: #d4ebff;}#sk-container-id-6 div.sk-label input.sk-toggleable__control:checked~label.sk-toggleable__label {background-color: #d4ebff;}#sk-container-id-6 input.sk-hidden--visually {border: 0;clip: rect(1px 1px 1px 1px);clip: rect(1px, 1px, 1px, 1px);height: 1px;margin: -1px;overflow: hidden;padding: 0;position: absolute;width: 1px;}#sk-container-id-6 div.sk-estimator {font-family: monospace;background-color: #f0f8ff;border: 1px dotted black;border-radius: 0.25em;box-sizing: border-box;margin-bottom: 0.5em;}#sk-container-id-6 div.sk-estimator:hover {background-color: #d4ebff;}#sk-container-id-6 div.sk-parallel-item::after {content: \"\";width: 100%;border-bottom: 1px solid gray;flex-grow: 1;}#sk-container-id-6 div.sk-label:hover label.sk-toggleable__label {background-color: #d4ebff;}#sk-container-id-6 div.sk-serial::before {content: \"\";position: absolute;border-left: 1px solid gray;box-sizing: border-box;top: 0;bottom: 0;left: 50%;z-index: 0;}#sk-container-id-6 div.sk-serial {display: flex;flex-direction: column;align-items: center;background-color: white;padding-right: 0.2em;padding-left: 0.2em;position: relative;}#sk-container-id-6 div.sk-item {position: relative;z-index: 1;}#sk-container-id-6 div.sk-parallel {display: flex;align-items: stretch;justify-content: center;background-color: white;position: relative;}#sk-container-id-6 div.sk-item::before, #sk-container-id-6 div.sk-parallel-item::before {content: \"\";position: absolute;border-left: 1px solid gray;box-sizing: border-box;top: 0;bottom: 0;left: 50%;z-index: -1;}#sk-container-id-6 div.sk-parallel-item {display: flex;flex-direction: column;z-index: 1;position: relative;background-color: white;}#sk-container-id-6 div.sk-parallel-item:first-child::after {align-self: flex-end;width: 50%;}#sk-container-id-6 div.sk-parallel-item:last-child::after {align-self: flex-start;width: 50%;}#sk-container-id-6 div.sk-parallel-item:only-child::after {width: 0;}#sk-container-id-6 div.sk-dashed-wrapped {border: 1px dashed gray;margin: 0 0.4em 0.5em 0.4em;box-sizing: border-box;padding-bottom: 0.4em;background-color: white;}#sk-container-id-6 div.sk-label label {font-family: monospace;font-weight: bold;display: inline-block;line-height: 1.2em;}#sk-container-id-6 div.sk-label-container {text-align: center;}#sk-container-id-6 div.sk-container {/* jupyter's `normalize.less` sets `[hidden] { display: none; }` but bootstrap.min.css set `[hidden] { display: none !important; }` so we also need the `!important` here to be able to override the default hidden behavior on the sphinx rendered scikit-learn.org. See: https://github.com/scikit-learn/scikit-learn/issues/21755 */display: inline-block !important;position: relative;}#sk-container-id-6 div.sk-text-repr-fallback {display: none;}</style><div id=\"sk-container-id-6\" class=\"sk-top-container\"><div class=\"sk-text-repr-fallback\"><pre>XGBClassifier(base_score=None, booster=None, callbacks=None,\n",
              "              colsample_bylevel=None, colsample_bynode=None,\n",
              "              colsample_bytree=None, early_stopping_rounds=None,\n",
              "              enable_categorical=False, eval_metric=None, feature_types=None,\n",
              "              gamma=None, gpu_id=None, grow_policy=None, importance_type=None,\n",
              "              interaction_constraints=None, learning_rate=None, max_bin=None,\n",
              "              max_cat_threshold=None, max_cat_to_onehot=None,\n",
              "              max_delta_step=None, max_depth=5, max_leaves=None,\n",
              "              min_child_weight=None, missing=nan, monotone_constraints=None,\n",
              "              n_estimators=100, n_jobs=None, num_parallel_tree=None,\n",
              "              objective=&#x27;multi:softprob&#x27;, predictor=None, ...)</pre><b>In a Jupyter environment, please rerun this cell to show the HTML representation or trust the notebook. <br />On GitHub, the HTML representation is unable to render, please try loading this page with nbviewer.org.</b></div><div class=\"sk-container\" hidden><div class=\"sk-item\"><div class=\"sk-estimator sk-toggleable\"><input class=\"sk-toggleable__control sk-hidden--visually\" id=\"sk-estimator-id-8\" type=\"checkbox\" checked><label for=\"sk-estimator-id-8\" class=\"sk-toggleable__label sk-toggleable__label-arrow\">XGBClassifier</label><div class=\"sk-toggleable__content\"><pre>XGBClassifier(base_score=None, booster=None, callbacks=None,\n",
              "              colsample_bylevel=None, colsample_bynode=None,\n",
              "              colsample_bytree=None, early_stopping_rounds=None,\n",
              "              enable_categorical=False, eval_metric=None, feature_types=None,\n",
              "              gamma=None, gpu_id=None, grow_policy=None, importance_type=None,\n",
              "              interaction_constraints=None, learning_rate=None, max_bin=None,\n",
              "              max_cat_threshold=None, max_cat_to_onehot=None,\n",
              "              max_delta_step=None, max_depth=5, max_leaves=None,\n",
              "              min_child_weight=None, missing=nan, monotone_constraints=None,\n",
              "              n_estimators=100, n_jobs=None, num_parallel_tree=None,\n",
              "              objective=&#x27;multi:softprob&#x27;, predictor=None, ...)</pre></div></div></div></div></div>"
            ]
          },
          "metadata": {},
          "execution_count": 74
        }
      ]
    },
    {
      "cell_type": "code",
      "source": [
        "# Prediction\n",
        "y_pred_train = xgb.predict(X_train)\n",
        "y_pred_test = xgb.predict(X_test)"
      ],
      "metadata": {
        "id": "JjdmUqTRxLKx"
      },
      "execution_count": null,
      "outputs": []
    },
    {
      "cell_type": "markdown",
      "source": [
        "#### 1. Evaluation metric Score Chart."
      ],
      "metadata": {
        "id": "7AN1z2sKpx6M"
      }
    },
    {
      "cell_type": "markdown",
      "source": [
        "Let us now observe the metrics and evaluate our model's performance without hyperparameter tuning."
      ],
      "metadata": {
        "id": "LifrSjwW3cRc"
      }
    },
    {
      "cell_type": "code",
      "source": [
        "# Evaluation metrics for train\n",
        "\n",
        "score = classification_report(y_train, y_pred_train)\n",
        "print('Classification Report for XGBoost(Train set)= \\n')\n",
        "print(score)"
      ],
      "metadata": {
        "id": "xIY4lxxGpx6M",
        "colab": {
          "base_uri": "https://localhost:8080/"
        },
        "outputId": "c874717e-8370-43bb-edf6-5179aa513026"
      },
      "execution_count": null,
      "outputs": [
        {
          "output_type": "stream",
          "name": "stdout",
          "text": [
            "Classification Report for XGBoost(Train set)= \n",
            "\n",
            "              precision    recall  f1-score   support\n",
            "\n",
            "           0       0.80      1.00      0.89      3115\n",
            "           1       0.75      0.96      0.84      7912\n",
            "           2       0.72      0.59      0.65      4722\n",
            "           3       0.71      0.18      0.28      2290\n",
            "           4       0.74      0.32      0.45       809\n",
            "\n",
            "    accuracy                           0.75     18848\n",
            "   macro avg       0.74      0.61      0.62     18848\n",
            "weighted avg       0.74      0.75      0.71     18848\n",
            "\n"
          ]
        }
      ]
    },
    {
      "cell_type": "code",
      "source": [
        "# Evaluation metrics for test\n",
        "\n",
        "score = classification_report(y_test, y_pred_test)\n",
        "print('Classification Report for XGBoost(Test set)= \\n')\n",
        "print(score)"
      ],
      "metadata": {
        "colab": {
          "base_uri": "https://localhost:8080/"
        },
        "id": "HMaagsulxlsq",
        "outputId": "550afc9c-a5dd-41a0-afbc-7d47700c1ca8"
      },
      "execution_count": null,
      "outputs": [
        {
          "output_type": "stream",
          "name": "stdout",
          "text": [
            "Classification Report for XGBoost(Test set)= \n",
            "\n",
            "              precision    recall  f1-score   support\n",
            "\n",
            "           0       0.80      0.99      0.88       794\n",
            "           1       0.73      0.94      0.82      1951\n",
            "           2       0.66      0.55      0.60      1187\n",
            "           3       0.55      0.12      0.20       590\n",
            "           4       0.55      0.22      0.31       191\n",
            "\n",
            "    accuracy                           0.72      4713\n",
            "   macro avg       0.66      0.57      0.56      4713\n",
            "weighted avg       0.69      0.72      0.68      4713\n",
            "\n"
          ]
        }
      ]
    },
    {
      "cell_type": "markdown",
      "source": [
        "Our model shows good performance on both test and train sets. Let us now apply hyperparameter tuning using Randomized Search CV and observe its performance."
      ],
      "metadata": {
        "id": "YDnc9bUa3qhb"
      }
    },
    {
      "cell_type": "markdown",
      "source": [
        "#### 2. Cross- Validation & Hyperparameter Tuning"
      ],
      "metadata": {
        "id": "9PIHJqyupx6M"
      }
    },
    {
      "cell_type": "markdown",
      "source": [
        "We will use RandomizedSearchCV for hyperparameter optimization. It basically works with various parameters internally and finds out the best parameters that XGBoost algorithm can work better with."
      ],
      "metadata": {
        "id": "SaAa85tk36JO"
      }
    },
    {
      "cell_type": "code",
      "source": [
        "# using randomSearchCV\n",
        "# set hyperparameters to search over\n",
        "params = {\n",
        "    'learning_rate': [0.01, 0.1, 0.5],\n",
        "    'max_depth': [3, 5, 7],\n",
        "    'n_estimators': [50, 100, 200]\n",
        "}\n",
        "\n",
        "# initialize XGBoost classifier\n",
        "xgb_clf = XGBClassifier()\n",
        "\n",
        "# perform randomized search over hyperparameters\n",
        "rand_search = RandomizedSearchCV(xgb_clf, param_distributions=params, n_iter=5, cv=5, random_state=42)\n",
        "rand_search.fit(X_train, y_train)"
      ],
      "metadata": {
        "id": "eSVXuaSKpx6M",
        "colab": {
          "base_uri": "https://localhost:8080/",
          "height": 116
        },
        "outputId": "c1012fd8-d01c-4fa4-c456-b82a183bc4fc"
      },
      "execution_count": null,
      "outputs": [
        {
          "output_type": "execute_result",
          "data": {
            "text/plain": [
              "RandomizedSearchCV(cv=5,\n",
              "                   estimator=XGBClassifier(base_score=None, booster=None,\n",
              "                                           callbacks=None,\n",
              "                                           colsample_bylevel=None,\n",
              "                                           colsample_bynode=None,\n",
              "                                           colsample_bytree=None,\n",
              "                                           early_stopping_rounds=None,\n",
              "                                           enable_categorical=False,\n",
              "                                           eval_metric=None, feature_types=None,\n",
              "                                           gamma=None, gpu_id=None,\n",
              "                                           grow_policy=None,\n",
              "                                           importance_type=None,\n",
              "                                           interaction_constraints=None,\n",
              "                                           learning_rate...\n",
              "                                           max_cat_to_onehot=None,\n",
              "                                           max_delta_step=None, max_depth=None,\n",
              "                                           max_leaves=None,\n",
              "                                           min_child_weight=None, missing=nan,\n",
              "                                           monotone_constraints=None,\n",
              "                                           n_estimators=100, n_jobs=None,\n",
              "                                           num_parallel_tree=None,\n",
              "                                           predictor=None, random_state=None, ...),\n",
              "                   n_iter=5,\n",
              "                   param_distributions={'learning_rate': [0.01, 0.1, 0.5],\n",
              "                                        'max_depth': [3, 5, 7],\n",
              "                                        'n_estimators': [50, 100, 200]},\n",
              "                   random_state=42)"
            ],
            "text/html": [
              "<style>#sk-container-id-7 {color: black;background-color: white;}#sk-container-id-7 pre{padding: 0;}#sk-container-id-7 div.sk-toggleable {background-color: white;}#sk-container-id-7 label.sk-toggleable__label {cursor: pointer;display: block;width: 100%;margin-bottom: 0;padding: 0.3em;box-sizing: border-box;text-align: center;}#sk-container-id-7 label.sk-toggleable__label-arrow:before {content: \"▸\";float: left;margin-right: 0.25em;color: #696969;}#sk-container-id-7 label.sk-toggleable__label-arrow:hover:before {color: black;}#sk-container-id-7 div.sk-estimator:hover label.sk-toggleable__label-arrow:before {color: black;}#sk-container-id-7 div.sk-toggleable__content {max-height: 0;max-width: 0;overflow: hidden;text-align: left;background-color: #f0f8ff;}#sk-container-id-7 div.sk-toggleable__content pre {margin: 0.2em;color: black;border-radius: 0.25em;background-color: #f0f8ff;}#sk-container-id-7 input.sk-toggleable__control:checked~div.sk-toggleable__content {max-height: 200px;max-width: 100%;overflow: auto;}#sk-container-id-7 input.sk-toggleable__control:checked~label.sk-toggleable__label-arrow:before {content: \"▾\";}#sk-container-id-7 div.sk-estimator input.sk-toggleable__control:checked~label.sk-toggleable__label {background-color: #d4ebff;}#sk-container-id-7 div.sk-label input.sk-toggleable__control:checked~label.sk-toggleable__label {background-color: #d4ebff;}#sk-container-id-7 input.sk-hidden--visually {border: 0;clip: rect(1px 1px 1px 1px);clip: rect(1px, 1px, 1px, 1px);height: 1px;margin: -1px;overflow: hidden;padding: 0;position: absolute;width: 1px;}#sk-container-id-7 div.sk-estimator {font-family: monospace;background-color: #f0f8ff;border: 1px dotted black;border-radius: 0.25em;box-sizing: border-box;margin-bottom: 0.5em;}#sk-container-id-7 div.sk-estimator:hover {background-color: #d4ebff;}#sk-container-id-7 div.sk-parallel-item::after {content: \"\";width: 100%;border-bottom: 1px solid gray;flex-grow: 1;}#sk-container-id-7 div.sk-label:hover label.sk-toggleable__label {background-color: #d4ebff;}#sk-container-id-7 div.sk-serial::before {content: \"\";position: absolute;border-left: 1px solid gray;box-sizing: border-box;top: 0;bottom: 0;left: 50%;z-index: 0;}#sk-container-id-7 div.sk-serial {display: flex;flex-direction: column;align-items: center;background-color: white;padding-right: 0.2em;padding-left: 0.2em;position: relative;}#sk-container-id-7 div.sk-item {position: relative;z-index: 1;}#sk-container-id-7 div.sk-parallel {display: flex;align-items: stretch;justify-content: center;background-color: white;position: relative;}#sk-container-id-7 div.sk-item::before, #sk-container-id-7 div.sk-parallel-item::before {content: \"\";position: absolute;border-left: 1px solid gray;box-sizing: border-box;top: 0;bottom: 0;left: 50%;z-index: -1;}#sk-container-id-7 div.sk-parallel-item {display: flex;flex-direction: column;z-index: 1;position: relative;background-color: white;}#sk-container-id-7 div.sk-parallel-item:first-child::after {align-self: flex-end;width: 50%;}#sk-container-id-7 div.sk-parallel-item:last-child::after {align-self: flex-start;width: 50%;}#sk-container-id-7 div.sk-parallel-item:only-child::after {width: 0;}#sk-container-id-7 div.sk-dashed-wrapped {border: 1px dashed gray;margin: 0 0.4em 0.5em 0.4em;box-sizing: border-box;padding-bottom: 0.4em;background-color: white;}#sk-container-id-7 div.sk-label label {font-family: monospace;font-weight: bold;display: inline-block;line-height: 1.2em;}#sk-container-id-7 div.sk-label-container {text-align: center;}#sk-container-id-7 div.sk-container {/* jupyter's `normalize.less` sets `[hidden] { display: none; }` but bootstrap.min.css set `[hidden] { display: none !important; }` so we also need the `!important` here to be able to override the default hidden behavior on the sphinx rendered scikit-learn.org. See: https://github.com/scikit-learn/scikit-learn/issues/21755 */display: inline-block !important;position: relative;}#sk-container-id-7 div.sk-text-repr-fallback {display: none;}</style><div id=\"sk-container-id-7\" class=\"sk-top-container\"><div class=\"sk-text-repr-fallback\"><pre>RandomizedSearchCV(cv=5,\n",
              "                   estimator=XGBClassifier(base_score=None, booster=None,\n",
              "                                           callbacks=None,\n",
              "                                           colsample_bylevel=None,\n",
              "                                           colsample_bynode=None,\n",
              "                                           colsample_bytree=None,\n",
              "                                           early_stopping_rounds=None,\n",
              "                                           enable_categorical=False,\n",
              "                                           eval_metric=None, feature_types=None,\n",
              "                                           gamma=None, gpu_id=None,\n",
              "                                           grow_policy=None,\n",
              "                                           importance_type=None,\n",
              "                                           interaction_constraints=None,\n",
              "                                           learning_rate...\n",
              "                                           max_cat_to_onehot=None,\n",
              "                                           max_delta_step=None, max_depth=None,\n",
              "                                           max_leaves=None,\n",
              "                                           min_child_weight=None, missing=nan,\n",
              "                                           monotone_constraints=None,\n",
              "                                           n_estimators=100, n_jobs=None,\n",
              "                                           num_parallel_tree=None,\n",
              "                                           predictor=None, random_state=None, ...),\n",
              "                   n_iter=5,\n",
              "                   param_distributions={&#x27;learning_rate&#x27;: [0.01, 0.1, 0.5],\n",
              "                                        &#x27;max_depth&#x27;: [3, 5, 7],\n",
              "                                        &#x27;n_estimators&#x27;: [50, 100, 200]},\n",
              "                   random_state=42)</pre><b>In a Jupyter environment, please rerun this cell to show the HTML representation or trust the notebook. <br />On GitHub, the HTML representation is unable to render, please try loading this page with nbviewer.org.</b></div><div class=\"sk-container\" hidden><div class=\"sk-item sk-dashed-wrapped\"><div class=\"sk-label-container\"><div class=\"sk-label sk-toggleable\"><input class=\"sk-toggleable__control sk-hidden--visually\" id=\"sk-estimator-id-9\" type=\"checkbox\" ><label for=\"sk-estimator-id-9\" class=\"sk-toggleable__label sk-toggleable__label-arrow\">RandomizedSearchCV</label><div class=\"sk-toggleable__content\"><pre>RandomizedSearchCV(cv=5,\n",
              "                   estimator=XGBClassifier(base_score=None, booster=None,\n",
              "                                           callbacks=None,\n",
              "                                           colsample_bylevel=None,\n",
              "                                           colsample_bynode=None,\n",
              "                                           colsample_bytree=None,\n",
              "                                           early_stopping_rounds=None,\n",
              "                                           enable_categorical=False,\n",
              "                                           eval_metric=None, feature_types=None,\n",
              "                                           gamma=None, gpu_id=None,\n",
              "                                           grow_policy=None,\n",
              "                                           importance_type=None,\n",
              "                                           interaction_constraints=None,\n",
              "                                           learning_rate...\n",
              "                                           max_cat_to_onehot=None,\n",
              "                                           max_delta_step=None, max_depth=None,\n",
              "                                           max_leaves=None,\n",
              "                                           min_child_weight=None, missing=nan,\n",
              "                                           monotone_constraints=None,\n",
              "                                           n_estimators=100, n_jobs=None,\n",
              "                                           num_parallel_tree=None,\n",
              "                                           predictor=None, random_state=None, ...),\n",
              "                   n_iter=5,\n",
              "                   param_distributions={&#x27;learning_rate&#x27;: [0.01, 0.1, 0.5],\n",
              "                                        &#x27;max_depth&#x27;: [3, 5, 7],\n",
              "                                        &#x27;n_estimators&#x27;: [50, 100, 200]},\n",
              "                   random_state=42)</pre></div></div></div><div class=\"sk-parallel\"><div class=\"sk-parallel-item\"><div class=\"sk-item\"><div class=\"sk-label-container\"><div class=\"sk-label sk-toggleable\"><input class=\"sk-toggleable__control sk-hidden--visually\" id=\"sk-estimator-id-10\" type=\"checkbox\" ><label for=\"sk-estimator-id-10\" class=\"sk-toggleable__label sk-toggleable__label-arrow\">estimator: XGBClassifier</label><div class=\"sk-toggleable__content\"><pre>XGBClassifier(base_score=None, booster=None, callbacks=None,\n",
              "              colsample_bylevel=None, colsample_bynode=None,\n",
              "              colsample_bytree=None, early_stopping_rounds=None,\n",
              "              enable_categorical=False, eval_metric=None, feature_types=None,\n",
              "              gamma=None, gpu_id=None, grow_policy=None, importance_type=None,\n",
              "              interaction_constraints=None, learning_rate=None, max_bin=None,\n",
              "              max_cat_threshold=None, max_cat_to_onehot=None,\n",
              "              max_delta_step=None, max_depth=None, max_leaves=None,\n",
              "              min_child_weight=None, missing=nan, monotone_constraints=None,\n",
              "              n_estimators=100, n_jobs=None, num_parallel_tree=None,\n",
              "              predictor=None, random_state=None, ...)</pre></div></div></div><div class=\"sk-serial\"><div class=\"sk-item\"><div class=\"sk-estimator sk-toggleable\"><input class=\"sk-toggleable__control sk-hidden--visually\" id=\"sk-estimator-id-11\" type=\"checkbox\" ><label for=\"sk-estimator-id-11\" class=\"sk-toggleable__label sk-toggleable__label-arrow\">XGBClassifier</label><div class=\"sk-toggleable__content\"><pre>XGBClassifier(base_score=None, booster=None, callbacks=None,\n",
              "              colsample_bylevel=None, colsample_bynode=None,\n",
              "              colsample_bytree=None, early_stopping_rounds=None,\n",
              "              enable_categorical=False, eval_metric=None, feature_types=None,\n",
              "              gamma=None, gpu_id=None, grow_policy=None, importance_type=None,\n",
              "              interaction_constraints=None, learning_rate=None, max_bin=None,\n",
              "              max_cat_threshold=None, max_cat_to_onehot=None,\n",
              "              max_delta_step=None, max_depth=None, max_leaves=None,\n",
              "              min_child_weight=None, missing=nan, monotone_constraints=None,\n",
              "              n_estimators=100, n_jobs=None, num_parallel_tree=None,\n",
              "              predictor=None, random_state=None, ...)</pre></div></div></div></div></div></div></div></div></div></div>"
            ]
          },
          "metadata": {},
          "execution_count": 78
        }
      ]
    },
    {
      "cell_type": "code",
      "source": [
        "# print best hyperparameters\n",
        "print(\"Best hyperparameters:\", rand_search.best_params_)"
      ],
      "metadata": {
        "colab": {
          "base_uri": "https://localhost:8080/"
        },
        "id": "xblgDHGtx3bB",
        "outputId": "9c2498eb-79cf-4823-e4f1-3fc20e407829"
      },
      "execution_count": null,
      "outputs": [
        {
          "output_type": "stream",
          "name": "stdout",
          "text": [
            "Best hyperparameters: {'n_estimators': 100, 'max_depth': 5, 'learning_rate': 0.1}\n"
          ]
        }
      ]
    },
    {
      "cell_type": "code",
      "source": [
        "# print best score\n",
        "print(\"Best hyperparameters:\", rand_search.best_score_)"
      ],
      "metadata": {
        "colab": {
          "base_uri": "https://localhost:8080/"
        },
        "id": "DoZw8qUQx3Dl",
        "outputId": "6a6861d1-fb7d-4a40-a056-5f24fab8ccba"
      },
      "execution_count": null,
      "outputs": [
        {
          "output_type": "stream",
          "name": "stdout",
          "text": [
            "Best hyperparameters: 0.7296263881039866\n"
          ]
        }
      ]
    },
    {
      "cell_type": "markdown",
      "source": [
        "Next, we call the RandomizedSearchCV() and pass the best parameters from the CV to train the model."
      ],
      "metadata": {
        "id": "oElFCSoq4Dnr"
      }
    },
    {
      "cell_type": "code",
      "source": [
        "# train model on full training data with best hyperparameters\n",
        "\n",
        "xgb_clf = XGBClassifier(**rand_search.best_params_)\n",
        "xgb_clf.fit(X_train, y_train)"
      ],
      "metadata": {
        "colab": {
          "base_uri": "https://localhost:8080/",
          "height": 248
        },
        "id": "5xWvjd98x2ud",
        "outputId": "f469c43a-7425-4bdc-9136-b704df63b92c"
      },
      "execution_count": null,
      "outputs": [
        {
          "output_type": "execute_result",
          "data": {
            "text/plain": [
              "XGBClassifier(base_score=None, booster=None, callbacks=None,\n",
              "              colsample_bylevel=None, colsample_bynode=None,\n",
              "              colsample_bytree=None, early_stopping_rounds=None,\n",
              "              enable_categorical=False, eval_metric=None, feature_types=None,\n",
              "              gamma=None, gpu_id=None, grow_policy=None, importance_type=None,\n",
              "              interaction_constraints=None, learning_rate=0.1, max_bin=None,\n",
              "              max_cat_threshold=None, max_cat_to_onehot=None,\n",
              "              max_delta_step=None, max_depth=5, max_leaves=None,\n",
              "              min_child_weight=None, missing=nan, monotone_constraints=None,\n",
              "              n_estimators=100, n_jobs=None, num_parallel_tree=None,\n",
              "              objective='multi:softprob', predictor=None, ...)"
            ],
            "text/html": [
              "<style>#sk-container-id-8 {color: black;background-color: white;}#sk-container-id-8 pre{padding: 0;}#sk-container-id-8 div.sk-toggleable {background-color: white;}#sk-container-id-8 label.sk-toggleable__label {cursor: pointer;display: block;width: 100%;margin-bottom: 0;padding: 0.3em;box-sizing: border-box;text-align: center;}#sk-container-id-8 label.sk-toggleable__label-arrow:before {content: \"▸\";float: left;margin-right: 0.25em;color: #696969;}#sk-container-id-8 label.sk-toggleable__label-arrow:hover:before {color: black;}#sk-container-id-8 div.sk-estimator:hover label.sk-toggleable__label-arrow:before {color: black;}#sk-container-id-8 div.sk-toggleable__content {max-height: 0;max-width: 0;overflow: hidden;text-align: left;background-color: #f0f8ff;}#sk-container-id-8 div.sk-toggleable__content pre {margin: 0.2em;color: black;border-radius: 0.25em;background-color: #f0f8ff;}#sk-container-id-8 input.sk-toggleable__control:checked~div.sk-toggleable__content {max-height: 200px;max-width: 100%;overflow: auto;}#sk-container-id-8 input.sk-toggleable__control:checked~label.sk-toggleable__label-arrow:before {content: \"▾\";}#sk-container-id-8 div.sk-estimator input.sk-toggleable__control:checked~label.sk-toggleable__label {background-color: #d4ebff;}#sk-container-id-8 div.sk-label input.sk-toggleable__control:checked~label.sk-toggleable__label {background-color: #d4ebff;}#sk-container-id-8 input.sk-hidden--visually {border: 0;clip: rect(1px 1px 1px 1px);clip: rect(1px, 1px, 1px, 1px);height: 1px;margin: -1px;overflow: hidden;padding: 0;position: absolute;width: 1px;}#sk-container-id-8 div.sk-estimator {font-family: monospace;background-color: #f0f8ff;border: 1px dotted black;border-radius: 0.25em;box-sizing: border-box;margin-bottom: 0.5em;}#sk-container-id-8 div.sk-estimator:hover {background-color: #d4ebff;}#sk-container-id-8 div.sk-parallel-item::after {content: \"\";width: 100%;border-bottom: 1px solid gray;flex-grow: 1;}#sk-container-id-8 div.sk-label:hover label.sk-toggleable__label {background-color: #d4ebff;}#sk-container-id-8 div.sk-serial::before {content: \"\";position: absolute;border-left: 1px solid gray;box-sizing: border-box;top: 0;bottom: 0;left: 50%;z-index: 0;}#sk-container-id-8 div.sk-serial {display: flex;flex-direction: column;align-items: center;background-color: white;padding-right: 0.2em;padding-left: 0.2em;position: relative;}#sk-container-id-8 div.sk-item {position: relative;z-index: 1;}#sk-container-id-8 div.sk-parallel {display: flex;align-items: stretch;justify-content: center;background-color: white;position: relative;}#sk-container-id-8 div.sk-item::before, #sk-container-id-8 div.sk-parallel-item::before {content: \"\";position: absolute;border-left: 1px solid gray;box-sizing: border-box;top: 0;bottom: 0;left: 50%;z-index: -1;}#sk-container-id-8 div.sk-parallel-item {display: flex;flex-direction: column;z-index: 1;position: relative;background-color: white;}#sk-container-id-8 div.sk-parallel-item:first-child::after {align-self: flex-end;width: 50%;}#sk-container-id-8 div.sk-parallel-item:last-child::after {align-self: flex-start;width: 50%;}#sk-container-id-8 div.sk-parallel-item:only-child::after {width: 0;}#sk-container-id-8 div.sk-dashed-wrapped {border: 1px dashed gray;margin: 0 0.4em 0.5em 0.4em;box-sizing: border-box;padding-bottom: 0.4em;background-color: white;}#sk-container-id-8 div.sk-label label {font-family: monospace;font-weight: bold;display: inline-block;line-height: 1.2em;}#sk-container-id-8 div.sk-label-container {text-align: center;}#sk-container-id-8 div.sk-container {/* jupyter's `normalize.less` sets `[hidden] { display: none; }` but bootstrap.min.css set `[hidden] { display: none !important; }` so we also need the `!important` here to be able to override the default hidden behavior on the sphinx rendered scikit-learn.org. See: https://github.com/scikit-learn/scikit-learn/issues/21755 */display: inline-block !important;position: relative;}#sk-container-id-8 div.sk-text-repr-fallback {display: none;}</style><div id=\"sk-container-id-8\" class=\"sk-top-container\"><div class=\"sk-text-repr-fallback\"><pre>XGBClassifier(base_score=None, booster=None, callbacks=None,\n",
              "              colsample_bylevel=None, colsample_bynode=None,\n",
              "              colsample_bytree=None, early_stopping_rounds=None,\n",
              "              enable_categorical=False, eval_metric=None, feature_types=None,\n",
              "              gamma=None, gpu_id=None, grow_policy=None, importance_type=None,\n",
              "              interaction_constraints=None, learning_rate=0.1, max_bin=None,\n",
              "              max_cat_threshold=None, max_cat_to_onehot=None,\n",
              "              max_delta_step=None, max_depth=5, max_leaves=None,\n",
              "              min_child_weight=None, missing=nan, monotone_constraints=None,\n",
              "              n_estimators=100, n_jobs=None, num_parallel_tree=None,\n",
              "              objective=&#x27;multi:softprob&#x27;, predictor=None, ...)</pre><b>In a Jupyter environment, please rerun this cell to show the HTML representation or trust the notebook. <br />On GitHub, the HTML representation is unable to render, please try loading this page with nbviewer.org.</b></div><div class=\"sk-container\" hidden><div class=\"sk-item\"><div class=\"sk-estimator sk-toggleable\"><input class=\"sk-toggleable__control sk-hidden--visually\" id=\"sk-estimator-id-12\" type=\"checkbox\" checked><label for=\"sk-estimator-id-12\" class=\"sk-toggleable__label sk-toggleable__label-arrow\">XGBClassifier</label><div class=\"sk-toggleable__content\"><pre>XGBClassifier(base_score=None, booster=None, callbacks=None,\n",
              "              colsample_bylevel=None, colsample_bynode=None,\n",
              "              colsample_bytree=None, early_stopping_rounds=None,\n",
              "              enable_categorical=False, eval_metric=None, feature_types=None,\n",
              "              gamma=None, gpu_id=None, grow_policy=None, importance_type=None,\n",
              "              interaction_constraints=None, learning_rate=0.1, max_bin=None,\n",
              "              max_cat_threshold=None, max_cat_to_onehot=None,\n",
              "              max_delta_step=None, max_depth=5, max_leaves=None,\n",
              "              min_child_weight=None, missing=nan, monotone_constraints=None,\n",
              "              n_estimators=100, n_jobs=None, num_parallel_tree=None,\n",
              "              objective=&#x27;multi:softprob&#x27;, predictor=None, ...)</pre></div></div></div></div></div>"
            ]
          },
          "metadata": {},
          "execution_count": 81
        }
      ]
    },
    {
      "cell_type": "code",
      "source": [
        "# predict on training data\n",
        "y_pred_train = xgb_clf.predict(X_train)\n",
        "\n",
        "# print classification report for training data\n",
        "print(\"Classification report for training data:\")\n",
        "print(classification_report(y_train, y_pred_train))"
      ],
      "metadata": {
        "colab": {
          "base_uri": "https://localhost:8080/"
        },
        "id": "SzgxYeo5yDtW",
        "outputId": "f2c0ac24-5b5c-4de0-ddcb-a616b5bca6c5"
      },
      "execution_count": null,
      "outputs": [
        {
          "output_type": "stream",
          "name": "stdout",
          "text": [
            "Classification report for training data:\n",
            "              precision    recall  f1-score   support\n",
            "\n",
            "           0       0.80      1.00      0.89      3115\n",
            "           1       0.75      0.96      0.84      7912\n",
            "           2       0.72      0.59      0.65      4722\n",
            "           3       0.71      0.18      0.28      2290\n",
            "           4       0.74      0.32      0.45       809\n",
            "\n",
            "    accuracy                           0.75     18848\n",
            "   macro avg       0.74      0.61      0.62     18848\n",
            "weighted avg       0.74      0.75      0.71     18848\n",
            "\n"
          ]
        }
      ]
    },
    {
      "cell_type": "code",
      "source": [
        "# predict on test data\n",
        "y_pred_test = xgb_clf.predict(X_test)"
      ],
      "metadata": {
        "id": "wdfZZVb5yEDZ"
      },
      "execution_count": null,
      "outputs": []
    },
    {
      "cell_type": "code",
      "source": [
        "# print classification report for test data\n",
        "print(\"Classification report for test data: \\n\")\n",
        "print(classification_report(y_test, y_pred_test))"
      ],
      "metadata": {
        "colab": {
          "base_uri": "https://localhost:8080/"
        },
        "id": "Em5cw5dzyDYm",
        "outputId": "e451be7d-1839-4293-878b-16ef9527b6d7"
      },
      "execution_count": null,
      "outputs": [
        {
          "output_type": "stream",
          "name": "stdout",
          "text": [
            "Classification report for test data: \n",
            "\n",
            "              precision    recall  f1-score   support\n",
            "\n",
            "           0       0.80      0.99      0.88       794\n",
            "           1       0.73      0.94      0.82      1951\n",
            "           2       0.66      0.55      0.60      1187\n",
            "           3       0.55      0.12      0.20       590\n",
            "           4       0.55      0.22      0.31       191\n",
            "\n",
            "    accuracy                           0.72      4713\n",
            "   macro avg       0.66      0.57      0.56      4713\n",
            "weighted avg       0.69      0.72      0.68      4713\n",
            "\n"
          ]
        }
      ]
    },
    {
      "cell_type": "code",
      "source": [
        "#Generate the confusion matrix\n",
        "cf_matrix = confusion_matrix(y_test, y_pred_test)\n",
        "\n",
        "print(cf_matrix)"
      ],
      "metadata": {
        "colab": {
          "base_uri": "https://localhost:8080/"
        },
        "id": "IUXlNaOFyDDw",
        "outputId": "1ea63e79-898b-4542-de3a-0a8de8a1ee6a"
      },
      "execution_count": null,
      "outputs": [
        {
          "output_type": "stream",
          "name": "stdout",
          "text": [
            "[[ 786    8    0    0    0]\n",
            " [  74 1843   21   12    1]\n",
            " [  61  409  657   40   20]\n",
            " [  57  220  228   71   14]\n",
            " [   9   43   90    7   42]]\n"
          ]
        }
      ]
    },
    {
      "cell_type": "markdown",
      "source": [
        "XGB Classifier model has an accuracy of 75% on the train set and 72% on the test set. This indicates that the model is able to accurately predict the customer category for the majority of the customers in our dataset. However, it also suggests that there may be some room for improvement in terms of the model's performance."
      ],
      "metadata": {
        "id": "M8nZiWJ-xIVr"
      }
    },
    {
      "cell_type": "markdown",
      "source": [
        "### SELECTED CLASSIFIER MODEL\n",
        "**XGB Classifier**"
      ],
      "metadata": {
        "id": "cBFFvTBNJzUa"
      }
    },
    {
      "cell_type": "markdown",
      "source": [
        "We utilized the **XGB Classifier model** as our final prediction model. XGB Classifier is an implementation of the gradient boosting decision tree algorithm, which is a machine learning technique used for classification and regression tasks. It is a popular and powerful algorithm that can handle a large amount of data and is capable of providing good accuracy.\n",
        "The XGB classifier model is considered a strong model because it is an optimized implementation of gradient boosting algorithm, which is a powerful machine learning technique for predictive modeling. XGB classifier is based on an ensemble of decision trees and it is designed to be highly scalable, accurate, and fast.\n",
        "\n",
        "The working of XGB classifier model can be summarized as follows:\n",
        "* It starts by building a decision tree with one node, which is the root node.\n",
        "* The tree is trained using a gradient descent algorithm to minimize a loss function, which measures the error between predicted and actual labels.\n",
        "* The loss function is calculated using a combination of different metrics such as mean squared error or log loss, depending on the problem at hand.\n",
        "* Once the first decision tree is built, the residuals (i.e., the differences between actual and predicted labels) are calculated and used as the target variable for the next tree in the ensemble.\n",
        "* The subsequent trees are trained using the same gradient descent algorithm, but with the added constraint that they must predict the residuals of the previous tree instead of the original labels.\n",
        "* The final prediction is obtained by summing the predictions of all the trees in the ensemble.\n",
        "\n",
        "Our XGB Classifier model displayed an accuracy of 75% on the train set and 72% on the test set, which was the highest among the chosen models. This indicates that the model was able to accurately predict the customer category for the majority of the customers in our dataset. However, it also suggests that there may be some room for improvement in terms of the model's performance.\n"
      ],
      "metadata": {
        "id": "6ksF5Q1LKTVm"
      }
    },
    {
      "cell_type": "markdown",
      "source": [
        "#### Saving into pickle file"
      ],
      "metadata": {
        "id": "nim37qEH0LQl"
      }
    },
    {
      "cell_type": "code",
      "source": [
        "model = XGBClassifier()\n",
        "\n",
        "params = {\n",
        "    'learning_rate': [0.01, 0.1, 0.5],\n",
        "    'max_depth': [3, 5, 7],\n",
        "    'n_estimators': [50, 100, 200]\n",
        "}\n",
        "\n",
        "mdl = RandomizedSearchCV(model, params, n_iter =5, cv=5, random_state = 42)\n",
        "mdl.fit(X_train, y_train)\n",
        "\n",
        "\n",
        "# Save the model to a file using pickle\n",
        "filename = 'xgbC_model.pkl'\n",
        "with open(filename, 'wb') as file:\n",
        "    pickle.dump(mdl, file)"
      ],
      "metadata": {
        "id": "Q4mr6FAg0PQz"
      },
      "execution_count": null,
      "outputs": []
    },
    {
      "cell_type": "markdown",
      "source": [
        "We have loaded our XGB Classifier model with Cross-validation using Random Search CV, and then performed fit operation.\n",
        "\n",
        "We then loaded the above model into a pickle file called 'xgbC_model', which will be later used to make predictions."
      ],
      "metadata": {
        "id": "VzuSzJNE0UwM"
      }
    },
    {
      "cell_type": "code",
      "source": [
        "# Load the File and predict unseen data.\n",
        "with open(filename, 'rb') as file:\n",
        "    mod = pickle.load(file)\n",
        "\n",
        "# Load some new data for prediction\n",
        "X_new = [[0.9     , 0.2       , 0.        , 0.41      , 0.4       ,\n",
        "       0.        , 0.        , 0.4       , 0.        , 0.        ]]\n",
        "\n",
        "\n",
        "# Predict the output for the new data using the loaded model\n",
        "prediction = mod.predict(X_new)\n",
        "\n",
        "print('Predicted Customer Category : \\n')\n",
        "print(prediction)"
      ],
      "metadata": {
        "id": "6IrhyaIU0UJK",
        "colab": {
          "base_uri": "https://localhost:8080/"
        },
        "outputId": "6ea0fd39-9748-4a4d-f5ee-5378b5839fe1"
      },
      "execution_count": null,
      "outputs": [
        {
          "output_type": "stream",
          "name": "stdout",
          "text": [
            "Predicted Customer Category : \n",
            "\n",
            "[2]\n"
          ]
        }
      ]
    },
    {
      "cell_type": "markdown",
      "source": [
        "We used the loaded pickle file to input the new X-values (independent variables) and the predict the respective Y-value."
      ],
      "metadata": {
        "id": "wD9o9u630c_6"
      }
    },
    {
      "cell_type": "markdown",
      "source": [
        "Here based on the input X (independent variables), our Model predicted the customer to be in the [2] category, i.e., **Medium Value Customer**."
      ],
      "metadata": {
        "id": "vrrVBfDDuqr8"
      }
    },
    {
      "cell_type": "markdown",
      "source": [
        "# **Conclusion**"
      ],
      "metadata": {
        "id": "gCX9965dhzqZ"
      }
    },
    {
      "cell_type": "markdown",
      "source": [
        "We will categorize our conclusion into 2 parts:"
      ],
      "metadata": {
        "id": "Fjb1IsQkh3yE"
      }
    },
    {
      "cell_type": "markdown",
      "source": [
        "#### 1. General Recommendations"
      ],
      "metadata": {
        "id": "YeTrUGQhtkB8"
      }
    },
    {
      "cell_type": "markdown",
      "source": [
        "To increase repeat purchase of customers in retail chain stores, we can implement several general and proven strategies that work well for a majority of the stores in general. These strategies are as follows.\n",
        "\n",
        "<br>\n",
        "\n",
        "1. To increase repeat purchases:\n",
        "* Offer loyalty programs that reward customers for making repeat purchases.\n",
        "* Send personalized emails or SMS with special discounts or promotions to encourage customers to make another purchase.\n",
        "* Offer free shipping or other perks to incentivize repeat purchases.\n",
        "* Use retargeting ads to show customers ads for products they previously purchased or viewed on your website.\n",
        "\n",
        "<br>\n",
        "\n",
        "2. Reviving customers who have not shopped in a while:\n",
        "* Send personalized emails or SMS messages to customers who have not shopped in a while, offering them a special discount or promotion to encourage them to return.\n",
        "* Use retargeting ads to show ads to customers who have not shopped in a while, offering them a special promotion or discount.\n",
        "* Conduct a survey to understand why the customer has not shopped in a while and use that feedback to make changes to the customer experience.\n",
        "\n",
        "<br>\n",
        "\n",
        "3. Keeping active customers engaged:\n",
        "* Use personalized emails or SMS messages to keep active customers informed about new products or promotions.\n",
        "* Offer exclusive discounts or promotions to active customers to reward their loyalty.\n",
        "* Encourage customers to leave product reviews and engage with them by responding to their feedback.\n",
        "\n",
        "<br>\n",
        "\n",
        "4. Identifying areas where customers can spend more on each visit:\n",
        "* Offer product bundles or package deals to encourage customers to purchase more.\n",
        "* Use upselling techniques by suggesting complementary products to customers.\n",
        "* Offer personalized product recommendations based on customers' purchase history and browsing behavior.\n",
        "* Train store associates to provide exceptional customer service and to make personalized product recommendations to customers.\n",
        "\n",
        "<br>\n",
        "\n",
        "5. Other recommendations:\n",
        "* Offer personalized product recommendations based on customers' preferences and purchase history.\n",
        "* Conduct surveys to understand customer preferences and use that feedback to make changes to the customer experience.\n",
        "* Create a social media presence and engage with customers on social media platforms to build a loyal customer base.\n",
        "* Offer exclusive deals and promotions to customers who refer their friends and family to your store."
      ],
      "metadata": {
        "id": "cUVhtaQ-t0fu"
      }
    },
    {
      "cell_type": "markdown",
      "source": [
        "#### 2. Project relevant recommendations"
      ],
      "metadata": {
        "id": "lfuccKcYtjwk"
      }
    },
    {
      "cell_type": "markdown",
      "source": [
        "Based on the analysis and recommendations provided in the project, and considering the importance of customer retention and increasing sales, the following recommendations can be made:\n",
        "\n",
        "1. Implement a loyalty program: A loyalty program can be introduced for regular customers to encourage repeat purchases. This program can offer exclusive discounts, free gifts, and special offers to customers who make frequent purchases. This will encourage customers to continue shopping with the brand and increase their lifetime value.\n",
        "\n",
        "2. Personalized offers: The stores can offer personalized offers to customers based on their purchase history and preferences. This can be done by using data analytics and machine learning algorithms to analyze customer data and provide targeted offers. This will make customers feel valued and appreciated, which can lead to increased customer loyalty and retention.\n",
        "\n",
        "3. Reactivation campaigns: For customers who have not shopped for a while, targeted reactivation campaigns can be run. These campaigns can offer special discounts and promotions to encourage these customers to shop again. The reactivation campaigns should be personalized and designed to win back the customer's attention.\n",
        "\n",
        "4. Cross-selling and upselling: To identify areas where customers can spend more on each visit, cross-selling and upselling techniques can be implemented. This can be done by suggesting complementary products, offering bundled deals, or providing personalized recommendations based on the customer's purchase history. This will encourage customers to spend more on each visit, thereby increasing sales.\n",
        "\n",
        "5. Targeted marketing campaigns: Targeted marketing campaigns can be created for different customer segments based on their purchasing behavior and preferences. For example, campaigns can be created to target high-value customers or customers who have not made a purchase in a while. These campaigns can offer personalized offers and promotions to encourage customers to make a purchase.\n",
        "\n",
        "6. Improve customer service: Improving customer service can have a significant impact on customer satisfaction and retention. Stores can provide training to staff members to improve their communication and interpersonal skills. Customers should be treated with respect and provided with a seamless shopping experience to encourage them to return to the store.\n",
        "\n",
        "Overall, the key to successful customer retention and increasing sales is to provide a personalized shopping experience to customers. By analyzing customer data and using machine learning algorithms, stores can provide personalized recommendations and offers that are tailored to individual customers. Additionally, by improving customer service and implementing loyalty programs, stores can create a loyal customer base that will continue to shop with the brand over the long term."
      ],
      "metadata": {
        "id": "M0DQyiLgt1sP"
      }
    },
    {
      "cell_type": "markdown",
      "source": [
        "### ***Project Completed.***"
      ],
      "metadata": {
        "id": "gIfDvo9L0UH2"
      }
    }
  ]
}